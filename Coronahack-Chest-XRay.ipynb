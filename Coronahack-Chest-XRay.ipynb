{
 "cells": [
  {
   "cell_type": "code",
   "execution_count": 1,
   "id": "6e19eee0",
   "metadata": {
    "execution": {
     "iopub.execute_input": "2022-08-29T11:33:01.322965Z",
     "iopub.status.busy": "2022-08-29T11:33:01.322407Z",
     "iopub.status.idle": "2022-08-29T11:33:07.614684Z",
     "shell.execute_reply": "2022-08-29T11:33:07.613574Z"
    },
    "id": "jh-e6e1jIB19",
    "papermill": {
     "duration": 6.309753,
     "end_time": "2022-08-29T11:33:07.617341",
     "exception": false,
     "start_time": "2022-08-29T11:33:01.307588",
     "status": "completed"
    },
    "tags": []
   },
   "outputs": [],
   "source": [
    "from tensorflow.keras.preprocessing.image import load_img,img_to_array\n",
    "from tensorflow.keras.layers import Dense,Conv2D,MaxPooling2D,Flatten\n",
    "from tensorflow.keras.models import Sequential\n",
    "import pandas as pd\n",
    "import numpy as np\n",
    "import seaborn as sns\n",
    "import matplotlib.pyplot as plt\n",
    "import os"
   ]
  },
  {
   "cell_type": "code",
   "execution_count": 2,
   "id": "7ef7d7d1",
   "metadata": {
    "execution": {
     "iopub.execute_input": "2022-08-29T11:33:07.642472Z",
     "iopub.status.busy": "2022-08-29T11:33:07.641268Z",
     "iopub.status.idle": "2022-08-29T11:33:07.646403Z",
     "shell.execute_reply": "2022-08-29T11:33:07.645573Z"
    },
    "papermill": {
     "duration": 0.019299,
     "end_time": "2022-08-29T11:33:07.648389",
     "exception": false,
     "start_time": "2022-08-29T11:33:07.629090",
     "status": "completed"
    },
    "tags": []
   },
   "outputs": [],
   "source": [
    "#for dirname, _, filenames in os.walk('/kaggle/input'):\n",
    " #   for filename in filenames:\n",
    "  #      print(os.path.join(dirname, filename))"
   ]
  },
  {
   "cell_type": "code",
   "execution_count": 3,
   "id": "5a2464d9",
   "metadata": {
    "execution": {
     "iopub.execute_input": "2022-08-29T11:33:07.674825Z",
     "iopub.status.busy": "2022-08-29T11:33:07.673938Z",
     "iopub.status.idle": "2022-08-29T11:33:07.698069Z",
     "shell.execute_reply": "2022-08-29T11:33:07.697223Z"
    },
    "id": "vHowHWWRJAGA",
    "papermill": {
     "duration": 0.038912,
     "end_time": "2022-08-29T11:33:07.700005",
     "exception": false,
     "start_time": "2022-08-29T11:33:07.661093",
     "status": "completed"
    },
    "tags": []
   },
   "outputs": [],
   "source": [
    "df=pd.read_csv('../input/coronahack-chest-xraydataset/Chest_xray_Corona_Metadata.csv')"
   ]
  },
  {
   "cell_type": "code",
   "execution_count": 4,
   "id": "83cfdfbb",
   "metadata": {
    "execution": {
     "iopub.execute_input": "2022-08-29T11:33:07.724316Z",
     "iopub.status.busy": "2022-08-29T11:33:07.723501Z",
     "iopub.status.idle": "2022-08-29T11:33:07.741253Z",
     "shell.execute_reply": "2022-08-29T11:33:07.740325Z"
    },
    "id": "HEJLRKDLIZqt",
    "outputId": "00dfe13d-b02c-46f4-8218-7eedcabbe44d",
    "papermill": {
     "duration": 0.032056,
     "end_time": "2022-08-29T11:33:07.743412",
     "exception": false,
     "start_time": "2022-08-29T11:33:07.711356",
     "status": "completed"
    },
    "tags": []
   },
   "outputs": [
    {
     "data": {
      "text/html": [
       "<div>\n",
       "<style scoped>\n",
       "    .dataframe tbody tr th:only-of-type {\n",
       "        vertical-align: middle;\n",
       "    }\n",
       "\n",
       "    .dataframe tbody tr th {\n",
       "        vertical-align: top;\n",
       "    }\n",
       "\n",
       "    .dataframe thead th {\n",
       "        text-align: right;\n",
       "    }\n",
       "</style>\n",
       "<table border=\"1\" class=\"dataframe\">\n",
       "  <thead>\n",
       "    <tr style=\"text-align: right;\">\n",
       "      <th></th>\n",
       "      <th>Unnamed: 0</th>\n",
       "      <th>X_ray_image_name</th>\n",
       "      <th>Label</th>\n",
       "      <th>Dataset_type</th>\n",
       "      <th>Label_2_Virus_category</th>\n",
       "      <th>Label_1_Virus_category</th>\n",
       "    </tr>\n",
       "  </thead>\n",
       "  <tbody>\n",
       "    <tr>\n",
       "      <th>0</th>\n",
       "      <td>0</td>\n",
       "      <td>IM-0128-0001.jpeg</td>\n",
       "      <td>Normal</td>\n",
       "      <td>TRAIN</td>\n",
       "      <td>NaN</td>\n",
       "      <td>NaN</td>\n",
       "    </tr>\n",
       "    <tr>\n",
       "      <th>1</th>\n",
       "      <td>1</td>\n",
       "      <td>IM-0127-0001.jpeg</td>\n",
       "      <td>Normal</td>\n",
       "      <td>TRAIN</td>\n",
       "      <td>NaN</td>\n",
       "      <td>NaN</td>\n",
       "    </tr>\n",
       "    <tr>\n",
       "      <th>2</th>\n",
       "      <td>2</td>\n",
       "      <td>IM-0125-0001.jpeg</td>\n",
       "      <td>Normal</td>\n",
       "      <td>TRAIN</td>\n",
       "      <td>NaN</td>\n",
       "      <td>NaN</td>\n",
       "    </tr>\n",
       "    <tr>\n",
       "      <th>3</th>\n",
       "      <td>3</td>\n",
       "      <td>IM-0122-0001.jpeg</td>\n",
       "      <td>Normal</td>\n",
       "      <td>TRAIN</td>\n",
       "      <td>NaN</td>\n",
       "      <td>NaN</td>\n",
       "    </tr>\n",
       "    <tr>\n",
       "      <th>4</th>\n",
       "      <td>4</td>\n",
       "      <td>IM-0119-0001.jpeg</td>\n",
       "      <td>Normal</td>\n",
       "      <td>TRAIN</td>\n",
       "      <td>NaN</td>\n",
       "      <td>NaN</td>\n",
       "    </tr>\n",
       "  </tbody>\n",
       "</table>\n",
       "</div>"
      ],
      "text/plain": [
       "   Unnamed: 0   X_ray_image_name   Label Dataset_type Label_2_Virus_category  \\\n",
       "0           0  IM-0128-0001.jpeg  Normal        TRAIN                    NaN   \n",
       "1           1  IM-0127-0001.jpeg  Normal        TRAIN                    NaN   \n",
       "2           2  IM-0125-0001.jpeg  Normal        TRAIN                    NaN   \n",
       "3           3  IM-0122-0001.jpeg  Normal        TRAIN                    NaN   \n",
       "4           4  IM-0119-0001.jpeg  Normal        TRAIN                    NaN   \n",
       "\n",
       "  Label_1_Virus_category  \n",
       "0                    NaN  \n",
       "1                    NaN  \n",
       "2                    NaN  \n",
       "3                    NaN  \n",
       "4                    NaN  "
      ]
     },
     "execution_count": 4,
     "metadata": {},
     "output_type": "execute_result"
    }
   ],
   "source": [
    "df.head()"
   ]
  },
  {
   "cell_type": "code",
   "execution_count": 5,
   "id": "67d5230d",
   "metadata": {
    "execution": {
     "iopub.execute_input": "2022-08-29T11:33:07.768011Z",
     "iopub.status.busy": "2022-08-29T11:33:07.767732Z",
     "iopub.status.idle": "2022-08-29T11:33:07.773354Z",
     "shell.execute_reply": "2022-08-29T11:33:07.772421Z"
    },
    "id": "4_ffHKZ2Lc4j",
    "outputId": "129631fa-e120-45a8-c206-c02056d00a74",
    "papermill": {
     "duration": 0.019706,
     "end_time": "2022-08-29T11:33:07.775252",
     "exception": false,
     "start_time": "2022-08-29T11:33:07.755546",
     "status": "completed"
    },
    "tags": []
   },
   "outputs": [
    {
     "data": {
      "text/plain": [
       "(5910, 6)"
      ]
     },
     "execution_count": 5,
     "metadata": {},
     "output_type": "execute_result"
    }
   ],
   "source": [
    "df.shape  "
   ]
  },
  {
   "cell_type": "code",
   "execution_count": 6,
   "id": "2cfc71e6",
   "metadata": {
    "execution": {
     "iopub.execute_input": "2022-08-29T11:33:07.799981Z",
     "iopub.status.busy": "2022-08-29T11:33:07.799209Z",
     "iopub.status.idle": "2022-08-29T11:33:07.821073Z",
     "shell.execute_reply": "2022-08-29T11:33:07.819446Z"
    },
    "id": "KEdwb2AiLgTN",
    "outputId": "e530190e-e282-4aa6-9ec1-c5f7625cc3ae",
    "papermill": {
     "duration": 0.036742,
     "end_time": "2022-08-29T11:33:07.823501",
     "exception": false,
     "start_time": "2022-08-29T11:33:07.786759",
     "status": "completed"
    },
    "tags": []
   },
   "outputs": [
    {
     "name": "stdout",
     "output_type": "stream",
     "text": [
      "<class 'pandas.core.frame.DataFrame'>\n",
      "RangeIndex: 5910 entries, 0 to 5909\n",
      "Data columns (total 6 columns):\n",
      " #   Column                  Non-Null Count  Dtype \n",
      "---  ------                  --------------  ----- \n",
      " 0   Unnamed: 0              5910 non-null   int64 \n",
      " 1   X_ray_image_name        5910 non-null   object\n",
      " 2   Label                   5910 non-null   object\n",
      " 3   Dataset_type            5910 non-null   object\n",
      " 4   Label_2_Virus_category  69 non-null     object\n",
      " 5   Label_1_Virus_category  4334 non-null   object\n",
      "dtypes: int64(1), object(5)\n",
      "memory usage: 277.2+ KB\n"
     ]
    }
   ],
   "source": [
    "df.info()"
   ]
  },
  {
   "cell_type": "code",
   "execution_count": 7,
   "id": "6bda1b0f",
   "metadata": {
    "execution": {
     "iopub.execute_input": "2022-08-29T11:33:07.848894Z",
     "iopub.status.busy": "2022-08-29T11:33:07.848611Z",
     "iopub.status.idle": "2022-08-29T11:33:07.856790Z",
     "shell.execute_reply": "2022-08-29T11:33:07.855895Z"
    },
    "id": "b3_qEu-_Mlb_",
    "outputId": "63224ee1-73b9-41bc-d52b-230ce3aee269",
    "papermill": {
     "duration": 0.022764,
     "end_time": "2022-08-29T11:33:07.858768",
     "exception": false,
     "start_time": "2022-08-29T11:33:07.836004",
     "status": "completed"
    },
    "tags": []
   },
   "outputs": [
    {
     "data": {
      "text/plain": [
       "TRAIN    5286\n",
       "TEST      624\n",
       "Name: Dataset_type, dtype: int64"
      ]
     },
     "execution_count": 7,
     "metadata": {},
     "output_type": "execute_result"
    }
   ],
   "source": [
    "df['Dataset_type'].value_counts()"
   ]
  },
  {
   "cell_type": "code",
   "execution_count": 8,
   "id": "04a67b5d",
   "metadata": {
    "execution": {
     "iopub.execute_input": "2022-08-29T11:33:07.883704Z",
     "iopub.status.busy": "2022-08-29T11:33:07.882969Z",
     "iopub.status.idle": "2022-08-29T11:33:07.894942Z",
     "shell.execute_reply": "2022-08-29T11:33:07.893818Z"
    },
    "id": "PiQbsKh4MtYT",
    "outputId": "726c3c7e-2305-4be3-e167-1c96503b1119",
    "papermill": {
     "duration": 0.02714,
     "end_time": "2022-08-29T11:33:07.897501",
     "exception": false,
     "start_time": "2022-08-29T11:33:07.870361",
     "status": "completed"
    },
    "tags": []
   },
   "outputs": [
    {
     "name": "stdout",
     "output_type": "stream",
     "text": [
      "train_shape : (5286, 6)\n",
      "test_shape : (624, 6)\n"
     ]
    }
   ],
   "source": [
    "train_df=df[df['Dataset_type']=='TRAIN']\n",
    "test_df=df[df['Dataset_type']=='TEST']\n",
    "print('train_shape :',train_df.shape)\n",
    "print('test_shape :',test_df.shape)\n",
    "train_df=train_df[['X_ray_image_name','Label','Label_2_Virus_category','Label_1_Virus_category']]\n",
    "test_df=test_df[['X_ray_image_name','Label','Label_2_Virus_category','Label_1_Virus_category']]"
   ]
  },
  {
   "cell_type": "code",
   "execution_count": 9,
   "id": "3a37e06c",
   "metadata": {
    "execution": {
     "iopub.execute_input": "2022-08-29T11:33:07.923955Z",
     "iopub.status.busy": "2022-08-29T11:33:07.922443Z",
     "iopub.status.idle": "2022-08-29T11:33:07.933995Z",
     "shell.execute_reply": "2022-08-29T11:33:07.932375Z"
    },
    "id": "uYj68mTWOlMw",
    "outputId": "f95ace2f-89ba-44b4-e0ae-be44d0d83c07",
    "papermill": {
     "duration": 0.026951,
     "end_time": "2022-08-29T11:33:07.936877",
     "exception": false,
     "start_time": "2022-08-29T11:33:07.909926",
     "status": "completed"
    },
    "tags": []
   },
   "outputs": [
    {
     "name": "stdout",
     "output_type": "stream",
     "text": [
      "<class 'pandas.core.frame.DataFrame'>\n",
      "Int64Index: 5286 entries, 0 to 5285\n",
      "Data columns (total 4 columns):\n",
      " #   Column                  Non-Null Count  Dtype \n",
      "---  ------                  --------------  ----- \n",
      " 0   X_ray_image_name        5286 non-null   object\n",
      " 1   Label                   5286 non-null   object\n",
      " 2   Label_2_Virus_category  69 non-null     object\n",
      " 3   Label_1_Virus_category  3944 non-null   object\n",
      "dtypes: object(4)\n",
      "memory usage: 206.5+ KB\n"
     ]
    }
   ],
   "source": [
    "train_df.info()"
   ]
  },
  {
   "cell_type": "code",
   "execution_count": 10,
   "id": "f0536c2b",
   "metadata": {
    "execution": {
     "iopub.execute_input": "2022-08-29T11:33:07.963952Z",
     "iopub.status.busy": "2022-08-29T11:33:07.962405Z",
     "iopub.status.idle": "2022-08-29T11:33:07.973282Z",
     "shell.execute_reply": "2022-08-29T11:33:07.972377Z"
    },
    "id": "8Pm_GhvLKvf6",
    "outputId": "90d0e761-295c-475d-d586-f080740a622f",
    "papermill": {
     "duration": 0.026431,
     "end_time": "2022-08-29T11:33:07.976113",
     "exception": false,
     "start_time": "2022-08-29T11:33:07.949682",
     "status": "completed"
    },
    "tags": []
   },
   "outputs": [
    {
     "name": "stdout",
     "output_type": "stream",
     "text": [
      "<class 'pandas.core.frame.DataFrame'>\n",
      "Int64Index: 624 entries, 5286 to 5909\n",
      "Data columns (total 4 columns):\n",
      " #   Column                  Non-Null Count  Dtype \n",
      "---  ------                  --------------  ----- \n",
      " 0   X_ray_image_name        624 non-null    object\n",
      " 1   Label                   624 non-null    object\n",
      " 2   Label_2_Virus_category  0 non-null      object\n",
      " 3   Label_1_Virus_category  390 non-null    object\n",
      "dtypes: object(4)\n",
      "memory usage: 24.4+ KB\n"
     ]
    }
   ],
   "source": [
    "test_df.info()"
   ]
  },
  {
   "cell_type": "code",
   "execution_count": 11,
   "id": "a5dd3fc8",
   "metadata": {
    "execution": {
     "iopub.execute_input": "2022-08-29T11:33:08.001979Z",
     "iopub.status.busy": "2022-08-29T11:33:08.001194Z",
     "iopub.status.idle": "2022-08-29T11:33:08.019329Z",
     "shell.execute_reply": "2022-08-29T11:33:08.018123Z"
    },
    "id": "s5BrwB4Yj_fB",
    "outputId": "a3a54dcd-5688-4551-ee66-b858ef4a051e",
    "papermill": {
     "duration": 0.033568,
     "end_time": "2022-08-29T11:33:08.021722",
     "exception": false,
     "start_time": "2022-08-29T11:33:07.988154",
     "status": "completed"
    },
    "tags": []
   },
   "outputs": [
    {
     "data": {
      "text/html": [
       "<div>\n",
       "<style scoped>\n",
       "    .dataframe tbody tr th:only-of-type {\n",
       "        vertical-align: middle;\n",
       "    }\n",
       "\n",
       "    .dataframe tbody tr th {\n",
       "        vertical-align: top;\n",
       "    }\n",
       "\n",
       "    .dataframe thead th {\n",
       "        text-align: right;\n",
       "    }\n",
       "</style>\n",
       "<table border=\"1\" class=\"dataframe\">\n",
       "  <thead>\n",
       "    <tr style=\"text-align: right;\">\n",
       "      <th></th>\n",
       "      <th>X_ray_image_name</th>\n",
       "      <th>Label</th>\n",
       "      <th>Label_2_Virus_category</th>\n",
       "      <th>Label_1_Virus_category</th>\n",
       "    </tr>\n",
       "  </thead>\n",
       "  <tbody>\n",
       "    <tr>\n",
       "      <th>count</th>\n",
       "      <td>5286</td>\n",
       "      <td>5286</td>\n",
       "      <td>69</td>\n",
       "      <td>3944</td>\n",
       "    </tr>\n",
       "    <tr>\n",
       "      <th>unique</th>\n",
       "      <td>5286</td>\n",
       "      <td>2</td>\n",
       "      <td>4</td>\n",
       "      <td>3</td>\n",
       "    </tr>\n",
       "    <tr>\n",
       "      <th>top</th>\n",
       "      <td>IM-0128-0001.jpeg</td>\n",
       "      <td>Pnemonia</td>\n",
       "      <td>COVID-19</td>\n",
       "      <td>bacteria</td>\n",
       "    </tr>\n",
       "    <tr>\n",
       "      <th>freq</th>\n",
       "      <td>1</td>\n",
       "      <td>3944</td>\n",
       "      <td>58</td>\n",
       "      <td>2535</td>\n",
       "    </tr>\n",
       "  </tbody>\n",
       "</table>\n",
       "</div>"
      ],
      "text/plain": [
       "         X_ray_image_name     Label Label_2_Virus_category  \\\n",
       "count                5286      5286                     69   \n",
       "unique               5286         2                      4   \n",
       "top     IM-0128-0001.jpeg  Pnemonia               COVID-19   \n",
       "freq                    1      3944                     58   \n",
       "\n",
       "       Label_1_Virus_category  \n",
       "count                    3944  \n",
       "unique                      3  \n",
       "top                  bacteria  \n",
       "freq                     2535  "
      ]
     },
     "execution_count": 11,
     "metadata": {},
     "output_type": "execute_result"
    }
   ],
   "source": [
    "train_df.describe()"
   ]
  },
  {
   "cell_type": "code",
   "execution_count": 12,
   "id": "68bd5047",
   "metadata": {
    "execution": {
     "iopub.execute_input": "2022-08-29T11:33:08.047812Z",
     "iopub.status.busy": "2022-08-29T11:33:08.046801Z",
     "iopub.status.idle": "2022-08-29T11:33:08.264693Z",
     "shell.execute_reply": "2022-08-29T11:33:08.263759Z"
    },
    "id": "873bkhceLgV4",
    "outputId": "6753be86-327d-46e8-9627-5016113cfcbf",
    "papermill": {
     "duration": 0.232446,
     "end_time": "2022-08-29T11:33:08.266704",
     "exception": false,
     "start_time": "2022-08-29T11:33:08.034258",
     "status": "completed"
    },
    "tags": []
   },
   "outputs": [
    {
     "name": "stderr",
     "output_type": "stream",
     "text": [
      "/opt/conda/lib/python3.7/site-packages/seaborn/_decorators.py:43: FutureWarning: Pass the following variable as a keyword arg: x. From version 0.12, the only valid positional argument will be `data`, and passing other arguments without an explicit keyword will result in an error or misinterpretation.\n",
      "  FutureWarning\n"
     ]
    },
    {
     "data": {
      "text/plain": [
       "<AxesSubplot:xlabel='Label', ylabel='count'>"
      ]
     },
     "execution_count": 12,
     "metadata": {},
     "output_type": "execute_result"
    },
    {
     "data": {
      "image/png": "[encoded data removed]",
      "text/plain": [
       "<Figure size 432x288 with 1 Axes>"
      ]
     },
     "metadata": {
      "needs_background": "light"
     },
     "output_type": "display_data"
    }
   ],
   "source": [
    "sns.countplot(train_df['Label'])"
   ]
  },
  {
   "cell_type": "code",
   "execution_count": 13,
   "id": "597ec237",
   "metadata": {
    "execution": {
     "iopub.execute_input": "2022-08-29T11:33:08.293035Z",
     "iopub.status.busy": "2022-08-29T11:33:08.292255Z",
     "iopub.status.idle": "2022-08-29T11:33:08.474062Z",
     "shell.execute_reply": "2022-08-29T11:33:08.473212Z"
    },
    "id": "x5UGrvJ9K4qs",
    "outputId": "9c04eed3-52fb-488d-dbca-11403c7e6452",
    "papermill": {
     "duration": 0.196849,
     "end_time": "2022-08-29T11:33:08.476044",
     "exception": false,
     "start_time": "2022-08-29T11:33:08.279195",
     "status": "completed"
    },
    "tags": []
   },
   "outputs": [
    {
     "name": "stderr",
     "output_type": "stream",
     "text": [
      "/opt/conda/lib/python3.7/site-packages/seaborn/_decorators.py:43: FutureWarning: Pass the following variable as a keyword arg: x. From version 0.12, the only valid positional argument will be `data`, and passing other arguments without an explicit keyword will result in an error or misinterpretation.\n",
      "  FutureWarning\n"
     ]
    },
    {
     "data": {
      "text/plain": [
       "<AxesSubplot:xlabel='Label', ylabel='count'>"
      ]
     },
     "execution_count": 13,
     "metadata": {},
     "output_type": "execute_result"
    },
    {
     "data": {
      "image/png": "[encoded data removed]",
      "text/plain": [
       "<Figure size 432x288 with 1 Axes>"
      ]
     },
     "metadata": {
      "needs_background": "light"
     },
     "output_type": "display_data"
    }
   ],
   "source": [
    "sns.countplot(test_df['Label'])"
   ]
  },
  {
   "cell_type": "code",
   "execution_count": 14,
   "id": "d4f929ea",
   "metadata": {
    "execution": {
     "iopub.execute_input": "2022-08-29T11:33:08.503084Z",
     "iopub.status.busy": "2022-08-29T11:33:08.502196Z",
     "iopub.status.idle": "2022-08-29T11:33:08.701963Z",
     "shell.execute_reply": "2022-08-29T11:33:08.701065Z"
    },
    "id": "25QGmoq6MNLq",
    "outputId": "975826d0-0a15-4709-a07b-ad59fc52e7e0",
    "papermill": {
     "duration": 0.215457,
     "end_time": "2022-08-29T11:33:08.704200",
     "exception": false,
     "start_time": "2022-08-29T11:33:08.488743",
     "status": "completed"
    },
    "tags": []
   },
   "outputs": [
    {
     "name": "stderr",
     "output_type": "stream",
     "text": [
      "/opt/conda/lib/python3.7/site-packages/seaborn/_decorators.py:43: FutureWarning: Pass the following variable as a keyword arg: x. From version 0.12, the only valid positional argument will be `data`, and passing other arguments without an explicit keyword will result in an error or misinterpretation.\n",
      "  FutureWarning\n"
     ]
    },
    {
     "data": {
      "text/plain": [
       "<AxesSubplot:xlabel='Label_2_Virus_category', ylabel='count'>"
      ]
     },
     "execution_count": 14,
     "metadata": {},
     "output_type": "execute_result"
    },
    {
     "data": {
      "image/png": "[encoded data removed]",
      "text/plain": [
       "<Figure size 432x288 with 1 Axes>"
      ]
     },
     "metadata": {
      "needs_background": "light"
     },
     "output_type": "display_data"
    }
   ],
   "source": [
    "sns.countplot(train_df['Label_2_Virus_category'])"
   ]
  },
  {
   "cell_type": "code",
   "execution_count": 15,
   "id": "865e09ec",
   "metadata": {
    "execution": {
     "iopub.execute_input": "2022-08-29T11:33:08.732944Z",
     "iopub.status.busy": "2022-08-29T11:33:08.731332Z",
     "iopub.status.idle": "2022-08-29T11:33:08.916188Z",
     "shell.execute_reply": "2022-08-29T11:33:08.915292Z"
    },
    "id": "ARRDhTKdLgYN",
    "outputId": "03f47bfe-3eda-44a0-9862-90060d76e0e2",
    "papermill": {
     "duration": 0.201014,
     "end_time": "2022-08-29T11:33:08.918341",
     "exception": false,
     "start_time": "2022-08-29T11:33:08.717327",
     "status": "completed"
    },
    "tags": []
   },
   "outputs": [
    {
     "name": "stderr",
     "output_type": "stream",
     "text": [
      "/opt/conda/lib/python3.7/site-packages/seaborn/_decorators.py:43: FutureWarning: Pass the following variable as a keyword arg: x. From version 0.12, the only valid positional argument will be `data`, and passing other arguments without an explicit keyword will result in an error or misinterpretation.\n",
      "  FutureWarning\n"
     ]
    },
    {
     "data": {
      "text/plain": [
       "<AxesSubplot:xlabel='Label_1_Virus_category', ylabel='count'>"
      ]
     },
     "execution_count": 15,
     "metadata": {},
     "output_type": "execute_result"
    },
    {
     "data": {
      "image/png": "[encoded data removed]",
      "text/plain": [
       "<Figure size 432x288 with 1 Axes>"
      ]
     },
     "metadata": {
      "needs_background": "light"
     },
     "output_type": "display_data"
    }
   ],
   "source": [
    "sns.countplot(train_df['Label_1_Virus_category'])"
   ]
  },
  {
   "cell_type": "code",
   "execution_count": 16,
   "id": "f3b6f4d2",
   "metadata": {
    "execution": {
     "iopub.execute_input": "2022-08-29T11:33:08.947435Z",
     "iopub.status.busy": "2022-08-29T11:33:08.946617Z",
     "iopub.status.idle": "2022-08-29T11:33:09.205859Z",
     "shell.execute_reply": "2022-08-29T11:33:09.204764Z"
    },
    "id": "CLra98UfLgbs",
    "outputId": "81d5a054-251a-438b-9793-153af596629c",
    "papermill": {
     "duration": 0.276026,
     "end_time": "2022-08-29T11:33:09.208175",
     "exception": false,
     "start_time": "2022-08-29T11:33:08.932149",
     "status": "completed"
    },
    "tags": []
   },
   "outputs": [
    {
     "name": "stderr",
     "output_type": "stream",
     "text": [
      "/opt/conda/lib/python3.7/site-packages/seaborn/_decorators.py:43: FutureWarning: Pass the following variable as a keyword arg: x. From version 0.12, the only valid positional argument will be `data`, and passing other arguments without an explicit keyword will result in an error or misinterpretation.\n",
      "  FutureWarning\n"
     ]
    },
    {
     "data": {
      "text/plain": [
       "<AxesSubplot:xlabel='Label_1_Virus_category', ylabel='count'>"
      ]
     },
     "execution_count": 16,
     "metadata": {},
     "output_type": "execute_result"
    },
    {
     "data": {
      "image/png": "[encoded data removed]",
      "text/plain": [
       "<Figure size 432x288 with 1 Axes>"
      ]
     },
     "metadata": {
      "needs_background": "light"
     },
     "output_type": "display_data"
    }
   ],
   "source": [
    "sns.countplot(train_df['Label_1_Virus_category'],hue=train_df['Label_2_Virus_category'])"
   ]
  },
  {
   "cell_type": "code",
   "execution_count": 17,
   "id": "21295c86",
   "metadata": {
    "execution": {
     "iopub.execute_input": "2022-08-29T11:33:09.239317Z",
     "iopub.status.busy": "2022-08-29T11:33:09.237613Z",
     "iopub.status.idle": "2022-08-29T11:33:09.603383Z",
     "shell.execute_reply": "2022-08-29T11:33:09.602517Z"
    },
    "id": "3eMjA_uqQ-tf",
    "outputId": "3c0da758-67c6-4e63-bfb0-30241986092e",
    "papermill": {
     "duration": 0.383431,
     "end_time": "2022-08-29T11:33:09.605671",
     "exception": false,
     "start_time": "2022-08-29T11:33:09.222240",
     "status": "completed"
    },
    "tags": []
   },
   "outputs": [
    {
     "data": {
      "text/plain": [
       "<AxesSubplot:>"
      ]
     },
     "execution_count": 17,
     "metadata": {},
     "output_type": "execute_result"
    },
    {
     "data": {
      "image/png": "[encoded data removed]",
      "text/plain": [
       "<Figure size 432x288 with 2 Axes>"
      ]
     },
     "metadata": {
      "needs_background": "light"
     },
     "output_type": "display_data"
    }
   ],
   "source": [
    "sns.heatmap(train_df.isna())"
   ]
  },
  {
   "cell_type": "code",
   "execution_count": 18,
   "id": "fdf25a4e",
   "metadata": {
    "execution": {
     "iopub.execute_input": "2022-08-29T11:33:09.636191Z",
     "iopub.status.busy": "2022-08-29T11:33:09.635359Z",
     "iopub.status.idle": "2022-08-29T11:33:10.140863Z",
     "shell.execute_reply": "2022-08-29T11:33:10.139967Z"
    },
    "id": "Pxi8I5h4R7wc",
    "outputId": "b2c9604f-cc48-4e28-9a89-c9b108fb1b1e",
    "papermill": {
     "duration": 0.523131,
     "end_time": "2022-08-29T11:33:10.143034",
     "exception": false,
     "start_time": "2022-08-29T11:33:09.619903",
     "status": "completed"
    },
    "tags": []
   },
   "outputs": [
    {
     "data": {
      "text/plain": [
       "<seaborn.axisgrid.FacetGrid at 0x7f79b5639290>"
      ]
     },
     "execution_count": 18,
     "metadata": {},
     "output_type": "execute_result"
    },
    {
     "data": {
      "image/png": "[encoded data removed]",
      "text/plain": [
       "<Figure size 485.5x360 with 1 Axes>"
      ]
     },
     "metadata": {
      "needs_background": "light"
     },
     "output_type": "display_data"
    }
   ],
   "source": [
    "sns.displot(x=train_df['Label_1_Virus_category'],hue=train_df['Label_2_Virus_category'],multiple=\"stack\")"
   ]
  },
  {
   "cell_type": "markdown",
   "id": "592d6137",
   "metadata": {
    "id": "VHUEQCKXXK-j",
    "papermill": {
     "duration": 0.015568,
     "end_time": "2022-08-29T11:33:10.173670",
     "exception": false,
     "start_time": "2022-08-29T11:33:10.158102",
     "status": "completed"
    },
    "tags": []
   },
   "source": [
    "#### Observation :\n",
    "##### - We see that SARS and COVID-19 are Virus.\n",
    "##### - We see that Streptococcus is a bacteria.\n",
    "##### - We see that ARDS is a Stress-Smoking.\n",
    "\n",
    "##### .\n",
    "##### - We have 5 groups:\n",
    "#####    *G1: \"Normal\"\n",
    "#####    *G2: \"Covid-19\"      (penemonia /virus)\n",
    "#####    *G3: \"SARS\"          (penemonia /virus)\n",
    "#####    *G4: \"Streptococcus\" (penemonia / bacteria )\n",
    "#####    *G5: \"ARDS\"          (penemonia / Stress-Smoking)\n",
    "\n",
    "\n"
   ]
  },
  {
   "cell_type": "code",
   "execution_count": 19,
   "id": "6d37e0be",
   "metadata": {
    "execution": {
     "iopub.execute_input": "2022-08-29T11:33:10.204955Z",
     "iopub.status.busy": "2022-08-29T11:33:10.203418Z",
     "iopub.status.idle": "2022-08-29T11:33:10.211210Z",
     "shell.execute_reply": "2022-08-29T11:33:10.210204Z"
    },
    "id": "C5jsYQdEbiW4",
    "outputId": "ca33d96f-02ae-4420-e0ed-d4459d30eee3",
    "papermill": {
     "duration": 0.025152,
     "end_time": "2022-08-29T11:33:10.213204",
     "exception": false,
     "start_time": "2022-08-29T11:33:10.188052",
     "status": "completed"
    },
    "tags": []
   },
   "outputs": [
    {
     "data": {
      "text/plain": [
       "array([nan, 'Streptococcus', 'COVID-19', 'ARDS', 'SARS'], dtype=object)"
      ]
     },
     "execution_count": 19,
     "metadata": {},
     "output_type": "execute_result"
    }
   ],
   "source": [
    "train_df['Label_2_Virus_category'].unique()"
   ]
  },
  {
   "cell_type": "code",
   "execution_count": 20,
   "id": "baa9c51f",
   "metadata": {
    "execution": {
     "iopub.execute_input": "2022-08-29T11:33:10.243945Z",
     "iopub.status.busy": "2022-08-29T11:33:10.243640Z",
     "iopub.status.idle": "2022-08-29T11:33:10.338280Z",
     "shell.execute_reply": "2022-08-29T11:33:10.336910Z"
    },
    "id": "x519A10Wip8n",
    "outputId": "5b4b3b7f-b8c1-4ded-a053-5221f68570d8",
    "papermill": {
     "duration": 0.114636,
     "end_time": "2022-08-29T11:33:10.342101",
     "exception": false,
     "start_time": "2022-08-29T11:33:10.227465",
     "status": "completed"
    },
    "tags": []
   },
   "outputs": [
    {
     "data": {
      "text/plain": [
       "([<matplotlib.patches.Wedge at 0x7f79b550f750>,\n",
       "  <matplotlib.patches.Wedge at 0x7f79b550fe50>],\n",
       " [Text(-0.7682833087364032, 0.7872361510481113, 'Pnemonia'),\n",
       "  Text(0.768283308736403, -0.7872361510481114, 'Normal')],\n",
       " [Text(-0.41906362294712896, 0.4294015369353334, '74.6%'),\n",
       "  Text(0.4190636229471289, -0.42940153693533345, '25.4%')])"
      ]
     },
     "execution_count": 20,
     "metadata": {},
     "output_type": "execute_result"
    },
    {
     "data": {
      "image/png": "[encoded data removed]",
      "text/plain": [
       "<Figure size 432x288 with 1 Axes>"
      ]
     },
     "metadata": {},
     "output_type": "display_data"
    }
   ],
   "source": [
    "values=train_df['Label'].value_counts()\n",
    "plt.pie(values,labels=values.index,autopct='%1.1f%%')"
   ]
  },
  {
   "cell_type": "code",
   "execution_count": 21,
   "id": "c7f91b81",
   "metadata": {
    "execution": {
     "iopub.execute_input": "2022-08-29T11:33:10.427530Z",
     "iopub.status.busy": "2022-08-29T11:33:10.427028Z",
     "iopub.status.idle": "2022-08-29T11:33:10.438523Z",
     "shell.execute_reply": "2022-08-29T11:33:10.437429Z"
    },
    "id": "TJu8QdTZkZjA",
    "outputId": "b5e63f50-af1c-4e5f-f7d1-fbc8e34181ff",
    "papermill": {
     "duration": 0.058088,
     "end_time": "2022-08-29T11:33:10.441863",
     "exception": false,
     "start_time": "2022-08-29T11:33:10.383775",
     "status": "completed"
    },
    "tags": []
   },
   "outputs": [
    {
     "data": {
      "text/plain": [
       "Pnemonia    3944\n",
       "Normal      1342\n",
       "Name: Label, dtype: int64"
      ]
     },
     "execution_count": 21,
     "metadata": {},
     "output_type": "execute_result"
    }
   ],
   "source": [
    "train_df['Label'].value_counts()"
   ]
  },
  {
   "cell_type": "code",
   "execution_count": 22,
   "id": "e63c3e2b",
   "metadata": {
    "execution": {
     "iopub.execute_input": "2022-08-29T11:33:10.473705Z",
     "iopub.status.busy": "2022-08-29T11:33:10.472936Z",
     "iopub.status.idle": "2022-08-29T11:33:10.576707Z",
     "shell.execute_reply": "2022-08-29T11:33:10.575516Z"
    },
    "id": "OSAqILrDbJ1a",
    "outputId": "1fb2066d-525b-4bd2-c774-e54ea8fbad52",
    "papermill": {
     "duration": 0.122169,
     "end_time": "2022-08-29T11:33:10.579586",
     "exception": false,
     "start_time": "2022-08-29T11:33:10.457417",
     "status": "completed"
    },
    "tags": []
   },
   "outputs": [
    {
     "data": {
      "text/plain": [
       "([<matplotlib.patches.Wedge at 0x7f79b5472050>,\n",
       "  <matplotlib.patches.Wedge at 0x7f79b5472750>,\n",
       "  <matplotlib.patches.Wedge at 0x7f79b5472f90>,\n",
       "  <matplotlib.patches.Wedge at 0x7f79b5472c90>],\n",
       " [Text(0.07055716938348751, 1.0977347975939316, 'bacteria'),\n",
       "  Text(-0.8357456734753231, -0.7152126741517371, 'Virus'),\n",
       "  Text(0.7664095872805778, -0.7890604188048052, 'nan'),\n",
       "  Text(1.0999992228142623, -0.0013075962752645842, 'Stress-Smoking')],\n",
       " [Text(0.03848572875462955, 0.5987644350512353, '48.0%'),\n",
       "  Text(-0.4558612764410853, -0.39011600408276564, '26.6%'),\n",
       "  Text(0.41804159306213334, -0.4303965920753482, '25.4%'),\n",
       "  Text(0.5999995760805067, -0.0007132343319625003, '0.0%')])"
      ]
     },
     "execution_count": 22,
     "metadata": {},
     "output_type": "execute_result"
    },
    {
     "data": {
      "image/png": "[encoded data removed]",
      "text/plain": [
       "<Figure size 432x288 with 1 Axes>"
      ]
     },
     "metadata": {},
     "output_type": "display_data"
    }
   ],
   "source": [
    "values=train_df['Label_1_Virus_category'].value_counts(dropna=False)\n",
    "plt.pie(values,labels=values.index,autopct='%1.1f%%')"
   ]
  },
  {
   "cell_type": "code",
   "execution_count": 23,
   "id": "484e5c43",
   "metadata": {
    "execution": {
     "iopub.execute_input": "2022-08-29T11:33:10.663289Z",
     "iopub.status.busy": "2022-08-29T11:33:10.662723Z",
     "iopub.status.idle": "2022-08-29T11:33:10.772739Z",
     "shell.execute_reply": "2022-08-29T11:33:10.771534Z"
    },
    "id": "BE-SHOq7ifAx",
    "outputId": "c4cd0e2f-cf5d-4f90-fa82-19692d9cf83f",
    "papermill": {
     "duration": 0.156105,
     "end_time": "2022-08-29T11:33:10.776136",
     "exception": false,
     "start_time": "2022-08-29T11:33:10.620031",
     "status": "completed"
    },
    "tags": []
   },
   "outputs": [
    {
     "data": {
      "text/plain": [
       "([<matplotlib.patches.Wedge at 0x7f79b543d250>,\n",
       "  <matplotlib.patches.Wedge at 0x7f79b545c9d0>,\n",
       "  <matplotlib.patches.Wedge at 0x7f79b546b250>,\n",
       "  <matplotlib.patches.Wedge at 0x7f79b545cf10>],\n",
       " [Text(-0.9649008268087279, 0.5281726937506647, 'COVID-19'),\n",
       "  Text(0.7866203414173456, -0.7689138043164907, 'Streptococcus'),\n",
       "  Text(1.0278331631843964, -0.39186603407077525, 'SARS'),\n",
       "  Text(1.0954425125670169, -0.10002850424184806, 'ARDS')],\n",
       " [Text(-0.5263095418956697, 0.2880941965912716, '84.1%'),\n",
       "  Text(0.42906564077309756, -0.4194075296271767, '7.2%'),\n",
       "  Text(0.5606362708278526, -0.21374510949315012, '5.8%'),\n",
       "  Text(0.5975140977638274, -0.054561002313735306, '2.9%')])"
      ]
     },
     "execution_count": 23,
     "metadata": {},
     "output_type": "execute_result"
    },
    {
     "data": {
      "image/png": "[encoded data removed]",
      "text/plain": [
       "<Figure size 432x288 with 1 Axes>"
      ]
     },
     "metadata": {},
     "output_type": "display_data"
    }
   ],
   "source": [
    "values=train_df['Label_2_Virus_category'].value_counts()\n",
    "plt.pie(values,labels=values.index,autopct='%1.1f%%')"
   ]
  },
  {
   "cell_type": "code",
   "execution_count": 24,
   "id": "ffd3a3a7",
   "metadata": {
    "execution": {
     "iopub.execute_input": "2022-08-29T11:33:10.861514Z",
     "iopub.status.busy": "2022-08-29T11:33:10.860998Z",
     "iopub.status.idle": "2022-08-29T11:33:10.985656Z",
     "shell.execute_reply": "2022-08-29T11:33:10.983756Z"
    },
    "id": "8U2SDT26mEzr",
    "outputId": "5ae37ae0-396b-41b1-d946-82dcbc9bf729",
    "papermill": {
     "duration": 0.174457,
     "end_time": "2022-08-29T11:33:10.992514",
     "exception": false,
     "start_time": "2022-08-29T11:33:10.818057",
     "status": "completed"
    },
    "tags": []
   },
   "outputs": [
    {
     "data": {
      "text/plain": [
       "([<matplotlib.patches.Wedge at 0x7f79b53b45d0>,\n",
       "  <matplotlib.patches.Wedge at 0x7f79b53c3d50>,\n",
       "  <matplotlib.patches.Wedge at 0x7f79b53d15d0>,\n",
       "  <matplotlib.patches.Wedge at 0x7f79b53d12d0>,\n",
       "  <matplotlib.patches.Wedge at 0x7f79b53df610>],\n",
       " [Text(-1.0990752037851734, 0.045096523420103875, 'nan'),\n",
       "  Text(1.0987568963741297, -0.05228080594530238, 'COVID-19'),\n",
       "  Text(1.099943855490593, -0.011113719831349504, 'Streptococcus'),\n",
       "  Text(1.0999875663690692, -0.005230089239470279, 'SARS'),\n",
       "  Text(1.0999992228391298, -0.0013075753555511036, 'ARDS')],\n",
       " [Text(-0.5994955657010036, 0.02459810368369302, '98.7%'),\n",
       "  Text(0.5993219434767979, -0.028516803242892203, '1.1%'),\n",
       "  Text(0.5999693757221416, -0.006062028998917911, '0.1%'),\n",
       "  Text(0.5999932180194922, -0.00285277594880197, '0.1%'),\n",
       "  Text(0.5999995760940707, -0.0007132229212096927, '0.0%')])"
      ]
     },
     "execution_count": 24,
     "metadata": {},
     "output_type": "execute_result"
    },
    {
     "data": {
      "image/png": "[encoded data removed]",
      "text/plain": [
       "<Figure size 432x288 with 1 Axes>"
      ]
     },
     "metadata": {},
     "output_type": "display_data"
    }
   ],
   "source": [
    "values=train_df['Label_2_Virus_category'].value_counts(dropna=False)\n",
    "plt.pie(values,labels=values.index,autopct='%1.1f%%')"
   ]
  },
  {
   "cell_type": "code",
   "execution_count": 25,
   "id": "696f7f55",
   "metadata": {
    "execution": {
     "iopub.execute_input": "2022-08-29T11:33:11.076820Z",
     "iopub.status.busy": "2022-08-29T11:33:11.076494Z",
     "iopub.status.idle": "2022-08-29T11:33:11.085054Z",
     "shell.execute_reply": "2022-08-29T11:33:11.083906Z"
    },
    "id": "s0-qBtjobT7L",
    "outputId": "5f000062-c972-4218-8b5b-d473b2e16f53",
    "papermill": {
     "duration": 0.051803,
     "end_time": "2022-08-29T11:33:11.087195",
     "exception": false,
     "start_time": "2022-08-29T11:33:11.035392",
     "status": "completed"
    },
    "tags": []
   },
   "outputs": [
    {
     "data": {
      "text/plain": [
       "COVID-19         58\n",
       "Streptococcus     5\n",
       "SARS              4\n",
       "ARDS              2\n",
       "Name: Label_2_Virus_category, dtype: int64"
      ]
     },
     "execution_count": 25,
     "metadata": {},
     "output_type": "execute_result"
    }
   ],
   "source": [
    "train_df['Label_2_Virus_category'].value_counts()"
   ]
  },
  {
   "cell_type": "markdown",
   "id": "a1648b41",
   "metadata": {
    "id": "3tulXZmrc5r2",
    "papermill": {
     "duration": 0.015785,
     "end_time": "2022-08-29T11:33:11.119544",
     "exception": false,
     "start_time": "2022-08-29T11:33:11.103759",
     "status": "completed"
    },
    "tags": []
   },
   "source": [
    "# III.Feature Engineering:"
   ]
  },
  {
   "cell_type": "markdown",
   "id": "562c66f4",
   "metadata": {
    "id": "eepV2AHsL5uz",
    "papermill": {
     "duration": 0.016637,
     "end_time": "2022-08-29T11:33:11.152009",
     "exception": false,
     "start_time": "2022-08-29T11:33:11.135372",
     "status": "completed"
    },
    "tags": []
   },
   "source": [
    "## 1.Imputation and Feature Sealaction :"
   ]
  },
  {
   "cell_type": "code",
   "execution_count": 26,
   "id": "2ac9931e",
   "metadata": {
    "execution": {
     "iopub.execute_input": "2022-08-29T11:33:11.186747Z",
     "iopub.status.busy": "2022-08-29T11:33:11.185257Z",
     "iopub.status.idle": "2022-08-29T11:33:11.192209Z",
     "shell.execute_reply": "2022-08-29T11:33:11.191337Z"
    },
    "id": "4qqZ3-RFdEUI",
    "papermill": {
     "duration": 0.026391,
     "end_time": "2022-08-29T11:33:11.194433",
     "exception": false,
     "start_time": "2022-08-29T11:33:11.168042",
     "status": "completed"
    },
    "tags": []
   },
   "outputs": [],
   "source": [
    "def imputation_and_feature_selection(df):\n",
    "  df=df.copy()\n",
    "  df['label_group']=df['Label_2_Virus_category'].copy()\n",
    "  df['label_group']=df['label_group'].map({'Streptococcus':'Other_penemonia','SARS':'Other_penemonia','ARDS':'Other_penemonia','COVID-19':'COVID-19'})\n",
    "  df['label_group']=df['label_group'].fillna('Normal')\n",
    "  print(df['label_group'].value_counts())\n",
    "  df.drop(['Label','Label_2_Virus_category','Label_1_Virus_category'],axis=1,inplace=True)\n",
    "  print('columns: ',df.columns)\n",
    "  return df\n"
   ]
  },
  {
   "cell_type": "code",
   "execution_count": 27,
   "id": "fd7bbe3e",
   "metadata": {
    "execution": {
     "iopub.execute_input": "2022-08-29T11:33:11.238211Z",
     "iopub.status.busy": "2022-08-29T11:33:11.237926Z",
     "iopub.status.idle": "2022-08-29T11:33:11.250751Z",
     "shell.execute_reply": "2022-08-29T11:33:11.249721Z"
    },
    "id": "TBKLDuxqf30v",
    "outputId": "86a95a5f-c877-4dff-9368-cd9222e60e04",
    "papermill": {
     "duration": 0.042821,
     "end_time": "2022-08-29T11:33:11.253075",
     "exception": false,
     "start_time": "2022-08-29T11:33:11.210254",
     "status": "completed"
    },
    "tags": []
   },
   "outputs": [
    {
     "name": "stdout",
     "output_type": "stream",
     "text": [
      "Normal             5217\n",
      "COVID-19             58\n",
      "Other_penemonia      11\n",
      "Name: label_group, dtype: int64\n",
      "columns:  Index(['X_ray_image_name', 'label_group'], dtype='object')\n"
     ]
    }
   ],
   "source": [
    "final_train_df=imputation_and_feature_selection(train_df)"
   ]
  },
  {
   "cell_type": "code",
   "execution_count": 28,
   "id": "6dd71cf7",
   "metadata": {
    "execution": {
     "iopub.execute_input": "2022-08-29T11:33:11.286502Z",
     "iopub.status.busy": "2022-08-29T11:33:11.286226Z",
     "iopub.status.idle": "2022-08-29T11:33:11.476666Z",
     "shell.execute_reply": "2022-08-29T11:33:11.475760Z"
    },
    "id": "z6ypeXVggAwc",
    "outputId": "3b66f1f0-2724-4f15-ef38-72fd010004de",
    "papermill": {
     "duration": 0.209404,
     "end_time": "2022-08-29T11:33:11.478711",
     "exception": false,
     "start_time": "2022-08-29T11:33:11.269307",
     "status": "completed"
    },
    "tags": []
   },
   "outputs": [
    {
     "name": "stderr",
     "output_type": "stream",
     "text": [
      "/opt/conda/lib/python3.7/site-packages/seaborn/_decorators.py:43: FutureWarning: Pass the following variable as a keyword arg: x. From version 0.12, the only valid positional argument will be `data`, and passing other arguments without an explicit keyword will result in an error or misinterpretation.\n",
      "  FutureWarning\n"
     ]
    },
    {
     "data": {
      "text/plain": [
       "<AxesSubplot:xlabel='label_group', ylabel='count'>"
      ]
     },
     "execution_count": 28,
     "metadata": {},
     "output_type": "execute_result"
    },
    {
     "data": {
      "image/png": "[encoded data removed]",
      "text/plain": [
       "<Figure size 720x360 with 1 Axes>"
      ]
     },
     "metadata": {
      "needs_background": "light"
     },
     "output_type": "display_data"
    }
   ],
   "source": [
    "plt.figure(figsize=(10,5))\n",
    "sns.countplot(final_train_df['label_group'])"
   ]
  },
  {
   "cell_type": "markdown",
   "id": "1f45c25b",
   "metadata": {
    "id": "5buwULMZMBnx",
    "papermill": {
     "duration": 0.016194,
     "end_time": "2022-08-29T11:33:11.511275",
     "exception": false,
     "start_time": "2022-08-29T11:33:11.495081",
     "status": "completed"
    },
    "tags": []
   },
   "source": [
    "## 2.Encoding: "
   ]
  },
  {
   "cell_type": "code",
   "execution_count": 29,
   "id": "f418378d",
   "metadata": {
    "execution": {
     "iopub.execute_input": "2022-08-29T11:33:11.545454Z",
     "iopub.status.busy": "2022-08-29T11:33:11.544907Z",
     "iopub.status.idle": "2022-08-29T11:33:11.549854Z",
     "shell.execute_reply": "2022-08-29T11:33:11.548917Z"
    },
    "id": "uKpcXzcXMGOu",
    "papermill": {
     "duration": 0.024557,
     "end_time": "2022-08-29T11:33:11.551877",
     "exception": false,
     "start_time": "2022-08-29T11:33:11.527320",
     "status": "completed"
    },
    "tags": []
   },
   "outputs": [],
   "source": [
    "def OneHotEncoding(df):\n",
    "  ohe=pd.get_dummies(df['label_group'])\n",
    "  enc_df=pd.concat([final_train_df,ohe],axis=1)\n",
    "  print(enc_df[enc_df['label_group']=='COVID-19'].head())\n",
    "  return enc_df\n"
   ]
  },
  {
   "cell_type": "code",
   "execution_count": 30,
   "id": "63a2e057",
   "metadata": {
    "execution": {
     "iopub.execute_input": "2022-08-29T11:33:11.585831Z",
     "iopub.status.busy": "2022-08-29T11:33:11.585030Z",
     "iopub.status.idle": "2022-08-29T11:33:11.595676Z",
     "shell.execute_reply": "2022-08-29T11:33:11.594043Z"
    },
    "id": "n0b4M20aMnYD",
    "outputId": "fa6215a2-8ad4-4f4c-ff1a-8e47d634bfb7",
    "papermill": {
     "duration": 0.030541,
     "end_time": "2022-08-29T11:33:11.598486",
     "exception": false,
     "start_time": "2022-08-29T11:33:11.567945",
     "status": "completed"
    },
    "tags": []
   },
   "outputs": [
    {
     "name": "stdout",
     "output_type": "stream",
     "text": [
      "              X_ray_image_name label_group  COVID-19  Normal  Other_penemonia\n",
      "5221   kjr-21-e25-g001-l-a.jpg    COVID-19         1       0                0\n",
      "5222   kjr-21-e24-g003-l-a.jpg    COVID-19         1       0                0\n",
      "5223   kjr-21-e24-g002-l-a.jpg    COVID-19         1       0                0\n",
      "5224   kjr-21-e24-g001-l-a.jpg    COVID-19         1       0                0\n",
      "5225  jkms-35-e79-g001-l-c.jpg    COVID-19         1       0                0\n"
     ]
    }
   ],
   "source": [
    "final_df=OneHotEncoding(final_train_df)"
   ]
  },
  {
   "cell_type": "code",
   "execution_count": 31,
   "id": "9066fde3",
   "metadata": {
    "execution": {
     "iopub.execute_input": "2022-08-29T11:33:11.633082Z",
     "iopub.status.busy": "2022-08-29T11:33:11.632190Z",
     "iopub.status.idle": "2022-08-29T11:33:11.640039Z",
     "shell.execute_reply": "2022-08-29T11:33:11.639025Z"
    },
    "id": "mAg8fjdILynj",
    "outputId": "38580cb4-9d74-42a9-a7fa-7f2f05811b5e",
    "papermill": {
     "duration": 0.026907,
     "end_time": "2022-08-29T11:33:11.641988",
     "exception": false,
     "start_time": "2022-08-29T11:33:11.615081",
     "status": "completed"
    },
    "tags": []
   },
   "outputs": [
    {
     "data": {
      "text/plain": [
       "array([[0, 1, 0],\n",
       "       [0, 1, 0],\n",
       "       [0, 1, 0],\n",
       "       ...,\n",
       "       [1, 0, 0],\n",
       "       [1, 0, 0],\n",
       "       [1, 0, 0]])"
      ]
     },
     "execution_count": 31,
     "metadata": {},
     "output_type": "execute_result"
    }
   ],
   "source": [
    "y_df=final_df[['COVID-19','Normal','Other_penemonia']]\n",
    "y=y_df.values\n",
    "y=y.astype(int)\n",
    "y"
   ]
  },
  {
   "cell_type": "code",
   "execution_count": 32,
   "id": "d55cbbe5",
   "metadata": {
    "execution": {
     "iopub.execute_input": "2022-08-29T11:33:11.676036Z",
     "iopub.status.busy": "2022-08-29T11:33:11.675264Z",
     "iopub.status.idle": "2022-08-29T11:33:11.950904Z",
     "shell.execute_reply": "2022-08-29T11:33:11.949977Z"
    },
    "id": "wAddgPmQLysk",
    "papermill": {
     "duration": 0.295006,
     "end_time": "2022-08-29T11:33:11.953123",
     "exception": false,
     "start_time": "2022-08-29T11:33:11.658117",
     "status": "completed"
    },
    "tags": []
   },
   "outputs": [
    {
     "data": {
      "text/plain": [
       "<matplotlib.image.AxesImage at 0x7f79b5320c10>"
      ]
     },
     "execution_count": 32,
     "metadata": {},
     "output_type": "execute_result"
    },
    {
     "data": {
      "image/png": "[encoded data removed]",
      "text/plain": [
       "<Figure size 432x288 with 1 Axes>"
      ]
     },
     "metadata": {
      "needs_background": "light"
     },
     "output_type": "display_data"
    }
   ],
   "source": [
    "img=load_img('../input/coronahack-chest-xraydataset/Coronahack-Chest-XRay-Dataset/Coronahack-Chest-XRay-Dataset/train/01E392EE-69F9-4E33-BFCE-E5C968654078.jpeg',target_size=(224,224,3))\n",
    "plt.imshow(img)"
   ]
  },
  {
   "cell_type": "code",
   "execution_count": 33,
   "id": "533ebf22",
   "metadata": {
    "execution": {
     "iopub.execute_input": "2022-08-29T11:33:11.990959Z",
     "iopub.status.busy": "2022-08-29T11:33:11.989884Z",
     "iopub.status.idle": "2022-08-29T11:33:11.996950Z",
     "shell.execute_reply": "2022-08-29T11:33:11.995901Z"
    },
    "id": "a8mdA7jGLywN",
    "papermill": {
     "duration": 0.02818,
     "end_time": "2022-08-29T11:33:11.999188",
     "exception": false,
     "start_time": "2022-08-29T11:33:11.971008",
     "status": "completed"
    },
    "tags": []
   },
   "outputs": [
    {
     "data": {
      "text/plain": [
       "(224, 224, 3)"
      ]
     },
     "execution_count": 33,
     "metadata": {},
     "output_type": "execute_result"
    }
   ],
   "source": [
    "np.array(img).shape"
   ]
  },
  {
   "cell_type": "code",
   "execution_count": 34,
   "id": "3f1ed114",
   "metadata": {
    "execution": {
     "iopub.execute_input": "2022-08-29T11:33:12.035399Z",
     "iopub.status.busy": "2022-08-29T11:33:12.035110Z",
     "iopub.status.idle": "2022-08-29T11:33:12.045325Z",
     "shell.execute_reply": "2022-08-29T11:33:12.044415Z"
    },
    "papermill": {
     "duration": 0.030995,
     "end_time": "2022-08-29T11:33:12.047309",
     "exception": false,
     "start_time": "2022-08-29T11:33:12.016314",
     "status": "completed"
    },
    "tags": []
   },
   "outputs": [
    {
     "data": {
      "text/html": [
       "<div>\n",
       "<style scoped>\n",
       "    .dataframe tbody tr th:only-of-type {\n",
       "        vertical-align: middle;\n",
       "    }\n",
       "\n",
       "    .dataframe tbody tr th {\n",
       "        vertical-align: top;\n",
       "    }\n",
       "\n",
       "    .dataframe thead th {\n",
       "        text-align: right;\n",
       "    }\n",
       "</style>\n",
       "<table border=\"1\" class=\"dataframe\">\n",
       "  <thead>\n",
       "    <tr style=\"text-align: right;\">\n",
       "      <th></th>\n",
       "      <th>X_ray_image_name</th>\n",
       "      <th>label_group</th>\n",
       "      <th>COVID-19</th>\n",
       "      <th>Normal</th>\n",
       "      <th>Other_penemonia</th>\n",
       "    </tr>\n",
       "  </thead>\n",
       "  <tbody>\n",
       "    <tr>\n",
       "      <th>0</th>\n",
       "      <td>IM-0128-0001.jpeg</td>\n",
       "      <td>Normal</td>\n",
       "      <td>0</td>\n",
       "      <td>1</td>\n",
       "      <td>0</td>\n",
       "    </tr>\n",
       "    <tr>\n",
       "      <th>1</th>\n",
       "      <td>IM-0127-0001.jpeg</td>\n",
       "      <td>Normal</td>\n",
       "      <td>0</td>\n",
       "      <td>1</td>\n",
       "      <td>0</td>\n",
       "    </tr>\n",
       "    <tr>\n",
       "      <th>2</th>\n",
       "      <td>IM-0125-0001.jpeg</td>\n",
       "      <td>Normal</td>\n",
       "      <td>0</td>\n",
       "      <td>1</td>\n",
       "      <td>0</td>\n",
       "    </tr>\n",
       "    <tr>\n",
       "      <th>3</th>\n",
       "      <td>IM-0122-0001.jpeg</td>\n",
       "      <td>Normal</td>\n",
       "      <td>0</td>\n",
       "      <td>1</td>\n",
       "      <td>0</td>\n",
       "    </tr>\n",
       "    <tr>\n",
       "      <th>4</th>\n",
       "      <td>IM-0119-0001.jpeg</td>\n",
       "      <td>Normal</td>\n",
       "      <td>0</td>\n",
       "      <td>1</td>\n",
       "      <td>0</td>\n",
       "    </tr>\n",
       "  </tbody>\n",
       "</table>\n",
       "</div>"
      ],
      "text/plain": [
       "    X_ray_image_name label_group  COVID-19  Normal  Other_penemonia\n",
       "0  IM-0128-0001.jpeg      Normal         0       1                0\n",
       "1  IM-0127-0001.jpeg      Normal         0       1                0\n",
       "2  IM-0125-0001.jpeg      Normal         0       1                0\n",
       "3  IM-0122-0001.jpeg      Normal         0       1                0\n",
       "4  IM-0119-0001.jpeg      Normal         0       1                0"
      ]
     },
     "execution_count": 34,
     "metadata": {},
     "output_type": "execute_result"
    }
   ],
   "source": [
    "final_df.head()"
   ]
  },
  {
   "cell_type": "code",
   "execution_count": 35,
   "id": "8ec69844",
   "metadata": {
    "execution": {
     "iopub.execute_input": "2022-08-29T11:33:12.084762Z",
     "iopub.status.busy": "2022-08-29T11:33:12.083222Z",
     "iopub.status.idle": "2022-08-29T11:33:12.090281Z",
     "shell.execute_reply": "2022-08-29T11:33:12.089379Z"
    },
    "papermill": {
     "duration": 0.027682,
     "end_time": "2022-08-29T11:33:12.092296",
     "exception": false,
     "start_time": "2022-08-29T11:33:12.064614",
     "status": "completed"
    },
    "tags": []
   },
   "outputs": [
    {
     "data": {
      "text/plain": [
       "array(['IM-0128-0001.jpeg', 'IM-0127-0001.jpeg', 'IM-0125-0001.jpeg',\n",
       "       'IM-0122-0001.jpeg', 'IM-0119-0001.jpeg', 'IM-0117-0001.jpeg',\n",
       "       'IM-0115-0001.jpeg', 'IM-0189-0001.jpeg', 'IM-0187-0001.jpeg',\n",
       "       'IM-0185-0001.jpeg'], dtype=object)"
      ]
     },
     "execution_count": 35,
     "metadata": {},
     "output_type": "execute_result"
    }
   ],
   "source": [
    "X_ray_image_names=final_df['X_ray_image_name'].values\n",
    "X_ray_image_names[:10]"
   ]
  },
  {
   "cell_type": "code",
   "execution_count": 36,
   "id": "c456520a",
   "metadata": {
    "execution": {
     "iopub.execute_input": "2022-08-29T11:33:12.128320Z",
     "iopub.status.busy": "2022-08-29T11:33:12.127552Z",
     "iopub.status.idle": "2022-08-29T11:33:12.135378Z",
     "shell.execute_reply": "2022-08-29T11:33:12.134382Z"
    },
    "papermill": {
     "duration": 0.02789,
     "end_time": "2022-08-29T11:33:12.137347",
     "exception": false,
     "start_time": "2022-08-29T11:33:12.109457",
     "status": "completed"
    },
    "tags": []
   },
   "outputs": [
    {
     "data": {
      "text/plain": [
       "Int64Index([5221, 5222, 5223, 5224, 5225, 5226, 5227, 5228, 5229, 5230, 5237,\n",
       "            5238, 5239, 5240, 5242, 5243, 5244, 5245, 5246, 5247, 5248, 5249,\n",
       "            5250, 5251, 5252, 5253, 5254, 5255, 5256, 5257, 5258, 5259, 5260,\n",
       "            5261, 5262, 5263, 5264, 5265, 5266, 5267, 5268, 5269, 5270, 5271,\n",
       "            5272, 5273, 5274, 5275, 5276, 5277, 5278, 5279, 5280, 5281, 5282,\n",
       "            5283, 5284, 5285],\n",
       "           dtype='int64')"
      ]
     },
     "execution_count": 36,
     "metadata": {},
     "output_type": "execute_result"
    }
   ],
   "source": [
    "final_df[final_df['label_group']=='COVID-19'].index"
   ]
  },
  {
   "cell_type": "code",
   "execution_count": 37,
   "id": "4b1c903e",
   "metadata": {
    "execution": {
     "iopub.execute_input": "2022-08-29T11:33:12.174193Z",
     "iopub.status.busy": "2022-08-29T11:33:12.173423Z",
     "iopub.status.idle": "2022-08-29T11:33:12.184336Z",
     "shell.execute_reply": "2022-08-29T11:33:12.183387Z"
    },
    "papermill": {
     "duration": 0.031057,
     "end_time": "2022-08-29T11:33:12.186364",
     "exception": false,
     "start_time": "2022-08-29T11:33:12.155307",
     "status": "completed"
    },
    "tags": []
   },
   "outputs": [
    {
     "data": {
      "text/html": [
       "<div>\n",
       "<style scoped>\n",
       "    .dataframe tbody tr th:only-of-type {\n",
       "        vertical-align: middle;\n",
       "    }\n",
       "\n",
       "    .dataframe tbody tr th {\n",
       "        vertical-align: top;\n",
       "    }\n",
       "\n",
       "    .dataframe thead th {\n",
       "        text-align: right;\n",
       "    }\n",
       "</style>\n",
       "<table border=\"1\" class=\"dataframe\">\n",
       "  <thead>\n",
       "    <tr style=\"text-align: right;\">\n",
       "      <th></th>\n",
       "      <th>X_ray_image_name</th>\n",
       "      <th>label_group</th>\n",
       "      <th>COVID-19</th>\n",
       "      <th>Normal</th>\n",
       "      <th>Other_penemonia</th>\n",
       "    </tr>\n",
       "  </thead>\n",
       "  <tbody>\n",
       "    <tr>\n",
       "      <th>5221</th>\n",
       "      <td>kjr-21-e25-g001-l-a.jpg</td>\n",
       "      <td>COVID-19</td>\n",
       "      <td>1</td>\n",
       "      <td>0</td>\n",
       "      <td>0</td>\n",
       "    </tr>\n",
       "    <tr>\n",
       "      <th>5222</th>\n",
       "      <td>kjr-21-e24-g003-l-a.jpg</td>\n",
       "      <td>COVID-19</td>\n",
       "      <td>1</td>\n",
       "      <td>0</td>\n",
       "      <td>0</td>\n",
       "    </tr>\n",
       "    <tr>\n",
       "      <th>5223</th>\n",
       "      <td>kjr-21-e24-g002-l-a.jpg</td>\n",
       "      <td>COVID-19</td>\n",
       "      <td>1</td>\n",
       "      <td>0</td>\n",
       "      <td>0</td>\n",
       "    </tr>\n",
       "    <tr>\n",
       "      <th>5224</th>\n",
       "      <td>kjr-21-e24-g001-l-a.jpg</td>\n",
       "      <td>COVID-19</td>\n",
       "      <td>1</td>\n",
       "      <td>0</td>\n",
       "      <td>0</td>\n",
       "    </tr>\n",
       "    <tr>\n",
       "      <th>5225</th>\n",
       "      <td>jkms-35-e79-g001-l-c.jpg</td>\n",
       "      <td>COVID-19</td>\n",
       "      <td>1</td>\n",
       "      <td>0</td>\n",
       "      <td>0</td>\n",
       "    </tr>\n",
       "  </tbody>\n",
       "</table>\n",
       "</div>"
      ],
      "text/plain": [
       "              X_ray_image_name label_group  COVID-19  Normal  Other_penemonia\n",
       "5221   kjr-21-e25-g001-l-a.jpg    COVID-19         1       0                0\n",
       "5222   kjr-21-e24-g003-l-a.jpg    COVID-19         1       0                0\n",
       "5223   kjr-21-e24-g002-l-a.jpg    COVID-19         1       0                0\n",
       "5224   kjr-21-e24-g001-l-a.jpg    COVID-19         1       0                0\n",
       "5225  jkms-35-e79-g001-l-c.jpg    COVID-19         1       0                0"
      ]
     },
     "execution_count": 37,
     "metadata": {},
     "output_type": "execute_result"
    }
   ],
   "source": [
    "covid_df=final_df[final_df['label_group']=='COVID-19'].copy()\n",
    "covid_df.head()"
   ]
  },
  {
   "cell_type": "code",
   "execution_count": 38,
   "id": "07d017ab",
   "metadata": {
    "execution": {
     "iopub.execute_input": "2022-08-29T11:33:12.223611Z",
     "iopub.status.busy": "2022-08-29T11:33:12.223327Z",
     "iopub.status.idle": "2022-08-29T11:33:12.233356Z",
     "shell.execute_reply": "2022-08-29T11:33:12.232510Z"
    },
    "papermill": {
     "duration": 0.030746,
     "end_time": "2022-08-29T11:33:12.235361",
     "exception": false,
     "start_time": "2022-08-29T11:33:12.204615",
     "status": "completed"
    },
    "tags": []
   },
   "outputs": [
    {
     "data": {
      "text/plain": [
       "Int64Index([ 0,  1,  2,  3,  4,  5,  6,  7,  8,  9, 10, 11, 12, 13, 14, 15, 16,\n",
       "            17, 18, 19, 20, 21, 22, 23, 24, 25, 26, 27, 28, 29, 30, 31, 32, 33,\n",
       "            34, 35, 36, 37, 38, 39, 40, 41, 42, 43, 44, 45, 46, 47, 48, 49, 50,\n",
       "            51, 52, 53, 54, 55, 56, 57, 58, 59, 60, 61, 62, 63, 64, 65, 66, 67,\n",
       "            68, 69, 70, 71, 72, 73, 74, 75, 76, 77, 78, 79, 80, 81, 82, 83, 84,\n",
       "            85, 86, 87, 88, 89, 90, 91, 92, 93, 94, 95, 96, 97, 98, 99],\n",
       "           dtype='int64')"
      ]
     },
     "execution_count": 38,
     "metadata": {},
     "output_type": "execute_result"
    }
   ],
   "source": [
    "final_df[final_df['label_group']=='Normal'].index[:100]"
   ]
  },
  {
   "cell_type": "code",
   "execution_count": 39,
   "id": "39e1c073",
   "metadata": {
    "execution": {
     "iopub.execute_input": "2022-08-29T11:33:12.272220Z",
     "iopub.status.busy": "2022-08-29T11:33:12.271944Z",
     "iopub.status.idle": "2022-08-29T11:33:12.283505Z",
     "shell.execute_reply": "2022-08-29T11:33:12.282523Z"
    },
    "papermill": {
     "duration": 0.032473,
     "end_time": "2022-08-29T11:33:12.285736",
     "exception": false,
     "start_time": "2022-08-29T11:33:12.253263",
     "status": "completed"
    },
    "tags": []
   },
   "outputs": [
    {
     "data": {
      "text/html": [
       "<div>\n",
       "<style scoped>\n",
       "    .dataframe tbody tr th:only-of-type {\n",
       "        vertical-align: middle;\n",
       "    }\n",
       "\n",
       "    .dataframe tbody tr th {\n",
       "        vertical-align: top;\n",
       "    }\n",
       "\n",
       "    .dataframe thead th {\n",
       "        text-align: right;\n",
       "    }\n",
       "</style>\n",
       "<table border=\"1\" class=\"dataframe\">\n",
       "  <thead>\n",
       "    <tr style=\"text-align: right;\">\n",
       "      <th></th>\n",
       "      <th>X_ray_image_name</th>\n",
       "      <th>label_group</th>\n",
       "      <th>COVID-19</th>\n",
       "      <th>Normal</th>\n",
       "      <th>Other_penemonia</th>\n",
       "    </tr>\n",
       "  </thead>\n",
       "  <tbody>\n",
       "    <tr>\n",
       "      <th>0</th>\n",
       "      <td>IM-0128-0001.jpeg</td>\n",
       "      <td>Normal</td>\n",
       "      <td>0</td>\n",
       "      <td>1</td>\n",
       "      <td>0</td>\n",
       "    </tr>\n",
       "    <tr>\n",
       "      <th>1</th>\n",
       "      <td>IM-0127-0001.jpeg</td>\n",
       "      <td>Normal</td>\n",
       "      <td>0</td>\n",
       "      <td>1</td>\n",
       "      <td>0</td>\n",
       "    </tr>\n",
       "    <tr>\n",
       "      <th>2</th>\n",
       "      <td>IM-0125-0001.jpeg</td>\n",
       "      <td>Normal</td>\n",
       "      <td>0</td>\n",
       "      <td>1</td>\n",
       "      <td>0</td>\n",
       "    </tr>\n",
       "    <tr>\n",
       "      <th>3</th>\n",
       "      <td>IM-0122-0001.jpeg</td>\n",
       "      <td>Normal</td>\n",
       "      <td>0</td>\n",
       "      <td>1</td>\n",
       "      <td>0</td>\n",
       "    </tr>\n",
       "    <tr>\n",
       "      <th>4</th>\n",
       "      <td>IM-0119-0001.jpeg</td>\n",
       "      <td>Normal</td>\n",
       "      <td>0</td>\n",
       "      <td>1</td>\n",
       "      <td>0</td>\n",
       "    </tr>\n",
       "  </tbody>\n",
       "</table>\n",
       "</div>"
      ],
      "text/plain": [
       "    X_ray_image_name label_group  COVID-19  Normal  Other_penemonia\n",
       "0  IM-0128-0001.jpeg      Normal         0       1                0\n",
       "1  IM-0127-0001.jpeg      Normal         0       1                0\n",
       "2  IM-0125-0001.jpeg      Normal         0       1                0\n",
       "3  IM-0122-0001.jpeg      Normal         0       1                0\n",
       "4  IM-0119-0001.jpeg      Normal         0       1                0"
      ]
     },
     "execution_count": 39,
     "metadata": {},
     "output_type": "execute_result"
    }
   ],
   "source": [
    "normal_df=final_df[final_df['label_group']=='Normal'][:50].copy()\n",
    "normal_df.head()"
   ]
  },
  {
   "cell_type": "code",
   "execution_count": 40,
   "id": "a4ff2b59",
   "metadata": {
    "execution": {
     "iopub.execute_input": "2022-08-29T11:33:12.323980Z",
     "iopub.status.busy": "2022-08-29T11:33:12.323664Z",
     "iopub.status.idle": "2022-08-29T11:33:12.331396Z",
     "shell.execute_reply": "2022-08-29T11:33:12.330447Z"
    },
    "papermill": {
     "duration": 0.029484,
     "end_time": "2022-08-29T11:33:12.333402",
     "exception": false,
     "start_time": "2022-08-29T11:33:12.303918",
     "status": "completed"
    },
    "tags": []
   },
   "outputs": [
    {
     "data": {
      "text/plain": [
       "Int64Index([5216, 5217, 5218, 5219, 5220, 5231, 5232, 5233, 5234, 5235, 5236], dtype='int64')"
      ]
     },
     "execution_count": 40,
     "metadata": {},
     "output_type": "execute_result"
    }
   ],
   "source": [
    "final_df[final_df['label_group']=='Other_penemonia'].index"
   ]
  },
  {
   "cell_type": "code",
   "execution_count": 41,
   "id": "e55b2ec7",
   "metadata": {
    "execution": {
     "iopub.execute_input": "2022-08-29T11:33:12.371139Z",
     "iopub.status.busy": "2022-08-29T11:33:12.370875Z",
     "iopub.status.idle": "2022-08-29T11:33:12.382430Z",
     "shell.execute_reply": "2022-08-29T11:33:12.381513Z"
    },
    "papermill": {
     "duration": 0.0328,
     "end_time": "2022-08-29T11:33:12.384748",
     "exception": false,
     "start_time": "2022-08-29T11:33:12.351948",
     "status": "completed"
    },
    "tags": []
   },
   "outputs": [
    {
     "data": {
      "text/html": [
       "<div>\n",
       "<style scoped>\n",
       "    .dataframe tbody tr th:only-of-type {\n",
       "        vertical-align: middle;\n",
       "    }\n",
       "\n",
       "    .dataframe tbody tr th {\n",
       "        vertical-align: top;\n",
       "    }\n",
       "\n",
       "    .dataframe thead th {\n",
       "        text-align: right;\n",
       "    }\n",
       "</style>\n",
       "<table border=\"1\" class=\"dataframe\">\n",
       "  <thead>\n",
       "    <tr style=\"text-align: right;\">\n",
       "      <th></th>\n",
       "      <th>X_ray_image_name</th>\n",
       "      <th>label_group</th>\n",
       "      <th>COVID-19</th>\n",
       "      <th>Normal</th>\n",
       "      <th>Other_penemonia</th>\n",
       "    </tr>\n",
       "  </thead>\n",
       "  <tbody>\n",
       "    <tr>\n",
       "      <th>5216</th>\n",
       "      <td>streptococcus-pneumoniae-pneumonia-temporal-ev...</td>\n",
       "      <td>Other_penemonia</td>\n",
       "      <td>0</td>\n",
       "      <td>0</td>\n",
       "      <td>1</td>\n",
       "    </tr>\n",
       "    <tr>\n",
       "      <th>5217</th>\n",
       "      <td>streptococcus-pneumoniae-pneumonia-temporal-ev...</td>\n",
       "      <td>Other_penemonia</td>\n",
       "      <td>0</td>\n",
       "      <td>0</td>\n",
       "      <td>1</td>\n",
       "    </tr>\n",
       "    <tr>\n",
       "      <th>5218</th>\n",
       "      <td>streptococcus-pneumoniae-pneumonia-temporal-ev...</td>\n",
       "      <td>Other_penemonia</td>\n",
       "      <td>0</td>\n",
       "      <td>0</td>\n",
       "      <td>1</td>\n",
       "    </tr>\n",
       "    <tr>\n",
       "      <th>5219</th>\n",
       "      <td>streptococcus-pneumoniae-pneumonia-temporal-ev...</td>\n",
       "      <td>Other_penemonia</td>\n",
       "      <td>0</td>\n",
       "      <td>0</td>\n",
       "      <td>1</td>\n",
       "    </tr>\n",
       "    <tr>\n",
       "      <th>5220</th>\n",
       "      <td>streptococcus-pneumoniae-pneumonia-1.jpg</td>\n",
       "      <td>Other_penemonia</td>\n",
       "      <td>0</td>\n",
       "      <td>0</td>\n",
       "      <td>1</td>\n",
       "    </tr>\n",
       "  </tbody>\n",
       "</table>\n",
       "</div>"
      ],
      "text/plain": [
       "                                       X_ray_image_name      label_group  \\\n",
       "5216  streptococcus-pneumoniae-pneumonia-temporal-ev...  Other_penemonia   \n",
       "5217  streptococcus-pneumoniae-pneumonia-temporal-ev...  Other_penemonia   \n",
       "5218  streptococcus-pneumoniae-pneumonia-temporal-ev...  Other_penemonia   \n",
       "5219  streptococcus-pneumoniae-pneumonia-temporal-ev...  Other_penemonia   \n",
       "5220           streptococcus-pneumoniae-pneumonia-1.jpg  Other_penemonia   \n",
       "\n",
       "      COVID-19  Normal  Other_penemonia  \n",
       "5216         0       0                1  \n",
       "5217         0       0                1  \n",
       "5218         0       0                1  \n",
       "5219         0       0                1  \n",
       "5220         0       0                1  "
      ]
     },
     "execution_count": 41,
     "metadata": {},
     "output_type": "execute_result"
    }
   ],
   "source": [
    "other_df=final_df[final_df['label_group']=='Other_penemonia'].copy()\n",
    "other_df.head()"
   ]
  },
  {
   "cell_type": "code",
   "execution_count": 42,
   "id": "6642a200",
   "metadata": {
    "execution": {
     "iopub.execute_input": "2022-08-29T11:33:12.422387Z",
     "iopub.status.busy": "2022-08-29T11:33:12.422108Z",
     "iopub.status.idle": "2022-08-29T11:33:12.434701Z",
     "shell.execute_reply": "2022-08-29T11:33:12.433880Z"
    },
    "papermill": {
     "duration": 0.033825,
     "end_time": "2022-08-29T11:33:12.436729",
     "exception": false,
     "start_time": "2022-08-29T11:33:12.402904",
     "status": "completed"
    },
    "tags": []
   },
   "outputs": [
    {
     "data": {
      "text/html": [
       "<div>\n",
       "<style scoped>\n",
       "    .dataframe tbody tr th:only-of-type {\n",
       "        vertical-align: middle;\n",
       "    }\n",
       "\n",
       "    .dataframe tbody tr th {\n",
       "        vertical-align: top;\n",
       "    }\n",
       "\n",
       "    .dataframe thead th {\n",
       "        text-align: right;\n",
       "    }\n",
       "</style>\n",
       "<table border=\"1\" class=\"dataframe\">\n",
       "  <thead>\n",
       "    <tr style=\"text-align: right;\">\n",
       "      <th></th>\n",
       "      <th>X_ray_image_name</th>\n",
       "      <th>label_group</th>\n",
       "      <th>COVID-19</th>\n",
       "      <th>Normal</th>\n",
       "      <th>Other_penemonia</th>\n",
       "    </tr>\n",
       "  </thead>\n",
       "  <tbody>\n",
       "    <tr>\n",
       "      <th>5221</th>\n",
       "      <td>kjr-21-e25-g001-l-a.jpg</td>\n",
       "      <td>COVID-19</td>\n",
       "      <td>1</td>\n",
       "      <td>0</td>\n",
       "      <td>0</td>\n",
       "    </tr>\n",
       "    <tr>\n",
       "      <th>5222</th>\n",
       "      <td>kjr-21-e24-g003-l-a.jpg</td>\n",
       "      <td>COVID-19</td>\n",
       "      <td>1</td>\n",
       "      <td>0</td>\n",
       "      <td>0</td>\n",
       "    </tr>\n",
       "    <tr>\n",
       "      <th>5223</th>\n",
       "      <td>kjr-21-e24-g002-l-a.jpg</td>\n",
       "      <td>COVID-19</td>\n",
       "      <td>1</td>\n",
       "      <td>0</td>\n",
       "      <td>0</td>\n",
       "    </tr>\n",
       "    <tr>\n",
       "      <th>5224</th>\n",
       "      <td>kjr-21-e24-g001-l-a.jpg</td>\n",
       "      <td>COVID-19</td>\n",
       "      <td>1</td>\n",
       "      <td>0</td>\n",
       "      <td>0</td>\n",
       "    </tr>\n",
       "    <tr>\n",
       "      <th>5225</th>\n",
       "      <td>jkms-35-e79-g001-l-c.jpg</td>\n",
       "      <td>COVID-19</td>\n",
       "      <td>1</td>\n",
       "      <td>0</td>\n",
       "      <td>0</td>\n",
       "    </tr>\n",
       "  </tbody>\n",
       "</table>\n",
       "</div>"
      ],
      "text/plain": [
       "              X_ray_image_name label_group  COVID-19  Normal  Other_penemonia\n",
       "5221   kjr-21-e25-g001-l-a.jpg    COVID-19         1       0                0\n",
       "5222   kjr-21-e24-g003-l-a.jpg    COVID-19         1       0                0\n",
       "5223   kjr-21-e24-g002-l-a.jpg    COVID-19         1       0                0\n",
       "5224   kjr-21-e24-g001-l-a.jpg    COVID-19         1       0                0\n",
       "5225  jkms-35-e79-g001-l-c.jpg    COVID-19         1       0                0"
      ]
     },
     "execution_count": 42,
     "metadata": {},
     "output_type": "execute_result"
    }
   ],
   "source": [
    "mini_df=pd.concat([covid_df,normal_df,other_df],axis=0)\n",
    "mini_df.head()"
   ]
  },
  {
   "cell_type": "code",
   "execution_count": 43,
   "id": "49aa4854",
   "metadata": {
    "execution": {
     "iopub.execute_input": "2022-08-29T11:33:12.474349Z",
     "iopub.status.busy": "2022-08-29T11:33:12.474082Z",
     "iopub.status.idle": "2022-08-29T11:33:12.564103Z",
     "shell.execute_reply": "2022-08-29T11:33:12.562893Z"
    },
    "papermill": {
     "duration": 0.111492,
     "end_time": "2022-08-29T11:33:12.566521",
     "exception": false,
     "start_time": "2022-08-29T11:33:12.455029",
     "status": "completed"
    },
    "tags": []
   },
   "outputs": [
    {
     "data": {
      "text/plain": [
       "([<matplotlib.patches.Wedge at 0x7f79b5259690>,\n",
       "  <matplotlib.patches.Wedge at 0x7f79b5259e10>,\n",
       "  <matplotlib.patches.Wedge at 0x7f79b5264590>],\n",
       " [Text(0.04354851167455959, 1.0991376288395056, 'COVID-19'),\n",
       "  Text(-0.35644650771729275, -1.0406468599559344, 'Normal'),\n",
       "  Text(1.0539425864759335, -0.3149682911221697, 'Other_penemonia')],\n",
       " [Text(0.02375373364066886, 0.5995296157306393, '48.7%'),\n",
       "  Text(-0.19442536784579603, -0.5676255599759642, '42.0%'),\n",
       "  Text(0.5748777744414182, -0.171800886066638, '9.2%')])"
      ]
     },
     "execution_count": 43,
     "metadata": {},
     "output_type": "execute_result"
    },
    {
     "data": {
      "image/png": "[encoded data removed]",
      "text/plain": [
       "<Figure size 432x288 with 1 Axes>"
      ]
     },
     "metadata": {},
     "output_type": "display_data"
    }
   ],
   "source": [
    "plt.pie(x=mini_df['label_group'].value_counts(),labels=mini_df['label_group'].unique(),autopct='%1.1f%%')"
   ]
  },
  {
   "cell_type": "code",
   "execution_count": 44,
   "id": "8463b7a9",
   "metadata": {
    "execution": {
     "iopub.execute_input": "2022-08-29T11:33:12.666607Z",
     "iopub.status.busy": "2022-08-29T11:33:12.666309Z",
     "iopub.status.idle": "2022-08-29T11:33:12.673810Z",
     "shell.execute_reply": "2022-08-29T11:33:12.672609Z"
    },
    "papermill": {
     "duration": 0.058786,
     "end_time": "2022-08-29T11:33:12.676379",
     "exception": false,
     "start_time": "2022-08-29T11:33:12.617593",
     "status": "completed"
    },
    "tags": []
   },
   "outputs": [
    {
     "data": {
      "text/plain": [
       "array(['COVID-19', 'Normal', 'Other_penemonia'], dtype=object)"
      ]
     },
     "execution_count": 44,
     "metadata": {},
     "output_type": "execute_result"
    }
   ],
   "source": [
    "mini_df['label_group'].unique()"
   ]
  },
  {
   "cell_type": "code",
   "execution_count": 45,
   "id": "f8a4ee51",
   "metadata": {
    "execution": {
     "iopub.execute_input": "2022-08-29T11:33:12.719054Z",
     "iopub.status.busy": "2022-08-29T11:33:12.718771Z",
     "iopub.status.idle": "2022-08-29T11:33:12.723142Z",
     "shell.execute_reply": "2022-08-29T11:33:12.722223Z"
    },
    "papermill": {
     "duration": 0.025617,
     "end_time": "2022-08-29T11:33:12.725033",
     "exception": false,
     "start_time": "2022-08-29T11:33:12.699416",
     "status": "completed"
    },
    "tags": []
   },
   "outputs": [],
   "source": [
    "X_ray_image_names=mini_df['X_ray_image_name'].values"
   ]
  },
  {
   "cell_type": "code",
   "execution_count": 46,
   "id": "6067d46b",
   "metadata": {
    "execution": {
     "iopub.execute_input": "2022-08-29T11:33:12.763993Z",
     "iopub.status.busy": "2022-08-29T11:33:12.763719Z",
     "iopub.status.idle": "2022-08-29T11:33:18.506929Z",
     "shell.execute_reply": "2022-08-29T11:33:18.505831Z"
    },
    "papermill": {
     "duration": 5.765428,
     "end_time": "2022-08-29T11:33:18.509467",
     "exception": false,
     "start_time": "2022-08-29T11:33:12.744039",
     "status": "completed"
    },
    "tags": []
   },
   "outputs": [
    {
     "data": {
      "text/plain": [
       "[array([[[13., 13., 13.],\n",
       "         [15., 15., 15.],\n",
       "         [14., 14., 14.],\n",
       "         ...,\n",
       "         [18., 18., 18.],\n",
       "         [18., 18., 18.],\n",
       "         [14., 14., 14.]],\n",
       " \n",
       "        [[ 0.,  0.,  0.],\n",
       "         [ 2.,  2.,  2.],\n",
       "         [ 0.,  0.,  0.],\n",
       "         ...,\n",
       "         [ 5.,  5.,  5.],\n",
       "         [ 5.,  5.,  5.],\n",
       "         [ 1.,  1.,  1.]],\n",
       " \n",
       "        [[ 0.,  0.,  0.],\n",
       "         [ 3.,  3.,  3.],\n",
       "         [ 3.,  3.,  3.],\n",
       "         ...,\n",
       "         [ 6.,  6.,  6.],\n",
       "         [ 5.,  5.,  5.],\n",
       "         [ 1.,  1.,  1.]],\n",
       " \n",
       "        ...,\n",
       " \n",
       "        [[ 0.,  0.,  0.],\n",
       "         [ 3.,  3.,  3.],\n",
       "         [ 3.,  3.,  3.],\n",
       "         ...,\n",
       "         [37., 37., 37.],\n",
       "         [31., 31., 31.],\n",
       "         [ 3.,  3.,  3.]],\n",
       " \n",
       "        [[ 0.,  0.,  0.],\n",
       "         [ 4.,  4.,  4.],\n",
       "         [ 3.,  3.,  3.],\n",
       "         ...,\n",
       "         [37., 37., 37.],\n",
       "         [30., 30., 30.],\n",
       "         [ 2.,  2.,  2.]],\n",
       " \n",
       "        [[ 0.,  0.,  0.],\n",
       "         [ 0.,  0.,  0.],\n",
       "         [ 0.,  0.,  0.],\n",
       "         ...,\n",
       "         [12., 12., 12.],\n",
       "         [ 0.,  0.,  0.],\n",
       "         [ 1.,  1.,  1.]]], dtype=float32),\n",
       " array([[[ 13.,  13.,  13.],\n",
       "         [  0.,   0.,   0.],\n",
       "         [  0.,   0.,   0.],\n",
       "         ...,\n",
       "         [  0.,   0.,   0.],\n",
       "         [  0.,   0.,   0.],\n",
       "         [  0.,   0.,   0.]],\n",
       " \n",
       "        [[ 27.,  27.,  27.],\n",
       "         [ 14.,  14.,  14.],\n",
       "         [ 14.,  14.,  14.],\n",
       "         ...,\n",
       "         [ 15.,  15.,  15.],\n",
       "         [ 15.,  15.,  15.],\n",
       "         [  1.,   1.,   1.]],\n",
       " \n",
       "        [[ 28.,  28.,  28.],\n",
       "         [ 16.,  16.,  16.],\n",
       "         [ 14.,  14.,  14.],\n",
       "         ...,\n",
       "         [ 13.,  13.,  13.],\n",
       "         [ 13.,  13.,  13.],\n",
       "         [  0.,   0.,   0.]],\n",
       " \n",
       "        ...,\n",
       " \n",
       "        [[128., 128., 128.],\n",
       "         [133., 133., 133.],\n",
       "         [157., 157., 157.],\n",
       "         ...,\n",
       "         [162., 162., 162.],\n",
       "         [147., 147., 147.],\n",
       "         [127., 127., 127.]],\n",
       " \n",
       "        [[129., 129., 129.],\n",
       "         [131., 131., 131.],\n",
       "         [158., 158., 158.],\n",
       "         ...,\n",
       "         [157., 157., 157.],\n",
       "         [147., 147., 147.],\n",
       "         [124., 124., 124.]],\n",
       " \n",
       "        [[110., 110., 110.],\n",
       "         [118., 118., 118.],\n",
       "         [143., 143., 143.],\n",
       "         ...,\n",
       "         [145., 145., 145.],\n",
       "         [135., 135., 135.],\n",
       "         [110., 110., 110.]]], dtype=float32)]"
      ]
     },
     "execution_count": 46,
     "metadata": {},
     "output_type": "execute_result"
    }
   ],
   "source": [
    "images=[]\n",
    "dir_path='../input/coronahack-chest-xraydataset/Coronahack-Chest-XRay-Dataset/Coronahack-Chest-XRay-Dataset/train'\n",
    "for im_name in X_ray_image_names:\n",
    "    im_path=os.path.join(dir_path,im_name)\n",
    "    img=load_img(im_path,target_size=(224,224))\n",
    "    img=img_to_array(img)\n",
    "    images.append(img)\n",
    "images[:2]"
   ]
  },
  {
   "cell_type": "code",
   "execution_count": 47,
   "id": "627dbbaf",
   "metadata": {
    "execution": {
     "iopub.execute_input": "2022-08-29T11:33:18.551084Z",
     "iopub.status.busy": "2022-08-29T11:33:18.549533Z",
     "iopub.status.idle": "2022-08-29T11:33:18.577754Z",
     "shell.execute_reply": "2022-08-29T11:33:18.576755Z"
    },
    "papermill": {
     "duration": 0.050754,
     "end_time": "2022-08-29T11:33:18.580401",
     "exception": false,
     "start_time": "2022-08-29T11:33:18.529647",
     "status": "completed"
    },
    "tags": []
   },
   "outputs": [],
   "source": [
    "images=np.array(images)"
   ]
  },
  {
   "cell_type": "code",
   "execution_count": 48,
   "id": "1072ef8c",
   "metadata": {
    "execution": {
     "iopub.execute_input": "2022-08-29T11:33:18.621105Z",
     "iopub.status.busy": "2022-08-29T11:33:18.619550Z",
     "iopub.status.idle": "2022-08-29T11:33:18.646962Z",
     "shell.execute_reply": "2022-08-29T11:33:18.645853Z"
    },
    "papermill": {
     "duration": 0.049881,
     "end_time": "2022-08-29T11:33:18.649426",
     "exception": false,
     "start_time": "2022-08-29T11:33:18.599545",
     "status": "completed"
    },
    "tags": []
   },
   "outputs": [],
   "source": [
    "images=images / 255"
   ]
  },
  {
   "cell_type": "code",
   "execution_count": 49,
   "id": "49fb7ee3",
   "metadata": {
    "execution": {
     "iopub.execute_input": "2022-08-29T11:33:18.691202Z",
     "iopub.status.busy": "2022-08-29T11:33:18.690857Z",
     "iopub.status.idle": "2022-08-29T11:33:18.696884Z",
     "shell.execute_reply": "2022-08-29T11:33:18.695978Z"
    },
    "papermill": {
     "duration": 0.028336,
     "end_time": "2022-08-29T11:33:18.698830",
     "exception": false,
     "start_time": "2022-08-29T11:33:18.670494",
     "status": "completed"
    },
    "tags": []
   },
   "outputs": [
    {
     "data": {
      "text/plain": [
       "(119, 224, 224, 3)"
      ]
     },
     "execution_count": 49,
     "metadata": {},
     "output_type": "execute_result"
    }
   ],
   "source": [
    "images.shape"
   ]
  },
  {
   "cell_type": "code",
   "execution_count": 50,
   "id": "12d8091c",
   "metadata": {
    "execution": {
     "iopub.execute_input": "2022-08-29T11:33:18.739017Z",
     "iopub.status.busy": "2022-08-29T11:33:18.738208Z",
     "iopub.status.idle": "2022-08-29T11:33:18.744688Z",
     "shell.execute_reply": "2022-08-29T11:33:18.743804Z"
    },
    "papermill": {
     "duration": 0.028948,
     "end_time": "2022-08-29T11:33:18.746687",
     "exception": false,
     "start_time": "2022-08-29T11:33:18.717739",
     "status": "completed"
    },
    "tags": []
   },
   "outputs": [
    {
     "data": {
      "text/plain": [
       "(5286, 3)"
      ]
     },
     "execution_count": 50,
     "metadata": {},
     "output_type": "execute_result"
    }
   ],
   "source": [
    "y.shape"
   ]
  },
  {
   "cell_type": "code",
   "execution_count": 51,
   "id": "18e66b6f",
   "metadata": {
    "execution": {
     "iopub.execute_input": "2022-08-29T11:33:18.786627Z",
     "iopub.status.busy": "2022-08-29T11:33:18.785815Z",
     "iopub.status.idle": "2022-08-29T11:33:18.793896Z",
     "shell.execute_reply": "2022-08-29T11:33:18.792897Z"
    },
    "papermill": {
     "duration": 0.029622,
     "end_time": "2022-08-29T11:33:18.795813",
     "exception": false,
     "start_time": "2022-08-29T11:33:18.766191",
     "status": "completed"
    },
    "tags": []
   },
   "outputs": [
    {
     "data": {
      "text/plain": [
       "array([[1, 0, 0],\n",
       "       [1, 0, 0],\n",
       "       [1, 0, 0],\n",
       "       [1, 0, 0],\n",
       "       [1, 0, 0],\n",
       "       [1, 0, 0],\n",
       "       [1, 0, 0],\n",
       "       [1, 0, 0],\n",
       "       [1, 0, 0],\n",
       "       [1, 0, 0]])"
      ]
     },
     "execution_count": 51,
     "metadata": {},
     "output_type": "execute_result"
    }
   ],
   "source": [
    "mini_y_df=mini_df[['COVID-19','Normal','Other_penemonia']]\n",
    "mini_y=mini_y_df.values\n",
    "mini_y=mini_y.astype(int)\n",
    "mini_y[:10]"
   ]
  },
  {
   "cell_type": "code",
   "execution_count": 52,
   "id": "125625ba",
   "metadata": {
    "execution": {
     "iopub.execute_input": "2022-08-29T11:33:18.836208Z",
     "iopub.status.busy": "2022-08-29T11:33:18.835397Z",
     "iopub.status.idle": "2022-08-29T11:33:21.768140Z",
     "shell.execute_reply": "2022-08-29T11:33:21.767236Z"
    },
    "papermill": {
     "duration": 2.955765,
     "end_time": "2022-08-29T11:33:21.770457",
     "exception": false,
     "start_time": "2022-08-29T11:33:18.814692",
     "status": "completed"
    },
    "tags": []
   },
   "outputs": [
    {
     "name": "stderr",
     "output_type": "stream",
     "text": [
      "2022-08-29 11:33:18.948557: I tensorflow/stream_executor/cuda/cuda_gpu_executor.cc:937] successful NUMA node read from SysFS had negative value (-1), but there must be at least one NUMA node, so returning NUMA node zero\n",
      "2022-08-29 11:33:19.100544: I tensorflow/stream_executor/cuda/cuda_gpu_executor.cc:937] successful NUMA node read from SysFS had negative value (-1), but there must be at least one NUMA node, so returning NUMA node zero\n",
      "2022-08-29 11:33:19.101377: I tensorflow/stream_executor/cuda/cuda_gpu_executor.cc:937] successful NUMA node read from SysFS had negative value (-1), but there must be at least one NUMA node, so returning NUMA node zero\n",
      "2022-08-29 11:33:19.103292: I tensorflow/core/platform/cpu_feature_guard.cc:142] This TensorFlow binary is optimized with oneAPI Deep Neural Network Library (oneDNN) to use the following CPU instructions in performance-critical operations:  AVX2 AVX512F FMA\n",
      "To enable them in other operations, rebuild TensorFlow with the appropriate compiler flags.\n",
      "2022-08-29 11:33:19.103622: I tensorflow/stream_executor/cuda/cuda_gpu_executor.cc:937] successful NUMA node read from SysFS had negative value (-1), but there must be at least one NUMA node, so returning NUMA node zero\n",
      "2022-08-29 11:33:19.104674: I tensorflow/stream_executor/cuda/cuda_gpu_executor.cc:937] successful NUMA node read from SysFS had negative value (-1), but there must be at least one NUMA node, so returning NUMA node zero\n",
      "2022-08-29 11:33:19.105585: I tensorflow/stream_executor/cuda/cuda_gpu_executor.cc:937] successful NUMA node read from SysFS had negative value (-1), but there must be at least one NUMA node, so returning NUMA node zero\n",
      "2022-08-29 11:33:21.311192: I tensorflow/stream_executor/cuda/cuda_gpu_executor.cc:937] successful NUMA node read from SysFS had negative value (-1), but there must be at least one NUMA node, so returning NUMA node zero\n",
      "2022-08-29 11:33:21.312087: I tensorflow/stream_executor/cuda/cuda_gpu_executor.cc:937] successful NUMA node read from SysFS had negative value (-1), but there must be at least one NUMA node, so returning NUMA node zero\n",
      "2022-08-29 11:33:21.312766: I tensorflow/stream_executor/cuda/cuda_gpu_executor.cc:937] successful NUMA node read from SysFS had negative value (-1), but there must be at least one NUMA node, so returning NUMA node zero\n",
      "2022-08-29 11:33:21.313365: I tensorflow/core/common_runtime/gpu/gpu_device.cc:1510] Created device /job:localhost/replica:0/task:0/device:GPU:0 with 15401 MB memory:  -> device: 0, name: Tesla P100-PCIE-16GB, pci bus id: 0000:00:04.0, compute capability: 6.0\n"
     ]
    }
   ],
   "source": [
    "cnn=Sequential([\n",
    "    Conv2D(32,activation='relu',kernel_size=(3,3),padding='same',input_shape=(224,224,3)),\n",
    "    MaxPooling2D(pool_size=(2, 2),strides=(1, 1), padding='valid'),\n",
    "    Conv2D(64,activation='relu',kernel_size=(3,3),padding='same'),\n",
    "    MaxPooling2D(pool_size=(2, 2),strides=(1, 1), padding='valid'),\n",
    "    Conv2D(128,activation='relu',kernel_size=(3,3),padding='same'),\n",
    "    MaxPooling2D(pool_size=(2, 2),strides=(1, 1), padding='valid'),\n",
    "    Conv2D(64,activation='relu',kernel_size=(3,3),padding='same'),\n",
    "    MaxPooling2D(pool_size=(2, 2),strides=(1, 1), padding='valid'),\n",
    "    Flatten(),\n",
    "    Dense(3,activation='softmax')\n",
    "])"
   ]
  },
  {
   "cell_type": "code",
   "execution_count": 53,
   "id": "4e14b8e8",
   "metadata": {
    "execution": {
     "iopub.execute_input": "2022-08-29T11:33:21.811265Z",
     "iopub.status.busy": "2022-08-29T11:33:21.810654Z",
     "iopub.status.idle": "2022-08-29T11:33:21.822646Z",
     "shell.execute_reply": "2022-08-29T11:33:21.821799Z"
    },
    "papermill": {
     "duration": 0.034545,
     "end_time": "2022-08-29T11:33:21.824462",
     "exception": false,
     "start_time": "2022-08-29T11:33:21.789917",
     "status": "completed"
    },
    "tags": []
   },
   "outputs": [],
   "source": [
    "cnn.compile(optimizer='adam',loss='categorical_crossentropy',metrics=['accuracy'])"
   ]
  },
  {
   "cell_type": "code",
   "execution_count": 54,
   "id": "d30c7267",
   "metadata": {
    "execution": {
     "iopub.execute_input": "2022-08-29T11:33:21.863969Z",
     "iopub.status.busy": "2022-08-29T11:33:21.863668Z",
     "iopub.status.idle": "2022-08-29T11:33:42.493226Z",
     "shell.execute_reply": "2022-08-29T11:33:42.492295Z"
    },
    "papermill": {
     "duration": 20.651709,
     "end_time": "2022-08-29T11:33:42.495273",
     "exception": false,
     "start_time": "2022-08-29T11:33:21.843564",
     "status": "completed"
    },
    "tags": []
   },
   "outputs": [
    {
     "name": "stderr",
     "output_type": "stream",
     "text": [
      "2022-08-29 11:33:22.068010: I tensorflow/compiler/mlir/mlir_graph_optimization_pass.cc:185] None of the MLIR Optimization Passes are enabled (registered 2)\n"
     ]
    },
    {
     "name": "stdout",
     "output_type": "stream",
     "text": [
      "Epoch 1/10\n"
     ]
    },
    {
     "name": "stderr",
     "output_type": "stream",
     "text": [
      "2022-08-29 11:33:23.392360: I tensorflow/stream_executor/cuda/cuda_dnn.cc:369] Loaded cuDNN version 8005\n"
     ]
    },
    {
     "name": "stdout",
     "output_type": "stream",
     "text": [
      "12/12 - 10s - loss: 16.5447 - accuracy: 0.4958\n",
      "Epoch 2/10\n",
      "12/12 - 1s - loss: 0.5726 - accuracy: 0.8571\n",
      "Epoch 3/10\n",
      "12/12 - 1s - loss: 0.3837 - accuracy: 0.9076\n",
      "Epoch 4/10\n",
      "12/12 - 1s - loss: 0.1891 - accuracy: 0.9328\n",
      "Epoch 5/10\n",
      "12/12 - 1s - loss: 0.1604 - accuracy: 0.9580\n",
      "Epoch 6/10\n",
      "12/12 - 1s - loss: 0.6939 - accuracy: 0.9328\n",
      "Epoch 7/10\n",
      "12/12 - 1s - loss: 0.1280 - accuracy: 0.9496\n",
      "Epoch 8/10\n",
      "12/12 - 1s - loss: 0.1264 - accuracy: 0.9496\n",
      "Epoch 9/10\n",
      "12/12 - 1s - loss: 0.1198 - accuracy: 0.9664\n",
      "Epoch 10/10\n",
      "12/12 - 1s - loss: 0.0817 - accuracy: 0.9664\n"
     ]
    },
    {
     "data": {
      "text/plain": [
       "<keras.callbacks.History at 0x7f79b51e4f10>"
      ]
     },
     "execution_count": 54,
     "metadata": {},
     "output_type": "execute_result"
    }
   ],
   "source": [
    "cnn.fit(images,mini_y,verbose=2,epochs=10,batch_size=10)"
   ]
  },
  {
   "cell_type": "code",
   "execution_count": 55,
   "id": "a191afe6",
   "metadata": {
    "execution": {
     "iopub.execute_input": "2022-08-29T11:33:42.538257Z",
     "iopub.status.busy": "2022-08-29T11:33:42.537948Z",
     "iopub.status.idle": "2022-08-29T11:33:47.884706Z",
     "shell.execute_reply": "2022-08-29T11:33:47.883513Z"
    },
    "papermill": {
     "duration": 5.371119,
     "end_time": "2022-08-29T11:33:47.887423",
     "exception": false,
     "start_time": "2022-08-29T11:33:42.516304",
     "status": "completed"
    },
    "tags": []
   },
   "outputs": [],
   "source": [
    "y_pred=cnn.predict(images)"
   ]
  },
  {
   "cell_type": "code",
   "execution_count": 56,
   "id": "b01f114e",
   "metadata": {
    "execution": {
     "iopub.execute_input": "2022-08-29T11:33:47.931244Z",
     "iopub.status.busy": "2022-08-29T11:33:47.930921Z",
     "iopub.status.idle": "2022-08-29T11:33:47.937764Z",
     "shell.execute_reply": "2022-08-29T11:33:47.936683Z"
    },
    "papermill": {
     "duration": 0.031303,
     "end_time": "2022-08-29T11:33:47.939984",
     "exception": false,
     "start_time": "2022-08-29T11:33:47.908681",
     "status": "completed"
    },
    "tags": []
   },
   "outputs": [
    {
     "data": {
      "text/plain": [
       "array([[1, 0, 0],\n",
       "       [1, 0, 0],\n",
       "       [1, 0, 0],\n",
       "       [1, 0, 0],\n",
       "       [0, 1, 0],\n",
       "       [1, 0, 0],\n",
       "       [1, 0, 0],\n",
       "       [1, 0, 0],\n",
       "       [1, 0, 0],\n",
       "       [1, 0, 0],\n",
       "       [1, 0, 0],\n",
       "       [1, 0, 0],\n",
       "       [1, 0, 0],\n",
       "       [1, 0, 0],\n",
       "       [1, 0, 0],\n",
       "       [1, 0, 0],\n",
       "       [1, 0, 0],\n",
       "       [1, 0, 0],\n",
       "       [1, 0, 0],\n",
       "       [1, 0, 0],\n",
       "       [1, 0, 0],\n",
       "       [1, 0, 0],\n",
       "       [1, 0, 0]])"
      ]
     },
     "execution_count": 56,
     "metadata": {},
     "output_type": "execute_result"
    }
   ],
   "source": [
    "y[5237:5260]"
   ]
  },
  {
   "cell_type": "code",
   "execution_count": 57,
   "id": "63d31aa2",
   "metadata": {
    "execution": {
     "iopub.execute_input": "2022-08-29T11:33:47.982787Z",
     "iopub.status.busy": "2022-08-29T11:33:47.982518Z",
     "iopub.status.idle": "2022-08-29T11:33:47.988140Z",
     "shell.execute_reply": "2022-08-29T11:33:47.987235Z"
    },
    "papermill": {
     "duration": 0.029857,
     "end_time": "2022-08-29T11:33:47.990512",
     "exception": false,
     "start_time": "2022-08-29T11:33:47.960655",
     "status": "completed"
    },
    "tags": []
   },
   "outputs": [
    {
     "data": {
      "text/plain": [
       "array([], shape=(0, 3), dtype=float32)"
      ]
     },
     "execution_count": 57,
     "metadata": {},
     "output_type": "execute_result"
    }
   ],
   "source": [
    "y_pred[5237:5260]"
   ]
  },
  {
   "cell_type": "code",
   "execution_count": null,
   "id": "15f45497",
   "metadata": {
    "papermill": {
     "duration": 0.020561,
     "end_time": "2022-08-29T11:33:48.031760",
     "exception": false,
     "start_time": "2022-08-29T11:33:48.011199",
     "status": "completed"
    },
    "tags": []
   },
   "outputs": [],
   "source": []
  },
  {
   "cell_type": "code",
   "execution_count": null,
   "id": "2ae3521e",
   "metadata": {
    "papermill": {
     "duration": 0.020542,
     "end_time": "2022-08-29T11:33:48.072956",
     "exception": false,
     "start_time": "2022-08-29T11:33:48.052414",
     "status": "completed"
    },
    "tags": []
   },
   "outputs": [],
   "source": []
  },
  {
   "cell_type": "code",
   "execution_count": null,
   "id": "c0ad212b",
   "metadata": {
    "papermill": {
     "duration": 0.020087,
     "end_time": "2022-08-29T11:33:48.113125",
     "exception": false,
     "start_time": "2022-08-29T11:33:48.093038",
     "status": "completed"
    },
    "tags": []
   },
   "outputs": [],
   "source": []
  }
 ],
 "metadata": {
  "kernelspec": {
   "display_name": "Python 3",
   "language": "python",
   "name": "python3"
  },
  "language_info": {
   "codemirror_mode": {
    "name": "ipython",
    "version": 3
   },
   "file_extension": ".py",
   "mimetype": "text/x-python",
   "name": "python",
   "nbconvert_exporter": "python",
   "pygments_lexer": "ipython3",
   "version": "3.7.12"
  },
  "papermill": {
   "default_parameters": {},
   "duration": 57.331181,
   "end_time": "2022-08-29T11:33:50.961327",
   "environment_variables": {},
   "exception": null,
   "input_path": "__notebook__.ipynb",
   "output_path": "__notebook__.ipynb",
   "parameters": {},
   "start_time": "2022-08-29T11:32:53.630146",
   "version": "2.3.4"
  }
 },
 "nbformat": 4,
 "nbformat_minor": 5
}
