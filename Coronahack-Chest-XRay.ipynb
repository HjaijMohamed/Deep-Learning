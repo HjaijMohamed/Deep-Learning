{
 "cells": [
  {
   "cell_type": "code",
   "execution_count": 1,
   "id": "c49ae14e",
   "metadata": {
    "execution": {
     "iopub.execute_input": "2022-08-30T02:45:52.111459Z",
     "iopub.status.busy": "2022-08-30T02:45:52.110937Z",
     "iopub.status.idle": "2022-08-30T02:45:58.648921Z",
     "shell.execute_reply": "2022-08-30T02:45:58.647858Z"
    },
    "id": "jh-e6e1jIB19",
    "papermill": {
     "duration": 6.560649,
     "end_time": "2022-08-30T02:45:58.651438",
     "exception": false,
     "start_time": "2022-08-30T02:45:52.090789",
     "status": "completed"
    },
    "tags": []
   },
   "outputs": [],
   "source": [
    "from tensorflow.keras.preprocessing.image import load_img,img_to_array\n",
    "from tensorflow.keras.layers import Dense,Conv2D,MaxPooling2D,Flatten\n",
    "from tensorflow.keras.models import Sequential\n",
    "import pandas as pd\n",
    "import numpy as np\n",
    "import seaborn as sns\n",
    "import matplotlib.pyplot as plt\n",
    "import os"
   ]
  },
  {
   "cell_type": "code",
   "execution_count": 2,
   "id": "e4148abd",
   "metadata": {
    "execution": {
     "iopub.execute_input": "2022-08-30T02:45:58.688370Z",
     "iopub.status.busy": "2022-08-30T02:45:58.686341Z",
     "iopub.status.idle": "2022-08-30T02:45:58.691529Z",
     "shell.execute_reply": "2022-08-30T02:45:58.690650Z"
    },
    "papermill": {
     "duration": 0.024854,
     "end_time": "2022-08-30T02:45:58.693473",
     "exception": false,
     "start_time": "2022-08-30T02:45:58.668619",
     "status": "completed"
    },
    "tags": []
   },
   "outputs": [],
   "source": [
    "#for dirname, _, filenames in os.walk('/kaggle/input'):\n",
    " #   for filename in filenames:\n",
    "  #      print(os.path.join(dirname, filename))"
   ]
  },
  {
   "cell_type": "markdown",
   "id": "e9295094",
   "metadata": {
    "papermill": {
     "duration": 0.015791,
     "end_time": "2022-08-30T02:45:58.725182",
     "exception": false,
     "start_time": "2022-08-30T02:45:58.709391",
     "status": "completed"
    },
    "tags": []
   },
   "source": [
    "# II.EDA"
   ]
  },
  {
   "cell_type": "code",
   "execution_count": 3,
   "id": "c7c8b3a2",
   "metadata": {
    "execution": {
     "iopub.execute_input": "2022-08-30T02:45:58.758629Z",
     "iopub.status.busy": "2022-08-30T02:45:58.757652Z",
     "iopub.status.idle": "2022-08-30T02:45:58.787273Z",
     "shell.execute_reply": "2022-08-30T02:45:58.786334Z"
    },
    "id": "vHowHWWRJAGA",
    "papermill": {
     "duration": 0.048715,
     "end_time": "2022-08-30T02:45:58.789754",
     "exception": false,
     "start_time": "2022-08-30T02:45:58.741039",
     "status": "completed"
    },
    "tags": []
   },
   "outputs": [],
   "source": [
    "df=pd.read_csv('../input/coronahack-chest-xraydataset/Chest_xray_Corona_Metadata.csv')"
   ]
  },
  {
   "cell_type": "code",
   "execution_count": 4,
   "id": "bc6d9ffd",
   "metadata": {
    "execution": {
     "iopub.execute_input": "2022-08-30T02:45:58.823695Z",
     "iopub.status.busy": "2022-08-30T02:45:58.823359Z",
     "iopub.status.idle": "2022-08-30T02:45:58.842185Z",
     "shell.execute_reply": "2022-08-30T02:45:58.841244Z"
    },
    "id": "HEJLRKDLIZqt",
    "outputId": "00dfe13d-b02c-46f4-8218-7eedcabbe44d",
    "papermill": {
     "duration": 0.038165,
     "end_time": "2022-08-30T02:45:58.844348",
     "exception": false,
     "start_time": "2022-08-30T02:45:58.806183",
     "status": "completed"
    },
    "tags": []
   },
   "outputs": [
    {
     "data": {
      "text/html": [
       "<div>\n",
       "<style scoped>\n",
       "    .dataframe tbody tr th:only-of-type {\n",
       "        vertical-align: middle;\n",
       "    }\n",
       "\n",
       "    .dataframe tbody tr th {\n",
       "        vertical-align: top;\n",
       "    }\n",
       "\n",
       "    .dataframe thead th {\n",
       "        text-align: right;\n",
       "    }\n",
       "</style>\n",
       "<table border=\"1\" class=\"dataframe\">\n",
       "  <thead>\n",
       "    <tr style=\"text-align: right;\">\n",
       "      <th></th>\n",
       "      <th>Unnamed: 0</th>\n",
       "      <th>X_ray_image_name</th>\n",
       "      <th>Label</th>\n",
       "      <th>Dataset_type</th>\n",
       "      <th>Label_2_Virus_category</th>\n",
       "      <th>Label_1_Virus_category</th>\n",
       "    </tr>\n",
       "  </thead>\n",
       "  <tbody>\n",
       "    <tr>\n",
       "      <th>0</th>\n",
       "      <td>0</td>\n",
       "      <td>IM-0128-0001.jpeg</td>\n",
       "      <td>Normal</td>\n",
       "      <td>TRAIN</td>\n",
       "      <td>NaN</td>\n",
       "      <td>NaN</td>\n",
       "    </tr>\n",
       "    <tr>\n",
       "      <th>1</th>\n",
       "      <td>1</td>\n",
       "      <td>IM-0127-0001.jpeg</td>\n",
       "      <td>Normal</td>\n",
       "      <td>TRAIN</td>\n",
       "      <td>NaN</td>\n",
       "      <td>NaN</td>\n",
       "    </tr>\n",
       "    <tr>\n",
       "      <th>2</th>\n",
       "      <td>2</td>\n",
       "      <td>IM-0125-0001.jpeg</td>\n",
       "      <td>Normal</td>\n",
       "      <td>TRAIN</td>\n",
       "      <td>NaN</td>\n",
       "      <td>NaN</td>\n",
       "    </tr>\n",
       "    <tr>\n",
       "      <th>3</th>\n",
       "      <td>3</td>\n",
       "      <td>IM-0122-0001.jpeg</td>\n",
       "      <td>Normal</td>\n",
       "      <td>TRAIN</td>\n",
       "      <td>NaN</td>\n",
       "      <td>NaN</td>\n",
       "    </tr>\n",
       "    <tr>\n",
       "      <th>4</th>\n",
       "      <td>4</td>\n",
       "      <td>IM-0119-0001.jpeg</td>\n",
       "      <td>Normal</td>\n",
       "      <td>TRAIN</td>\n",
       "      <td>NaN</td>\n",
       "      <td>NaN</td>\n",
       "    </tr>\n",
       "  </tbody>\n",
       "</table>\n",
       "</div>"
      ],
      "text/plain": [
       "   Unnamed: 0   X_ray_image_name   Label Dataset_type Label_2_Virus_category  \\\n",
       "0           0  IM-0128-0001.jpeg  Normal        TRAIN                    NaN   \n",
       "1           1  IM-0127-0001.jpeg  Normal        TRAIN                    NaN   \n",
       "2           2  IM-0125-0001.jpeg  Normal        TRAIN                    NaN   \n",
       "3           3  IM-0122-0001.jpeg  Normal        TRAIN                    NaN   \n",
       "4           4  IM-0119-0001.jpeg  Normal        TRAIN                    NaN   \n",
       "\n",
       "  Label_1_Virus_category  \n",
       "0                    NaN  \n",
       "1                    NaN  \n",
       "2                    NaN  \n",
       "3                    NaN  \n",
       "4                    NaN  "
      ]
     },
     "execution_count": 4,
     "metadata": {},
     "output_type": "execute_result"
    }
   ],
   "source": [
    "df.head()"
   ]
  },
  {
   "cell_type": "code",
   "execution_count": 5,
   "id": "5ff6a841",
   "metadata": {
    "execution": {
     "iopub.execute_input": "2022-08-30T02:45:58.878242Z",
     "iopub.status.busy": "2022-08-30T02:45:58.877433Z",
     "iopub.status.idle": "2022-08-30T02:45:58.883862Z",
     "shell.execute_reply": "2022-08-30T02:45:58.882865Z"
    },
    "id": "4_ffHKZ2Lc4j",
    "outputId": "129631fa-e120-45a8-c206-c02056d00a74",
    "papermill": {
     "duration": 0.025319,
     "end_time": "2022-08-30T02:45:58.885822",
     "exception": false,
     "start_time": "2022-08-30T02:45:58.860503",
     "status": "completed"
    },
    "tags": []
   },
   "outputs": [
    {
     "data": {
      "text/plain": [
       "(5910, 6)"
      ]
     },
     "execution_count": 5,
     "metadata": {},
     "output_type": "execute_result"
    }
   ],
   "source": [
    "df.shape  "
   ]
  },
  {
   "cell_type": "code",
   "execution_count": 6,
   "id": "ed32ec61",
   "metadata": {
    "execution": {
     "iopub.execute_input": "2022-08-30T02:45:58.920027Z",
     "iopub.status.busy": "2022-08-30T02:45:58.919097Z",
     "iopub.status.idle": "2022-08-30T02:45:58.943593Z",
     "shell.execute_reply": "2022-08-30T02:45:58.941953Z"
    },
    "id": "KEdwb2AiLgTN",
    "outputId": "e530190e-e282-4aa6-9ec1-c5f7625cc3ae",
    "papermill": {
     "duration": 0.043733,
     "end_time": "2022-08-30T02:45:58.945713",
     "exception": false,
     "start_time": "2022-08-30T02:45:58.901980",
     "status": "completed"
    },
    "tags": []
   },
   "outputs": [
    {
     "name": "stdout",
     "output_type": "stream",
     "text": [
      "<class 'pandas.core.frame.DataFrame'>\n",
      "RangeIndex: 5910 entries, 0 to 5909\n",
      "Data columns (total 6 columns):\n",
      " #   Column                  Non-Null Count  Dtype \n",
      "---  ------                  --------------  ----- \n",
      " 0   Unnamed: 0              5910 non-null   int64 \n",
      " 1   X_ray_image_name        5910 non-null   object\n",
      " 2   Label                   5910 non-null   object\n",
      " 3   Dataset_type            5910 non-null   object\n",
      " 4   Label_2_Virus_category  69 non-null     object\n",
      " 5   Label_1_Virus_category  4334 non-null   object\n",
      "dtypes: int64(1), object(5)\n",
      "memory usage: 277.2+ KB\n"
     ]
    }
   ],
   "source": [
    "df.info()"
   ]
  },
  {
   "cell_type": "code",
   "execution_count": 7,
   "id": "0232d4f3",
   "metadata": {
    "execution": {
     "iopub.execute_input": "2022-08-30T02:45:58.981984Z",
     "iopub.status.busy": "2022-08-30T02:45:58.980262Z",
     "iopub.status.idle": "2022-08-30T02:45:58.988673Z",
     "shell.execute_reply": "2022-08-30T02:45:58.987739Z"
    },
    "id": "b3_qEu-_Mlb_",
    "outputId": "63224ee1-73b9-41bc-d52b-230ce3aee269",
    "papermill": {
     "duration": 0.028254,
     "end_time": "2022-08-30T02:45:58.990616",
     "exception": false,
     "start_time": "2022-08-30T02:45:58.962362",
     "status": "completed"
    },
    "tags": []
   },
   "outputs": [
    {
     "data": {
      "text/plain": [
       "TRAIN    5286\n",
       "TEST      624\n",
       "Name: Dataset_type, dtype: int64"
      ]
     },
     "execution_count": 7,
     "metadata": {},
     "output_type": "execute_result"
    }
   ],
   "source": [
    "df['Dataset_type'].value_counts()"
   ]
  },
  {
   "cell_type": "code",
   "execution_count": 8,
   "id": "7bd9f581",
   "metadata": {
    "execution": {
     "iopub.execute_input": "2022-08-30T02:45:59.040983Z",
     "iopub.status.busy": "2022-08-30T02:45:59.039970Z",
     "iopub.status.idle": "2022-08-30T02:45:59.064453Z",
     "shell.execute_reply": "2022-08-30T02:45:59.063266Z"
    },
    "id": "PiQbsKh4MtYT",
    "outputId": "726c3c7e-2305-4be3-e167-1c96503b1119",
    "papermill": {
     "duration": 0.062798,
     "end_time": "2022-08-30T02:45:59.070133",
     "exception": false,
     "start_time": "2022-08-30T02:45:59.007335",
     "status": "completed"
    },
    "tags": []
   },
   "outputs": [
    {
     "name": "stdout",
     "output_type": "stream",
     "text": [
      "train_shape : (5286, 6)\n",
      "test_shape : (624, 6)\n"
     ]
    }
   ],
   "source": [
    "train_df=df[df['Dataset_type']=='TRAIN']\n",
    "test_df=df[df['Dataset_type']=='TEST']\n",
    "print('train_shape :',train_df.shape)\n",
    "print('test_shape :',test_df.shape)\n",
    "train_df=train_df[['X_ray_image_name','Label','Label_2_Virus_category','Label_1_Virus_category']]\n",
    "test_df=test_df[['X_ray_image_name','Label','Label_2_Virus_category','Label_1_Virus_category']]"
   ]
  },
  {
   "cell_type": "code",
   "execution_count": 9,
   "id": "f133be1f",
   "metadata": {
    "execution": {
     "iopub.execute_input": "2022-08-30T02:45:59.133601Z",
     "iopub.status.busy": "2022-08-30T02:45:59.133196Z",
     "iopub.status.idle": "2022-08-30T02:45:59.154789Z",
     "shell.execute_reply": "2022-08-30T02:45:59.153939Z"
    },
    "id": "uYj68mTWOlMw",
    "outputId": "f95ace2f-89ba-44b4-e0ae-be44d0d83c07",
    "papermill": {
     "duration": 0.060165,
     "end_time": "2022-08-30T02:45:59.157288",
     "exception": false,
     "start_time": "2022-08-30T02:45:59.097123",
     "status": "completed"
    },
    "tags": []
   },
   "outputs": [
    {
     "name": "stdout",
     "output_type": "stream",
     "text": [
      "<class 'pandas.core.frame.DataFrame'>\n",
      "Int64Index: 5286 entries, 0 to 5285\n",
      "Data columns (total 4 columns):\n",
      " #   Column                  Non-Null Count  Dtype \n",
      "---  ------                  --------------  ----- \n",
      " 0   X_ray_image_name        5286 non-null   object\n",
      " 1   Label                   5286 non-null   object\n",
      " 2   Label_2_Virus_category  69 non-null     object\n",
      " 3   Label_1_Virus_category  3944 non-null   object\n",
      "dtypes: object(4)\n",
      "memory usage: 206.5+ KB\n"
     ]
    }
   ],
   "source": [
    "train_df.info()"
   ]
  },
  {
   "cell_type": "code",
   "execution_count": 10,
   "id": "200e4fae",
   "metadata": {
    "execution": {
     "iopub.execute_input": "2022-08-30T02:45:59.214617Z",
     "iopub.status.busy": "2022-08-30T02:45:59.214234Z",
     "iopub.status.idle": "2022-08-30T02:45:59.231394Z",
     "shell.execute_reply": "2022-08-30T02:45:59.230376Z"
    },
    "id": "8Pm_GhvLKvf6",
    "outputId": "90d0e761-295c-475d-d586-f080740a622f",
    "papermill": {
     "duration": 0.04559,
     "end_time": "2022-08-30T02:45:59.234183",
     "exception": false,
     "start_time": "2022-08-30T02:45:59.188593",
     "status": "completed"
    },
    "tags": []
   },
   "outputs": [
    {
     "name": "stdout",
     "output_type": "stream",
     "text": [
      "<class 'pandas.core.frame.DataFrame'>\n",
      "Int64Index: 624 entries, 5286 to 5909\n",
      "Data columns (total 4 columns):\n",
      " #   Column                  Non-Null Count  Dtype \n",
      "---  ------                  --------------  ----- \n",
      " 0   X_ray_image_name        624 non-null    object\n",
      " 1   Label                   624 non-null    object\n",
      " 2   Label_2_Virus_category  0 non-null      object\n",
      " 3   Label_1_Virus_category  390 non-null    object\n",
      "dtypes: object(4)\n",
      "memory usage: 24.4+ KB\n"
     ]
    }
   ],
   "source": [
    "test_df.info()"
   ]
  },
  {
   "cell_type": "code",
   "execution_count": 11,
   "id": "f9f61efa",
   "metadata": {
    "execution": {
     "iopub.execute_input": "2022-08-30T02:45:59.290514Z",
     "iopub.status.busy": "2022-08-30T02:45:59.290132Z",
     "iopub.status.idle": "2022-08-30T02:45:59.319098Z",
     "shell.execute_reply": "2022-08-30T02:45:59.318096Z"
    },
    "papermill": {
     "duration": 0.05812,
     "end_time": "2022-08-30T02:45:59.321708",
     "exception": false,
     "start_time": "2022-08-30T02:45:59.263588",
     "status": "completed"
    },
    "tags": []
   },
   "outputs": [
    {
     "data": {
      "text/html": [
       "<div>\n",
       "<style scoped>\n",
       "    .dataframe tbody tr th:only-of-type {\n",
       "        vertical-align: middle;\n",
       "    }\n",
       "\n",
       "    .dataframe tbody tr th {\n",
       "        vertical-align: top;\n",
       "    }\n",
       "\n",
       "    .dataframe thead th {\n",
       "        text-align: right;\n",
       "    }\n",
       "</style>\n",
       "<table border=\"1\" class=\"dataframe\">\n",
       "  <thead>\n",
       "    <tr style=\"text-align: right;\">\n",
       "      <th></th>\n",
       "      <th>X_ray_image_name</th>\n",
       "      <th>Label</th>\n",
       "      <th>Label_2_Virus_category</th>\n",
       "      <th>Label_1_Virus_category</th>\n",
       "    </tr>\n",
       "  </thead>\n",
       "  <tbody>\n",
       "    <tr>\n",
       "      <th>count</th>\n",
       "      <td>5286</td>\n",
       "      <td>5286</td>\n",
       "      <td>69</td>\n",
       "      <td>3944</td>\n",
       "    </tr>\n",
       "    <tr>\n",
       "      <th>unique</th>\n",
       "      <td>5286</td>\n",
       "      <td>2</td>\n",
       "      <td>4</td>\n",
       "      <td>3</td>\n",
       "    </tr>\n",
       "    <tr>\n",
       "      <th>top</th>\n",
       "      <td>IM-0128-0001.jpeg</td>\n",
       "      <td>Pnemonia</td>\n",
       "      <td>COVID-19</td>\n",
       "      <td>bacteria</td>\n",
       "    </tr>\n",
       "    <tr>\n",
       "      <th>freq</th>\n",
       "      <td>1</td>\n",
       "      <td>3944</td>\n",
       "      <td>58</td>\n",
       "      <td>2535</td>\n",
       "    </tr>\n",
       "  </tbody>\n",
       "</table>\n",
       "</div>"
      ],
      "text/plain": [
       "         X_ray_image_name     Label Label_2_Virus_category  \\\n",
       "count                5286      5286                     69   \n",
       "unique               5286         2                      4   \n",
       "top     IM-0128-0001.jpeg  Pnemonia               COVID-19   \n",
       "freq                    1      3944                     58   \n",
       "\n",
       "       Label_1_Virus_category  \n",
       "count                    3944  \n",
       "unique                      3  \n",
       "top                  bacteria  \n",
       "freq                     2535  "
      ]
     },
     "execution_count": 11,
     "metadata": {},
     "output_type": "execute_result"
    }
   ],
   "source": [
    "train_df.describe()"
   ]
  },
  {
   "cell_type": "code",
   "execution_count": 12,
   "id": "2958e3d7",
   "metadata": {
    "execution": {
     "iopub.execute_input": "2022-08-30T02:45:59.378961Z",
     "iopub.status.busy": "2022-08-30T02:45:59.378540Z",
     "iopub.status.idle": "2022-08-30T02:45:59.941557Z",
     "shell.execute_reply": "2022-08-30T02:45:59.940623Z"
    },
    "papermill": {
     "duration": 0.594292,
     "end_time": "2022-08-30T02:45:59.944204",
     "exception": false,
     "start_time": "2022-08-30T02:45:59.349912",
     "status": "completed"
    },
    "tags": []
   },
   "outputs": [
    {
     "data": {
      "text/plain": [
       "<AxesSubplot:>"
      ]
     },
     "execution_count": 12,
     "metadata": {},
     "output_type": "execute_result"
    },
    {
     "data": {
      "image/png": "[encoded data removed]",
      "text/plain": [
       "<Figure size 432x288 with 2 Axes>"
      ]
     },
     "metadata": {
      "needs_background": "light"
     },
     "output_type": "display_data"
    }
   ],
   "source": [
    "sns.heatmap(train_df.isna())"
   ]
  },
  {
   "cell_type": "markdown",
   "id": "3ec42d7b",
   "metadata": {
    "papermill": {
     "duration": 0.027891,
     "end_time": "2022-08-30T02:45:59.999847",
     "exception": false,
     "start_time": "2022-08-30T02:45:59.971956",
     "status": "completed"
    },
    "tags": []
   },
   "source": [
    "## 1.INTO 'Label':"
   ]
  },
  {
   "cell_type": "code",
   "execution_count": 13,
   "id": "9dc39080",
   "metadata": {
    "execution": {
     "iopub.execute_input": "2022-08-30T02:46:00.054320Z",
     "iopub.status.busy": "2022-08-30T02:46:00.053931Z",
     "iopub.status.idle": "2022-08-30T02:46:00.058944Z",
     "shell.execute_reply": "2022-08-30T02:46:00.058023Z"
    },
    "id": "s5BrwB4Yj_fB",
    "outputId": "a3a54dcd-5688-4551-ee66-b858ef4a051e",
    "papermill": {
     "duration": 0.036546,
     "end_time": "2022-08-30T02:46:00.062952",
     "exception": false,
     "start_time": "2022-08-30T02:46:00.026406",
     "status": "completed"
    },
    "tags": []
   },
   "outputs": [],
   "source": [
    "label_df=train_df['Label'].copy()"
   ]
  },
  {
   "cell_type": "code",
   "execution_count": 14,
   "id": "71416694",
   "metadata": {
    "execution": {
     "iopub.execute_input": "2022-08-30T02:46:00.117621Z",
     "iopub.status.busy": "2022-08-30T02:46:00.117238Z",
     "iopub.status.idle": "2022-08-30T02:46:00.344424Z",
     "shell.execute_reply": "2022-08-30T02:46:00.343537Z"
    },
    "id": "873bkhceLgV4",
    "outputId": "6753be86-327d-46e8-9627-5016113cfcbf",
    "papermill": {
     "duration": 0.258173,
     "end_time": "2022-08-30T02:46:00.347317",
     "exception": false,
     "start_time": "2022-08-30T02:46:00.089144",
     "status": "completed"
    },
    "tags": []
   },
   "outputs": [
    {
     "name": "stderr",
     "output_type": "stream",
     "text": [
      "/opt/conda/lib/python3.7/site-packages/seaborn/_decorators.py:43: FutureWarning: Pass the following variable as a keyword arg: x. From version 0.12, the only valid positional argument will be `data`, and passing other arguments without an explicit keyword will result in an error or misinterpretation.\n",
      "  FutureWarning\n"
     ]
    },
    {
     "name": "stdout",
     "output_type": "stream",
     "text": [
      "Pnemonia    3944\n",
      "Normal      1342\n",
      "Name: Label, dtype: int64\n"
     ]
    },
    {
     "data": {
      "image/png": "[encoded data removed]",
      "text/plain": [
       "<Figure size 432x288 with 1 Axes>"
      ]
     },
     "metadata": {
      "needs_background": "light"
     },
     "output_type": "display_data"
    }
   ],
   "source": [
    "sns.countplot(label_df)\n",
    "print(label_df.value_counts(dropna=False))"
   ]
  },
  {
   "cell_type": "code",
   "execution_count": 15,
   "id": "b966a43f",
   "metadata": {
    "execution": {
     "iopub.execute_input": "2022-08-30T02:46:00.405348Z",
     "iopub.status.busy": "2022-08-30T02:46:00.405017Z",
     "iopub.status.idle": "2022-08-30T02:46:00.413740Z",
     "shell.execute_reply": "2022-08-30T02:46:00.412876Z"
    },
    "papermill": {
     "duration": 0.039349,
     "end_time": "2022-08-30T02:46:00.415809",
     "exception": false,
     "start_time": "2022-08-30T02:46:00.376460",
     "status": "completed"
    },
    "tags": []
   },
   "outputs": [
    {
     "data": {
      "text/plain": [
       "Index(['Pnemonia', 'Normal'], dtype='object')"
      ]
     },
     "execution_count": 15,
     "metadata": {},
     "output_type": "execute_result"
    }
   ],
   "source": [
    "label_df.value_counts(dropna=False).index"
   ]
  },
  {
   "cell_type": "code",
   "execution_count": 16,
   "id": "d0088e96",
   "metadata": {
    "execution": {
     "iopub.execute_input": "2022-08-30T02:46:00.452776Z",
     "iopub.status.busy": "2022-08-30T02:46:00.452451Z",
     "iopub.status.idle": "2022-08-30T02:46:00.553143Z",
     "shell.execute_reply": "2022-08-30T02:46:00.551745Z"
    },
    "papermill": {
     "duration": 0.122834,
     "end_time": "2022-08-30T02:46:00.556678",
     "exception": false,
     "start_time": "2022-08-30T02:46:00.433844",
     "status": "completed"
    },
    "tags": []
   },
   "outputs": [
    {
     "data": {
      "text/plain": [
       "([<matplotlib.patches.Wedge at 0x7fd034d06290>,\n",
       "  <matplotlib.patches.Wedge at 0x7fd034d06c10>],\n",
       " [Text(-0.7682833087364032, 0.7872361510481113, 'Pnemonia'),\n",
       "  Text(0.768283308736403, -0.7872361510481114, 'Normal')],\n",
       " [Text(-0.41906362294712896, 0.4294015369353334, '74.6%'),\n",
       "  Text(0.4190636229471289, -0.42940153693533345, '25.4%')])"
      ]
     },
     "execution_count": 16,
     "metadata": {},
     "output_type": "execute_result"
    },
    {
     "data": {
      "image/png": "[encoded data removed]",
      "text/plain": [
       "<Figure size 432x288 with 1 Axes>"
      ]
     },
     "metadata": {},
     "output_type": "display_data"
    }
   ],
   "source": [
    "plt.pie(x=label_df.value_counts(dropna=False),labels=label_df.value_counts(dropna=False).index,autopct='%1.1f%%')"
   ]
  },
  {
   "cell_type": "markdown",
   "id": "cefe6b5e",
   "metadata": {
    "papermill": {
     "duration": 0.049367,
     "end_time": "2022-08-30T02:46:00.655017",
     "exception": false,
     "start_time": "2022-08-30T02:46:00.605650",
     "status": "completed"
    },
    "tags": []
   },
   "source": [
    "## 2.INTO 'Label_1_Virus_category':"
   ]
  },
  {
   "cell_type": "code",
   "execution_count": 17,
   "id": "ff49dbc6",
   "metadata": {
    "execution": {
     "iopub.execute_input": "2022-08-30T02:46:00.692310Z",
     "iopub.status.busy": "2022-08-30T02:46:00.691969Z",
     "iopub.status.idle": "2022-08-30T02:46:00.696795Z",
     "shell.execute_reply": "2022-08-30T02:46:00.695739Z"
    },
    "papermill": {
     "duration": 0.025686,
     "end_time": "2022-08-30T02:46:00.699051",
     "exception": false,
     "start_time": "2022-08-30T02:46:00.673365",
     "status": "completed"
    },
    "tags": []
   },
   "outputs": [],
   "source": [
    "label1_df=train_df['Label_1_Virus_category'].copy()"
   ]
  },
  {
   "cell_type": "code",
   "execution_count": 18,
   "id": "68ef401b",
   "metadata": {
    "execution": {
     "iopub.execute_input": "2022-08-30T02:46:00.736825Z",
     "iopub.status.busy": "2022-08-30T02:46:00.736475Z",
     "iopub.status.idle": "2022-08-30T02:46:00.937556Z",
     "shell.execute_reply": "2022-08-30T02:46:00.935852Z"
    },
    "id": "x5UGrvJ9K4qs",
    "outputId": "9c04eed3-52fb-488d-dbca-11403c7e6452",
    "papermill": {
     "duration": 0.22406,
     "end_time": "2022-08-30T02:46:00.940603",
     "exception": false,
     "start_time": "2022-08-30T02:46:00.716543",
     "status": "completed"
    },
    "tags": []
   },
   "outputs": [
    {
     "name": "stdout",
     "output_type": "stream",
     "text": [
      "bacteria          2535\n",
      "Virus             1407\n",
      "NaN               1342\n",
      "Stress-Smoking       2\n",
      "Name: Label_1_Virus_category, dtype: int64\n"
     ]
    },
    {
     "name": "stderr",
     "output_type": "stream",
     "text": [
      "/opt/conda/lib/python3.7/site-packages/seaborn/_decorators.py:43: FutureWarning: Pass the following variable as a keyword arg: x. From version 0.12, the only valid positional argument will be `data`, and passing other arguments without an explicit keyword will result in an error or misinterpretation.\n",
      "  FutureWarning\n"
     ]
    },
    {
     "data": {
      "image/png": "[encoded data removed]",
      "text/plain": [
       "<Figure size 432x288 with 1 Axes>"
      ]
     },
     "metadata": {
      "needs_background": "light"
     },
     "output_type": "display_data"
    }
   ],
   "source": [
    "sns.countplot(label1_df)\n",
    "print(label1_df.value_counts(dropna=False))"
   ]
  },
  {
   "cell_type": "code",
   "execution_count": 19,
   "id": "34838d44",
   "metadata": {
    "execution": {
     "iopub.execute_input": "2022-08-30T02:46:00.979745Z",
     "iopub.status.busy": "2022-08-30T02:46:00.979400Z",
     "iopub.status.idle": "2022-08-30T02:46:01.092596Z",
     "shell.execute_reply": "2022-08-30T02:46:01.091343Z"
    },
    "papermill": {
     "duration": 0.135203,
     "end_time": "2022-08-30T02:46:01.094962",
     "exception": false,
     "start_time": "2022-08-30T02:46:00.959759",
     "status": "completed"
    },
    "tags": []
   },
   "outputs": [
    {
     "data": {
      "text/plain": [
       "([<matplotlib.patches.Wedge at 0x7fd034c3ef90>,\n",
       "  <matplotlib.patches.Wedge at 0x7fd034bda950>,\n",
       "  <matplotlib.patches.Wedge at 0x7fd034be61d0>,\n",
       "  <matplotlib.patches.Wedge at 0x7fd034bdae90>],\n",
       " [Text(0.07055716938348751, 1.0977347975939316, 'bacteria'),\n",
       "  Text(-0.8357456734753231, -0.7152126741517371, 'Virus'),\n",
       "  Text(0.7664095872805778, -0.7890604188048052, 'nan'),\n",
       "  Text(1.0999992228142623, -0.0013075962752645842, 'Stress-Smoking')],\n",
       " [Text(0.03848572875462955, 0.5987644350512353, '47.96%'),\n",
       "  Text(-0.4558612764410853, -0.39011600408276564, '26.62%'),\n",
       "  Text(0.41804159306213334, -0.4303965920753482, '25.39%'),\n",
       "  Text(0.5999995760805067, -0.0007132343319625003, '0.04%')])"
      ]
     },
     "execution_count": 19,
     "metadata": {},
     "output_type": "execute_result"
    },
    {
     "data": {
      "image/png": "[encoded data removed]",
      "text/plain": [
       "<Figure size 432x288 with 1 Axes>"
      ]
     },
     "metadata": {},
     "output_type": "display_data"
    }
   ],
   "source": [
    "plt.pie(x=label1_df.value_counts(dropna=False),labels=label1_df.value_counts(dropna=False).index,autopct='%1.2f%%')"
   ]
  },
  {
   "cell_type": "markdown",
   "id": "ffc041be",
   "metadata": {
    "papermill": {
     "duration": 0.041735,
     "end_time": "2022-08-30T02:46:01.192742",
     "exception": false,
     "start_time": "2022-08-30T02:46:01.151007",
     "status": "completed"
    },
    "tags": []
   },
   "source": [
    "## 3.INTO 'Label_2_Virus_category':"
   ]
  },
  {
   "cell_type": "code",
   "execution_count": 20,
   "id": "94dee42a",
   "metadata": {
    "execution": {
     "iopub.execute_input": "2022-08-30T02:46:01.235220Z",
     "iopub.status.busy": "2022-08-30T02:46:01.234838Z",
     "iopub.status.idle": "2022-08-30T02:46:01.240123Z",
     "shell.execute_reply": "2022-08-30T02:46:01.239054Z"
    },
    "papermill": {
     "duration": 0.028267,
     "end_time": "2022-08-30T02:46:01.242575",
     "exception": false,
     "start_time": "2022-08-30T02:46:01.214308",
     "status": "completed"
    },
    "tags": []
   },
   "outputs": [],
   "source": [
    "label2_df=train_df['Label_2_Virus_category'].copy()"
   ]
  },
  {
   "cell_type": "code",
   "execution_count": 21,
   "id": "bcec23b2",
   "metadata": {
    "execution": {
     "iopub.execute_input": "2022-08-30T02:46:01.281392Z",
     "iopub.status.busy": "2022-08-30T02:46:01.280869Z",
     "iopub.status.idle": "2022-08-30T02:46:01.487809Z",
     "shell.execute_reply": "2022-08-30T02:46:01.486005Z"
    },
    "papermill": {
     "duration": 0.228593,
     "end_time": "2022-08-30T02:46:01.490011",
     "exception": false,
     "start_time": "2022-08-30T02:46:01.261418",
     "status": "completed"
    },
    "tags": []
   },
   "outputs": [
    {
     "name": "stdout",
     "output_type": "stream",
     "text": [
      "NaN              5217\n",
      "COVID-19           58\n",
      "Streptococcus       5\n",
      "SARS                4\n",
      "ARDS                2\n",
      "Name: Label_2_Virus_category, dtype: int64\n"
     ]
    },
    {
     "name": "stderr",
     "output_type": "stream",
     "text": [
      "/opt/conda/lib/python3.7/site-packages/seaborn/_decorators.py:43: FutureWarning: Pass the following variable as a keyword arg: x. From version 0.12, the only valid positional argument will be `data`, and passing other arguments without an explicit keyword will result in an error or misinterpretation.\n",
      "  FutureWarning\n"
     ]
    },
    {
     "data": {
      "image/png": "[encoded data removed]",
      "text/plain": [
       "<Figure size 432x288 with 1 Axes>"
      ]
     },
     "metadata": {
      "needs_background": "light"
     },
     "output_type": "display_data"
    }
   ],
   "source": [
    "sns.countplot(label2_df)\n",
    "print(label2_df.value_counts(dropna=False))"
   ]
  },
  {
   "cell_type": "code",
   "execution_count": 22,
   "id": "73f55602",
   "metadata": {
    "execution": {
     "iopub.execute_input": "2022-08-30T02:46:01.530970Z",
     "iopub.status.busy": "2022-08-30T02:46:01.529429Z",
     "iopub.status.idle": "2022-08-30T02:46:01.665278Z",
     "shell.execute_reply": "2022-08-30T02:46:01.664113Z"
    },
    "papermill": {
     "duration": 0.159945,
     "end_time": "2022-08-30T02:46:01.669505",
     "exception": false,
     "start_time": "2022-08-30T02:46:01.509560",
     "status": "completed"
    },
    "tags": []
   },
   "outputs": [
    {
     "data": {
      "text/plain": [
       "([<matplotlib.patches.Wedge at 0x7fd034b34e90>,\n",
       "  <matplotlib.patches.Wedge at 0x7fd034b44850>,\n",
       "  <matplotlib.patches.Wedge at 0x7fd034ad10d0>,\n",
       "  <matplotlib.patches.Wedge at 0x7fd034b44d90>,\n",
       "  <matplotlib.patches.Wedge at 0x7fd034adf110>],\n",
       " [Text(-1.0990752037851734, 0.045096523420103875, 'nan'),\n",
       "  Text(1.0987568963741297, -0.05228080594530238, 'COVID-19'),\n",
       "  Text(1.099943855490593, -0.011113719831349504, 'Streptococcus'),\n",
       "  Text(1.0999875663690692, -0.005230089239470279, 'SARS'),\n",
       "  Text(1.0999992228391298, -0.0013075753555511036, 'ARDS')],\n",
       " [Text(-0.5994955657010036, 0.02459810368369302, '98.7%'),\n",
       "  Text(0.5993219434767979, -0.028516803242892203, '1.1%'),\n",
       "  Text(0.5999693757221416, -0.006062028998917911, '0.1%'),\n",
       "  Text(0.5999932180194922, -0.00285277594880197, '0.1%'),\n",
       "  Text(0.5999995760940707, -0.0007132229212096927, '0.0%')])"
      ]
     },
     "execution_count": 22,
     "metadata": {},
     "output_type": "execute_result"
    },
    {
     "data": {
      "image/png": "[encoded data removed]",
      "text/plain": [
       "<Figure size 432x288 with 1 Axes>"
      ]
     },
     "metadata": {},
     "output_type": "display_data"
    }
   ],
   "source": [
    "plt.pie(x=label2_df.value_counts(dropna=False),labels=label2_df.value_counts(dropna=False).index,autopct='%1.1f%%')"
   ]
  },
  {
   "cell_type": "markdown",
   "id": "0efa7597",
   "metadata": {
    "papermill": {
     "duration": 0.03887,
     "end_time": "2022-08-30T02:46:01.762251",
     "exception": false,
     "start_time": "2022-08-30T02:46:01.723381",
     "status": "completed"
    },
    "tags": []
   },
   "source": [
    "## 4. Label2 x Label :(groupby) "
   ]
  },
  {
   "cell_type": "code",
   "execution_count": 23,
   "id": "d524c5b3",
   "metadata": {
    "execution": {
     "iopub.execute_input": "2022-08-30T02:46:01.802038Z",
     "iopub.status.busy": "2022-08-30T02:46:01.801662Z",
     "iopub.status.idle": "2022-08-30T02:46:01.815440Z",
     "shell.execute_reply": "2022-08-30T02:46:01.814513Z"
    },
    "papermill": {
     "duration": 0.036044,
     "end_time": "2022-08-30T02:46:01.817378",
     "exception": false,
     "start_time": "2022-08-30T02:46:01.781334",
     "status": "completed"
    },
    "tags": []
   },
   "outputs": [
    {
     "data": {
      "text/plain": [
       "Label     Label_2_Virus_category\n",
       "Normal    NaN                       1342\n",
       "Pnemonia  NaN                       3875\n",
       "          COVID-19                    58\n",
       "          Streptococcus                5\n",
       "          SARS                         4\n",
       "          ARDS                         2\n",
       "Name: Label_2_Virus_category, dtype: int64"
      ]
     },
     "execution_count": 23,
     "metadata": {},
     "output_type": "execute_result"
    }
   ],
   "source": [
    "Label2_x_Label=train_df['Label_2_Virus_category'].groupby(train_df['Label'])\n",
    "Label2_x_Label.value_counts(dropna=False)"
   ]
  },
  {
   "cell_type": "markdown",
   "id": "24dc7eec",
   "metadata": {
    "papermill": {
     "duration": 0.019458,
     "end_time": "2022-08-30T02:46:01.856153",
     "exception": false,
     "start_time": "2022-08-30T02:46:01.836695",
     "status": "completed"
    },
    "tags": []
   },
   "source": [
    "#### Observation:\n",
    "##### 3875 values for Pnemonia without Lable Virus category.\n",
    "##### we have 1342 nan values for Normal in feature Label_2_Virus_category."
   ]
  },
  {
   "cell_type": "markdown",
   "id": "1c8611a6",
   "metadata": {
    "papermill": {
     "duration": 0.018863,
     "end_time": "2022-08-30T02:46:01.894084",
     "exception": false,
     "start_time": "2022-08-30T02:46:01.875221",
     "status": "completed"
    },
    "tags": []
   },
   "source": [
    "## 5. Label1 x Label :(groupby)"
   ]
  },
  {
   "cell_type": "code",
   "execution_count": 24,
   "id": "768b7f17",
   "metadata": {
    "execution": {
     "iopub.execute_input": "2022-08-30T02:46:01.934901Z",
     "iopub.status.busy": "2022-08-30T02:46:01.934203Z",
     "iopub.status.idle": "2022-08-30T02:46:01.946371Z",
     "shell.execute_reply": "2022-08-30T02:46:01.945300Z"
    },
    "papermill": {
     "duration": 0.035037,
     "end_time": "2022-08-30T02:46:01.948944",
     "exception": false,
     "start_time": "2022-08-30T02:46:01.913907",
     "status": "completed"
    },
    "tags": []
   },
   "outputs": [
    {
     "data": {
      "text/plain": [
       "Label     Label_1_Virus_category\n",
       "Normal    NaN                       1342\n",
       "Pnemonia  bacteria                  2535\n",
       "          Virus                     1407\n",
       "          Stress-Smoking               2\n",
       "Name: Label_1_Virus_category, dtype: int64"
      ]
     },
     "execution_count": 24,
     "metadata": {},
     "output_type": "execute_result"
    }
   ],
   "source": [
    "Label1_x_Label=train_df['Label_1_Virus_category'].groupby(train_df['Label'])\n",
    "Label1_x_Label.value_counts(dropna=False)"
   ]
  },
  {
   "cell_type": "markdown",
   "id": "1a699746",
   "metadata": {
    "papermill": {
     "duration": 0.01939,
     "end_time": "2022-08-30T02:46:01.988485",
     "exception": false,
     "start_time": "2022-08-30T02:46:01.969095",
     "status": "completed"
    },
    "tags": []
   },
   "source": [
    "## 6. Label1 x Label2 :(groupby)"
   ]
  },
  {
   "cell_type": "code",
   "execution_count": 25,
   "id": "33d33128",
   "metadata": {
    "execution": {
     "iopub.execute_input": "2022-08-30T02:46:02.033152Z",
     "iopub.status.busy": "2022-08-30T02:46:02.032800Z",
     "iopub.status.idle": "2022-08-30T02:46:02.044241Z",
     "shell.execute_reply": "2022-08-30T02:46:02.043211Z"
    },
    "papermill": {
     "duration": 0.033695,
     "end_time": "2022-08-30T02:46:02.046420",
     "exception": false,
     "start_time": "2022-08-30T02:46:02.012725",
     "status": "completed"
    },
    "tags": []
   },
   "outputs": [
    {
     "data": {
      "text/plain": [
       "Label_2_Virus_category  Label_1_Virus_category\n",
       "ARDS                    Stress-Smoking             2\n",
       "COVID-19                Virus                     58\n",
       "SARS                    Virus                      4\n",
       "Streptococcus           bacteria                   5\n",
       "Name: Label_1_Virus_category, dtype: int64"
      ]
     },
     "execution_count": 25,
     "metadata": {},
     "output_type": "execute_result"
    }
   ],
   "source": [
    "Label1_x_Label2=train_df['Label_1_Virus_category'].groupby(train_df['Label_2_Virus_category'])\n",
    "Label1_x_Label2.value_counts(dropna=False)"
   ]
  },
  {
   "cell_type": "code",
   "execution_count": 26,
   "id": "3d93dd35",
   "metadata": {
    "execution": {
     "iopub.execute_input": "2022-08-30T02:46:02.086875Z",
     "iopub.status.busy": "2022-08-30T02:46:02.086563Z",
     "iopub.status.idle": "2022-08-30T02:46:02.362810Z",
     "shell.execute_reply": "2022-08-30T02:46:02.361795Z"
    },
    "papermill": {
     "duration": 0.299053,
     "end_time": "2022-08-30T02:46:02.365158",
     "exception": false,
     "start_time": "2022-08-30T02:46:02.066105",
     "status": "completed"
    },
    "tags": []
   },
   "outputs": [
    {
     "name": "stderr",
     "output_type": "stream",
     "text": [
      "/opt/conda/lib/python3.7/site-packages/seaborn/_decorators.py:43: FutureWarning: Pass the following variable as a keyword arg: x. From version 0.12, the only valid positional argument will be `data`, and passing other arguments without an explicit keyword will result in an error or misinterpretation.\n",
      "  FutureWarning\n"
     ]
    },
    {
     "data": {
      "text/plain": [
       "<AxesSubplot:xlabel='Label_1_Virus_category', ylabel='count'>"
      ]
     },
     "execution_count": 26,
     "metadata": {},
     "output_type": "execute_result"
    },
    {
     "data": {
      "image/png": "[encoded data removed]",
      "text/plain": [
       "<Figure size 432x288 with 1 Axes>"
      ]
     },
     "metadata": {
      "needs_background": "light"
     },
     "output_type": "display_data"
    }
   ],
   "source": [
    "sns.countplot(train_df['Label_1_Virus_category'],hue=train_df['Label_2_Virus_category'])"
   ]
  },
  {
   "cell_type": "markdown",
   "id": "dcd68599",
   "metadata": {
    "papermill": {
     "duration": 0.019568,
     "end_time": "2022-08-30T02:46:02.404698",
     "exception": false,
     "start_time": "2022-08-30T02:46:02.385130",
     "status": "completed"
    },
    "tags": []
   },
   "source": [
    "## 7. Label x Label1 x Label2 :(groupby)"
   ]
  },
  {
   "cell_type": "code",
   "execution_count": 27,
   "id": "c2c295ce",
   "metadata": {
    "execution": {
     "iopub.execute_input": "2022-08-30T02:46:02.447764Z",
     "iopub.status.busy": "2022-08-30T02:46:02.446676Z",
     "iopub.status.idle": "2022-08-30T02:46:02.459810Z",
     "shell.execute_reply": "2022-08-30T02:46:02.458749Z"
    },
    "papermill": {
     "duration": 0.037544,
     "end_time": "2022-08-30T02:46:02.462027",
     "exception": false,
     "start_time": "2022-08-30T02:46:02.424483",
     "status": "completed"
    },
    "tags": []
   },
   "outputs": [
    {
     "data": {
      "text/plain": [
       "Label     Label_1_Virus_category  Label_2_Virus_category\n",
       "Pnemonia  bacteria                NaN                       2530\n",
       "          Virus                   NaN                       1345\n",
       "Normal    NaN                     NaN                       1342\n",
       "Pnemonia  Virus                   COVID-19                    58\n",
       "          bacteria                Streptococcus                5\n",
       "          Virus                   SARS                         4\n",
       "          Stress-Smoking          ARDS                         2\n",
       "dtype: int64"
      ]
     },
     "execution_count": 27,
     "metadata": {},
     "output_type": "execute_result"
    }
   ],
   "source": [
    "train_df[['Label','Label_1_Virus_category','Label_2_Virus_category']].value_counts(dropna=False)"
   ]
  },
  {
   "cell_type": "code",
   "execution_count": 28,
   "id": "3b9e23bb",
   "metadata": {
    "execution": {
     "iopub.execute_input": "2022-08-30T02:46:02.505308Z",
     "iopub.status.busy": "2022-08-30T02:46:02.504402Z",
     "iopub.status.idle": "2022-08-30T02:46:02.512855Z",
     "shell.execute_reply": "2022-08-30T02:46:02.511865Z"
    },
    "papermill": {
     "duration": 0.031575,
     "end_time": "2022-08-30T02:46:02.514857",
     "exception": false,
     "start_time": "2022-08-30T02:46:02.483282",
     "status": "completed"
    },
    "tags": []
   },
   "outputs": [
    {
     "data": {
      "text/plain": [
       "(3944, 4)"
      ]
     },
     "execution_count": 28,
     "metadata": {},
     "output_type": "execute_result"
    }
   ],
   "source": [
    "pnemonia_df=train_df[train_df['Label']=='Pnemonia']\n",
    "pnemonia_df.shape"
   ]
  },
  {
   "cell_type": "code",
   "execution_count": 29,
   "id": "37b76e26",
   "metadata": {
    "execution": {
     "iopub.execute_input": "2022-08-30T02:46:02.557902Z",
     "iopub.status.busy": "2022-08-30T02:46:02.556030Z",
     "iopub.status.idle": "2022-08-30T02:46:02.570159Z",
     "shell.execute_reply": "2022-08-30T02:46:02.568979Z"
    },
    "papermill": {
     "duration": 0.03761,
     "end_time": "2022-08-30T02:46:02.572304",
     "exception": false,
     "start_time": "2022-08-30T02:46:02.534694",
     "status": "completed"
    },
    "tags": []
   },
   "outputs": [
    {
     "data": {
      "text/plain": [
       "Label     Label_1_Virus_category  Label_2_Virus_category\n",
       "Pnemonia  bacteria                NaN                       2530\n",
       "          Virus                   NaN                       1345\n",
       "                                  COVID-19                    58\n",
       "          bacteria                Streptococcus                5\n",
       "          Virus                   SARS                         4\n",
       "          Stress-Smoking          ARDS                         2\n",
       "dtype: int64"
      ]
     },
     "execution_count": 29,
     "metadata": {},
     "output_type": "execute_result"
    }
   ],
   "source": [
    "pnemonia_df[['Label','Label_1_Virus_category','Label_2_Virus_category']].value_counts(dropna=False)"
   ]
  },
  {
   "cell_type": "markdown",
   "id": "1c059cf5",
   "metadata": {
    "papermill": {
     "duration": 0.020036,
     "end_time": "2022-08-30T02:46:02.613256",
     "exception": false,
     "start_time": "2022-08-30T02:46:02.593220",
     "status": "completed"
    },
    "tags": []
   },
   "source": [
    "### 7.1 Into 'bacteria':"
   ]
  },
  {
   "cell_type": "code",
   "execution_count": 30,
   "id": "e20aa8ad",
   "metadata": {
    "execution": {
     "iopub.execute_input": "2022-08-30T02:46:02.655411Z",
     "iopub.status.busy": "2022-08-30T02:46:02.655068Z",
     "iopub.status.idle": "2022-08-30T02:46:02.754384Z",
     "shell.execute_reply": "2022-08-30T02:46:02.752963Z"
    },
    "papermill": {
     "duration": 0.124229,
     "end_time": "2022-08-30T02:46:02.758189",
     "exception": false,
     "start_time": "2022-08-30T02:46:02.633960",
     "status": "completed"
    },
    "tags": []
   },
   "outputs": [
    {
     "name": "stdout",
     "output_type": "stream",
     "text": [
      "NaN              2530\n",
      "Streptococcus       5\n",
      "Name: Label_2_Virus_category, dtype: int64\n"
     ]
    },
    {
     "data": {
      "text/plain": [
       "([<matplotlib.patches.Wedge at 0x7fd0349e5ad0>,\n",
       "  <matplotlib.patches.Wedge at 0x7fd0349f4610>],\n",
       " [Text(-1.0999788825712942, 0.006816003022829919, 'nan'),\n",
       "  Text(1.0999788827707186, -0.0068159708392502485, 'Streptococcus')],\n",
       " [Text(-0.599988481402524, 0.0037178198306345002, '99.80%'),\n",
       "  Text(0.599988481511301, -0.0037178022759546806, '0.20%')])"
      ]
     },
     "execution_count": 30,
     "metadata": {},
     "output_type": "execute_result"
    },
    {
     "data": {
      "image/png": "[encoded data removed]",
      "text/plain": [
       "<Figure size 432x288 with 1 Axes>"
      ]
     },
     "metadata": {},
     "output_type": "display_data"
    }
   ],
   "source": [
    "bacterai_df=pnemonia_df[pnemonia_df['Label_1_Virus_category']=='bacteria']\n",
    "bacteria_count=bacterai_df['Label_2_Virus_category'].value_counts(dropna=False)\n",
    "print(bacteria_count)\n",
    "plt.pie(bacteria_count,labels=bacteria_count.index,autopct='%1.2f%%')"
   ]
  },
  {
   "cell_type": "markdown",
   "id": "13f449dc",
   "metadata": {
    "papermill": {
     "duration": 0.042259,
     "end_time": "2022-08-30T02:46:02.862503",
     "exception": false,
     "start_time": "2022-08-30T02:46:02.820244",
     "status": "completed"
    },
    "tags": []
   },
   "source": [
    "#### Observation:\n",
    "##### 99.80 % of bactria are unlabel."
   ]
  },
  {
   "cell_type": "markdown",
   "id": "0fbe215e",
   "metadata": {
    "papermill": {
     "duration": 0.020272,
     "end_time": "2022-08-30T02:46:02.903468",
     "exception": false,
     "start_time": "2022-08-30T02:46:02.883196",
     "status": "completed"
    },
    "tags": []
   },
   "source": [
    "### 7.2 Into 'Virus':"
   ]
  },
  {
   "cell_type": "code",
   "execution_count": 31,
   "id": "0d0b6dc8",
   "metadata": {
    "execution": {
     "iopub.execute_input": "2022-08-30T02:46:02.946835Z",
     "iopub.status.busy": "2022-08-30T02:46:02.945864Z",
     "iopub.status.idle": "2022-08-30T02:46:03.057253Z",
     "shell.execute_reply": "2022-08-30T02:46:03.055947Z"
    },
    "papermill": {
     "duration": 0.136353,
     "end_time": "2022-08-30T02:46:03.060687",
     "exception": false,
     "start_time": "2022-08-30T02:46:02.924334",
     "status": "completed"
    },
    "tags": []
   },
   "outputs": [
    {
     "name": "stdout",
     "output_type": "stream",
     "text": [
      "NaN         1345\n",
      "COVID-19      58\n",
      "SARS           4\n",
      "Name: Label_2_Virus_category, dtype: int64\n"
     ]
    },
    {
     "data": {
      "text/plain": [
       "([<matplotlib.patches.Wedge at 0x7fd0349c95d0>,\n",
       "  <matplotlib.patches.Wedge at 0x7fd0349c9f90>,\n",
       "  <matplotlib.patches.Wedge at 0x7fd034959810>],\n",
       " [Text(-1.0894763962509226, 0.15179322123238273, 'nan'),\n",
       "  Text(1.088077233668587, -0.16151759524000708, 'COVID-19'),\n",
       "  Text(1.0999561259365054, -0.0098245109168356, 'SARS')],\n",
       " [Text(-0.5942598525005032, 0.08279630249039056, '95.59%'),\n",
       "  Text(0.5934966729101384, -0.0881005064945493, '4.12%'),\n",
       "  Text(0.5999760686926392, -0.0053588241364557814, '0.28%')])"
      ]
     },
     "execution_count": 31,
     "metadata": {},
     "output_type": "execute_result"
    },
    {
     "data": {
      "image/png": "[encoded data removed]",
      "text/plain": [
       "<Figure size 432x288 with 1 Axes>"
      ]
     },
     "metadata": {},
     "output_type": "display_data"
    }
   ],
   "source": [
    "virus_df=pnemonia_df[pnemonia_df['Label_1_Virus_category']=='Virus']\n",
    "virus_count=virus_df['Label_2_Virus_category'].value_counts(dropna=False)\n",
    "print(virus_count)\n",
    "plt.pie(virus_count,labels=virus_count.index,autopct='%1.2f%%')"
   ]
  },
  {
   "cell_type": "markdown",
   "id": "bcffd38c",
   "metadata": {
    "papermill": {
     "duration": 0.044759,
     "end_time": "2022-08-30T02:46:03.161021",
     "exception": false,
     "start_time": "2022-08-30T02:46:03.116262",
     "status": "completed"
    },
    "tags": []
   },
   "source": [
    "#### Observation:\n",
    "##### 95.59 % of Virus are unlabel."
   ]
  },
  {
   "cell_type": "code",
   "execution_count": null,
   "id": "0b61f6a2",
   "metadata": {
    "papermill": {
     "duration": 0.020504,
     "end_time": "2022-08-30T02:46:03.202261",
     "exception": false,
     "start_time": "2022-08-30T02:46:03.181757",
     "status": "completed"
    },
    "tags": []
   },
   "outputs": [],
   "source": []
  },
  {
   "cell_type": "code",
   "execution_count": null,
   "id": "49539474",
   "metadata": {
    "papermill": {
     "duration": 0.02055,
     "end_time": "2022-08-30T02:46:03.243523",
     "exception": false,
     "start_time": "2022-08-30T02:46:03.222973",
     "status": "completed"
    },
    "tags": []
   },
   "outputs": [],
   "source": []
  },
  {
   "cell_type": "code",
   "execution_count": null,
   "id": "1226c79d",
   "metadata": {
    "papermill": {
     "duration": 0.020607,
     "end_time": "2022-08-30T02:46:03.284845",
     "exception": false,
     "start_time": "2022-08-30T02:46:03.264238",
     "status": "completed"
    },
    "tags": []
   },
   "outputs": [],
   "source": []
  },
  {
   "cell_type": "code",
   "execution_count": null,
   "id": "92bc2b5b",
   "metadata": {
    "papermill": {
     "duration": 0.020724,
     "end_time": "2022-08-30T02:46:03.326330",
     "exception": false,
     "start_time": "2022-08-30T02:46:03.305606",
     "status": "completed"
    },
    "tags": []
   },
   "outputs": [],
   "source": []
  },
  {
   "cell_type": "code",
   "execution_count": null,
   "id": "e0e9812f",
   "metadata": {
    "papermill": {
     "duration": 0.021159,
     "end_time": "2022-08-30T02:46:03.368595",
     "exception": false,
     "start_time": "2022-08-30T02:46:03.347436",
     "status": "completed"
    },
    "tags": []
   },
   "outputs": [],
   "source": []
  },
  {
   "cell_type": "code",
   "execution_count": 32,
   "id": "950c4915",
   "metadata": {
    "execution": {
     "iopub.execute_input": "2022-08-30T02:46:03.412349Z",
     "iopub.status.busy": "2022-08-30T02:46:03.411983Z",
     "iopub.status.idle": "2022-08-30T02:46:03.792863Z",
     "shell.execute_reply": "2022-08-30T02:46:03.791920Z"
    },
    "id": "3eMjA_uqQ-tf",
    "outputId": "3c0da758-67c6-4e63-bfb0-30241986092e",
    "papermill": {
     "duration": 0.405434,
     "end_time": "2022-08-30T02:46:03.795150",
     "exception": false,
     "start_time": "2022-08-30T02:46:03.389716",
     "status": "completed"
    },
    "tags": []
   },
   "outputs": [
    {
     "data": {
      "text/plain": [
       "<AxesSubplot:>"
      ]
     },
     "execution_count": 32,
     "metadata": {},
     "output_type": "execute_result"
    },
    {
     "data": {
      "image/png": "[encoded data removed]",
      "text/plain": [
       "<Figure size 432x288 with 2 Axes>"
      ]
     },
     "metadata": {
      "needs_background": "light"
     },
     "output_type": "display_data"
    }
   ],
   "source": [
    "sns.heatmap(train_df.isna())"
   ]
  },
  {
   "cell_type": "code",
   "execution_count": 33,
   "id": "7b5f06ce",
   "metadata": {
    "execution": {
     "iopub.execute_input": "2022-08-30T02:46:03.848556Z",
     "iopub.status.busy": "2022-08-30T02:46:03.848055Z",
     "iopub.status.idle": "2022-08-30T02:46:04.341809Z",
     "shell.execute_reply": "2022-08-30T02:46:04.340834Z"
    },
    "id": "Pxi8I5h4R7wc",
    "outputId": "b2c9604f-cc48-4e28-9a89-c9b108fb1b1e",
    "papermill": {
     "duration": 0.526344,
     "end_time": "2022-08-30T02:46:04.344232",
     "exception": false,
     "start_time": "2022-08-30T02:46:03.817888",
     "status": "completed"
    },
    "tags": []
   },
   "outputs": [
    {
     "data": {
      "text/plain": [
       "<seaborn.axisgrid.FacetGrid at 0x7fd034856050>"
      ]
     },
     "execution_count": 33,
     "metadata": {},
     "output_type": "execute_result"
    },
    {
     "data": {
      "image/png": "[encoded data removed]",
      "text/plain": [
       "<Figure size 485.5x360 with 1 Axes>"
      ]
     },
     "metadata": {
      "needs_background": "light"
     },
     "output_type": "display_data"
    }
   ],
   "source": [
    "sns.displot(x=train_df['Label_1_Virus_category'],hue=train_df['Label_2_Virus_category'],multiple=\"stack\")"
   ]
  },
  {
   "cell_type": "markdown",
   "id": "a591f7e7",
   "metadata": {
    "id": "VHUEQCKXXK-j",
    "papermill": {
     "duration": 0.02169,
     "end_time": "2022-08-30T02:46:04.388686",
     "exception": false,
     "start_time": "2022-08-30T02:46:04.366996",
     "status": "completed"
    },
    "tags": []
   },
   "source": [
    "#### Observation :\n",
    "##### - We see that SARS and COVID-19 are Virus.\n",
    "##### - We see that Streptococcus is a bacteria.\n",
    "##### - We see that ARDS is a Stress-Smoking.\n",
    "\n",
    "##### .\n",
    "##### - We have 5 groups:\n",
    "#####    *G1: \"Normal\"\n",
    "#####    *G2: \"Covid-19\"      (penemonia /virus)\n",
    "#####    *G3: \"SARS\"          (penemonia /virus)\n",
    "#####    *G4: \"Streptococcus\" (penemonia / bacteria )\n",
    "#####    *G5: \"ARDS\"          (penemonia / Stress-Smoking)\n",
    "\n",
    "\n"
   ]
  },
  {
   "cell_type": "code",
   "execution_count": 34,
   "id": "595feb4f",
   "metadata": {
    "execution": {
     "iopub.execute_input": "2022-08-30T02:46:04.434096Z",
     "iopub.status.busy": "2022-08-30T02:46:04.433679Z",
     "iopub.status.idle": "2022-08-30T02:46:04.440862Z",
     "shell.execute_reply": "2022-08-30T02:46:04.439955Z"
    },
    "id": "C5jsYQdEbiW4",
    "outputId": "ca33d96f-02ae-4420-e0ed-d4459d30eee3",
    "papermill": {
     "duration": 0.031953,
     "end_time": "2022-08-30T02:46:04.442758",
     "exception": false,
     "start_time": "2022-08-30T02:46:04.410805",
     "status": "completed"
    },
    "tags": []
   },
   "outputs": [
    {
     "data": {
      "text/plain": [
       "array([nan, 'Streptococcus', 'COVID-19', 'ARDS', 'SARS'], dtype=object)"
      ]
     },
     "execution_count": 34,
     "metadata": {},
     "output_type": "execute_result"
    }
   ],
   "source": [
    "train_df['Label_2_Virus_category'].unique()"
   ]
  },
  {
   "cell_type": "code",
   "execution_count": 35,
   "id": "0ea8a2e1",
   "metadata": {
    "execution": {
     "iopub.execute_input": "2022-08-30T02:46:04.488117Z",
     "iopub.status.busy": "2022-08-30T02:46:04.487716Z",
     "iopub.status.idle": "2022-08-30T02:46:04.573453Z",
     "shell.execute_reply": "2022-08-30T02:46:04.572188Z"
    },
    "id": "x519A10Wip8n",
    "outputId": "5b4b3b7f-b8c1-4ded-a053-5221f68570d8",
    "papermill": {
     "duration": 0.11173,
     "end_time": "2022-08-30T02:46:04.576712",
     "exception": false,
     "start_time": "2022-08-30T02:46:04.464982",
     "status": "completed"
    },
    "tags": []
   },
   "outputs": [
    {
     "data": {
      "text/plain": [
       "([<matplotlib.patches.Wedge at 0x7fd034723090>,\n",
       "  <matplotlib.patches.Wedge at 0x7fd0347238d0>],\n",
       " [Text(-0.7682833087364032, 0.7872361510481113, 'Pnemonia'),\n",
       "  Text(0.768283308736403, -0.7872361510481114, 'Normal')],\n",
       " [Text(-0.41906362294712896, 0.4294015369353334, '74.6%'),\n",
       "  Text(0.4190636229471289, -0.42940153693533345, '25.4%')])"
      ]
     },
     "execution_count": 35,
     "metadata": {},
     "output_type": "execute_result"
    },
    {
     "data": {
      "image/png": "[encoded data removed]",
      "text/plain": [
       "<Figure size 432x288 with 1 Axes>"
      ]
     },
     "metadata": {},
     "output_type": "display_data"
    }
   ],
   "source": [
    "values=train_df['Label'].value_counts()\n",
    "plt.pie(values,labels=values.index,autopct='%1.1f%%')"
   ]
  },
  {
   "cell_type": "code",
   "execution_count": 36,
   "id": "ebc3417a",
   "metadata": {
    "execution": {
     "iopub.execute_input": "2022-08-30T02:46:04.724542Z",
     "iopub.status.busy": "2022-08-30T02:46:04.723472Z",
     "iopub.status.idle": "2022-08-30T02:46:04.741039Z",
     "shell.execute_reply": "2022-08-30T02:46:04.739477Z"
    },
    "id": "TJu8QdTZkZjA",
    "outputId": "b5e63f50-af1c-4e5f-f7d1-fbc8e34181ff",
    "papermill": {
     "duration": 0.074807,
     "end_time": "2022-08-30T02:46:04.744137",
     "exception": false,
     "start_time": "2022-08-30T02:46:04.669330",
     "status": "completed"
    },
    "tags": []
   },
   "outputs": [
    {
     "data": {
      "text/plain": [
       "Pnemonia    3944\n",
       "Normal      1342\n",
       "Name: Label, dtype: int64"
      ]
     },
     "execution_count": 36,
     "metadata": {},
     "output_type": "execute_result"
    }
   ],
   "source": [
    "train_df['Label'].value_counts()"
   ]
  },
  {
   "cell_type": "code",
   "execution_count": 37,
   "id": "5900fc40",
   "metadata": {
    "execution": {
     "iopub.execute_input": "2022-08-30T02:46:04.851562Z",
     "iopub.status.busy": "2022-08-30T02:46:04.850852Z",
     "iopub.status.idle": "2022-08-30T02:46:04.981922Z",
     "shell.execute_reply": "2022-08-30T02:46:04.980983Z"
    },
    "id": "OSAqILrDbJ1a",
    "outputId": "1fb2066d-525b-4bd2-c774-e54ea8fbad52",
    "papermill": {
     "duration": 0.183514,
     "end_time": "2022-08-30T02:46:04.985167",
     "exception": false,
     "start_time": "2022-08-30T02:46:04.801653",
     "status": "completed"
    },
    "tags": []
   },
   "outputs": [
    {
     "data": {
      "text/plain": [
       "([<matplotlib.patches.Wedge at 0x7fd0346fa590>,\n",
       "  <matplotlib.patches.Wedge at 0x7fd0346fae90>,\n",
       "  <matplotlib.patches.Wedge at 0x7fd034709710>,\n",
       "  <matplotlib.patches.Wedge at 0x7fd034709410>],\n",
       " [Text(0.07055716938348751, 1.0977347975939316, 'bacteria'),\n",
       "  Text(-0.8357456734753231, -0.7152126741517371, 'Virus'),\n",
       "  Text(0.7664095872805778, -0.7890604188048052, 'nan'),\n",
       "  Text(1.0999992228142623, -0.0013075962752645842, 'Stress-Smoking')],\n",
       " [Text(0.03848572875462955, 0.5987644350512353, '48.0%'),\n",
       "  Text(-0.4558612764410853, -0.39011600408276564, '26.6%'),\n",
       "  Text(0.41804159306213334, -0.4303965920753482, '25.4%'),\n",
       "  Text(0.5999995760805067, -0.0007132343319625003, '0.0%')])"
      ]
     },
     "execution_count": 37,
     "metadata": {},
     "output_type": "execute_result"
    },
    {
     "data": {
      "image/png": "[encoded data removed]",
      "text/plain": [
       "<Figure size 432x288 with 1 Axes>"
      ]
     },
     "metadata": {},
     "output_type": "display_data"
    }
   ],
   "source": [
    "values=train_df['Label_1_Virus_category'].value_counts(dropna=False)\n",
    "plt.pie(values,labels=values.index,autopct='%1.1f%%')"
   ]
  },
  {
   "cell_type": "code",
   "execution_count": 38,
   "id": "84c841fa",
   "metadata": {
    "execution": {
     "iopub.execute_input": "2022-08-30T02:46:05.130193Z",
     "iopub.status.busy": "2022-08-30T02:46:05.129631Z",
     "iopub.status.idle": "2022-08-30T02:46:05.294731Z",
     "shell.execute_reply": "2022-08-30T02:46:05.293862Z"
    },
    "id": "BE-SHOq7ifAx",
    "outputId": "c4cd0e2f-cf5d-4f90-fa82-19692d9cf83f",
    "papermill": {
     "duration": 0.204633,
     "end_time": "2022-08-30T02:46:05.297645",
     "exception": false,
     "start_time": "2022-08-30T02:46:05.093012",
     "status": "completed"
    },
    "tags": []
   },
   "outputs": [
    {
     "data": {
      "text/plain": [
       "([<matplotlib.patches.Wedge at 0x7fd0346c6d50>,\n",
       "  <matplotlib.patches.Wedge at 0x7fd0346700d0>,\n",
       "  <matplotlib.patches.Wedge at 0x7fd034670910>,\n",
       "  <matplotlib.patches.Wedge at 0x7fd034670610>],\n",
       " [Text(-0.9649008268087279, 0.5281726937506647, 'COVID-19'),\n",
       "  Text(0.7866203414173456, -0.7689138043164907, 'Streptococcus'),\n",
       "  Text(1.0278331631843964, -0.39186603407077525, 'SARS'),\n",
       "  Text(1.0954425125670169, -0.10002850424184806, 'ARDS')],\n",
       " [Text(-0.5263095418956697, 0.2880941965912716, '84.1%'),\n",
       "  Text(0.42906564077309756, -0.4194075296271767, '7.2%'),\n",
       "  Text(0.5606362708278526, -0.21374510949315012, '5.8%'),\n",
       "  Text(0.5975140977638274, -0.054561002313735306, '2.9%')])"
      ]
     },
     "execution_count": 38,
     "metadata": {},
     "output_type": "execute_result"
    },
    {
     "data": {
      "image/png": "[encoded data removed]",
      "text/plain": [
       "<Figure size 432x288 with 1 Axes>"
      ]
     },
     "metadata": {},
     "output_type": "display_data"
    }
   ],
   "source": [
    "values=train_df['Label_2_Virus_category'].value_counts()\n",
    "plt.pie(values,labels=values.index,autopct='%1.1f%%')"
   ]
  },
  {
   "cell_type": "code",
   "execution_count": 39,
   "id": "e01617c0",
   "metadata": {
    "execution": {
     "iopub.execute_input": "2022-08-30T02:46:05.397421Z",
     "iopub.status.busy": "2022-08-30T02:46:05.396615Z",
     "iopub.status.idle": "2022-08-30T02:46:05.525163Z",
     "shell.execute_reply": "2022-08-30T02:46:05.523879Z"
    },
    "id": "8U2SDT26mEzr",
    "outputId": "5ae37ae0-396b-41b1-d946-82dcbc9bf729",
    "papermill": {
     "duration": 0.182804,
     "end_time": "2022-08-30T02:46:05.529364",
     "exception": false,
     "start_time": "2022-08-30T02:46:05.346560",
     "status": "completed"
    },
    "tags": []
   },
   "outputs": [
    {
     "data": {
      "text/plain": [
       "([<matplotlib.patches.Wedge at 0x7fd03463c990>,\n",
       "  <matplotlib.patches.Wedge at 0x7fd0345dc450>,\n",
       "  <matplotlib.patches.Wedge at 0x7fd0345dcc90>,\n",
       "  <matplotlib.patches.Wedge at 0x7fd0345dc990>,\n",
       "  <matplotlib.patches.Wedge at 0x7fd0345eacd0>],\n",
       " [Text(-1.0990752037851734, 0.045096523420103875, 'nan'),\n",
       "  Text(1.0987568963741297, -0.05228080594530238, 'COVID-19'),\n",
       "  Text(1.099943855490593, -0.011113719831349504, 'Streptococcus'),\n",
       "  Text(1.0999875663690692, -0.005230089239470279, 'SARS'),\n",
       "  Text(1.0999992228391298, -0.0013075753555511036, 'ARDS')],\n",
       " [Text(-0.5994955657010036, 0.02459810368369302, '98.7%'),\n",
       "  Text(0.5993219434767979, -0.028516803242892203, '1.1%'),\n",
       "  Text(0.5999693757221416, -0.006062028998917911, '0.1%'),\n",
       "  Text(0.5999932180194922, -0.00285277594880197, '0.1%'),\n",
       "  Text(0.5999995760940707, -0.0007132229212096927, '0.0%')])"
      ]
     },
     "execution_count": 39,
     "metadata": {},
     "output_type": "execute_result"
    },
    {
     "data": {
      "image/png": "[encoded data removed]",
      "text/plain": [
       "<Figure size 432x288 with 1 Axes>"
      ]
     },
     "metadata": {},
     "output_type": "display_data"
    }
   ],
   "source": [
    "values=train_df['Label_2_Virus_category'].value_counts(dropna=False)\n",
    "plt.pie(values,labels=values.index,autopct='%1.1f%%')"
   ]
  },
  {
   "cell_type": "code",
   "execution_count": 40,
   "id": "56b2a13f",
   "metadata": {
    "execution": {
     "iopub.execute_input": "2022-08-30T02:46:05.632799Z",
     "iopub.status.busy": "2022-08-30T02:46:05.631752Z",
     "iopub.status.idle": "2022-08-30T02:46:05.640232Z",
     "shell.execute_reply": "2022-08-30T02:46:05.639215Z"
    },
    "id": "s0-qBtjobT7L",
    "outputId": "5f000062-c972-4218-8b5b-d473b2e16f53",
    "papermill": {
     "duration": 0.047736,
     "end_time": "2022-08-30T02:46:05.642204",
     "exception": false,
     "start_time": "2022-08-30T02:46:05.594468",
     "status": "completed"
    },
    "tags": []
   },
   "outputs": [
    {
     "data": {
      "text/plain": [
       "COVID-19         58\n",
       "Streptococcus     5\n",
       "SARS              4\n",
       "ARDS              2\n",
       "Name: Label_2_Virus_category, dtype: int64"
      ]
     },
     "execution_count": 40,
     "metadata": {},
     "output_type": "execute_result"
    }
   ],
   "source": [
    "train_df['Label_2_Virus_category'].value_counts()"
   ]
  },
  {
   "cell_type": "markdown",
   "id": "67864976",
   "metadata": {
    "id": "3tulXZmrc5r2",
    "papermill": {
     "duration": 0.022581,
     "end_time": "2022-08-30T02:46:05.688288",
     "exception": false,
     "start_time": "2022-08-30T02:46:05.665707",
     "status": "completed"
    },
    "tags": []
   },
   "source": [
    "# III.Feature Engineering:"
   ]
  },
  {
   "cell_type": "markdown",
   "id": "594de351",
   "metadata": {
    "id": "eepV2AHsL5uz",
    "papermill": {
     "duration": 0.022591,
     "end_time": "2022-08-30T02:46:05.733981",
     "exception": false,
     "start_time": "2022-08-30T02:46:05.711390",
     "status": "completed"
    },
    "tags": []
   },
   "source": [
    "## 1.Imputation and Feature Sealaction :"
   ]
  },
  {
   "cell_type": "code",
   "execution_count": 41,
   "id": "b1b3ff8b",
   "metadata": {
    "execution": {
     "iopub.execute_input": "2022-08-30T02:46:05.782551Z",
     "iopub.status.busy": "2022-08-30T02:46:05.781556Z",
     "iopub.status.idle": "2022-08-30T02:46:05.788554Z",
     "shell.execute_reply": "2022-08-30T02:46:05.787415Z"
    },
    "id": "4qqZ3-RFdEUI",
    "papermill": {
     "duration": 0.033765,
     "end_time": "2022-08-30T02:46:05.790553",
     "exception": false,
     "start_time": "2022-08-30T02:46:05.756788",
     "status": "completed"
    },
    "tags": []
   },
   "outputs": [],
   "source": [
    "def imputation_and_feature_selection(df):\n",
    "  df=df.copy()\n",
    "  df['label_group']=df['Label_2_Virus_category'].copy()\n",
    "  df['label_group']=df['label_group'].map({'Streptococcus':'Other_penemonia','SARS':'Other_penemonia','ARDS':'Other_penemonia','COVID-19':'COVID-19'})\n",
    "  df['label_group']=df['label_group'].fillna('Normal')\n",
    "  print(df['label_group'].value_counts())\n",
    "  df.drop(['Label','Label_2_Virus_category','Label_1_Virus_category'],axis=1,inplace=True)\n",
    "  print('columns: ',df.columns)\n",
    "  return df\n"
   ]
  },
  {
   "cell_type": "code",
   "execution_count": 42,
   "id": "cf636334",
   "metadata": {
    "execution": {
     "iopub.execute_input": "2022-08-30T02:46:05.839296Z",
     "iopub.status.busy": "2022-08-30T02:46:05.838262Z",
     "iopub.status.idle": "2022-08-30T02:46:05.851603Z",
     "shell.execute_reply": "2022-08-30T02:46:05.849936Z"
    },
    "id": "TBKLDuxqf30v",
    "outputId": "86a95a5f-c877-4dff-9368-cd9222e60e04",
    "papermill": {
     "duration": 0.040829,
     "end_time": "2022-08-30T02:46:05.854323",
     "exception": false,
     "start_time": "2022-08-30T02:46:05.813494",
     "status": "completed"
    },
    "tags": []
   },
   "outputs": [
    {
     "name": "stdout",
     "output_type": "stream",
     "text": [
      "Normal             5217\n",
      "COVID-19             58\n",
      "Other_penemonia      11\n",
      "Name: label_group, dtype: int64\n",
      "columns:  Index(['X_ray_image_name', 'label_group'], dtype='object')\n"
     ]
    }
   ],
   "source": [
    "final_train_df=imputation_and_feature_selection(train_df)"
   ]
  },
  {
   "cell_type": "code",
   "execution_count": 43,
   "id": "bbc91a51",
   "metadata": {
    "execution": {
     "iopub.execute_input": "2022-08-30T02:46:05.904187Z",
     "iopub.status.busy": "2022-08-30T02:46:05.902747Z",
     "iopub.status.idle": "2022-08-30T02:46:06.105552Z",
     "shell.execute_reply": "2022-08-30T02:46:06.104461Z"
    },
    "id": "z6ypeXVggAwc",
    "outputId": "3b66f1f0-2724-4f15-ef38-72fd010004de",
    "papermill": {
     "duration": 0.229679,
     "end_time": "2022-08-30T02:46:06.108122",
     "exception": false,
     "start_time": "2022-08-30T02:46:05.878443",
     "status": "completed"
    },
    "tags": []
   },
   "outputs": [
    {
     "name": "stderr",
     "output_type": "stream",
     "text": [
      "/opt/conda/lib/python3.7/site-packages/seaborn/_decorators.py:43: FutureWarning: Pass the following variable as a keyword arg: x. From version 0.12, the only valid positional argument will be `data`, and passing other arguments without an explicit keyword will result in an error or misinterpretation.\n",
      "  FutureWarning\n"
     ]
    },
    {
     "data": {
      "text/plain": [
       "<AxesSubplot:xlabel='label_group', ylabel='count'>"
      ]
     },
     "execution_count": 43,
     "metadata": {},
     "output_type": "execute_result"
    },
    {
     "data": {
      "image/png": "[encoded data removed]",
      "text/plain": [
       "<Figure size 720x360 with 1 Axes>"
      ]
     },
     "metadata": {
      "needs_background": "light"
     },
     "output_type": "display_data"
    }
   ],
   "source": [
    "plt.figure(figsize=(10,5))\n",
    "sns.countplot(final_train_df['label_group'])"
   ]
  },
  {
   "cell_type": "markdown",
   "id": "b1b3e58b",
   "metadata": {
    "id": "5buwULMZMBnx",
    "papermill": {
     "duration": 0.023016,
     "end_time": "2022-08-30T02:46:06.155489",
     "exception": false,
     "start_time": "2022-08-30T02:46:06.132473",
     "status": "completed"
    },
    "tags": []
   },
   "source": [
    "## 2.Encoding: "
   ]
  },
  {
   "cell_type": "code",
   "execution_count": 44,
   "id": "157b6db8",
   "metadata": {
    "execution": {
     "iopub.execute_input": "2022-08-30T02:46:06.206510Z",
     "iopub.status.busy": "2022-08-30T02:46:06.205535Z",
     "iopub.status.idle": "2022-08-30T02:46:06.211616Z",
     "shell.execute_reply": "2022-08-30T02:46:06.210728Z"
    },
    "id": "uKpcXzcXMGOu",
    "papermill": {
     "duration": 0.034121,
     "end_time": "2022-08-30T02:46:06.213795",
     "exception": false,
     "start_time": "2022-08-30T02:46:06.179674",
     "status": "completed"
    },
    "tags": []
   },
   "outputs": [],
   "source": [
    "def OneHotEncoding(df):\n",
    "  ohe=pd.get_dummies(df['label_group'])\n",
    "  enc_df=pd.concat([final_train_df,ohe],axis=1)\n",
    "  print(enc_df[enc_df['label_group']=='COVID-19'].head())\n",
    "  return enc_df\n"
   ]
  },
  {
   "cell_type": "code",
   "execution_count": 45,
   "id": "e4ffdc5d",
   "metadata": {
    "execution": {
     "iopub.execute_input": "2022-08-30T02:46:06.267386Z",
     "iopub.status.busy": "2022-08-30T02:46:06.265127Z",
     "iopub.status.idle": "2022-08-30T02:46:06.285666Z",
     "shell.execute_reply": "2022-08-30T02:46:06.284433Z"
    },
    "id": "n0b4M20aMnYD",
    "outputId": "fa6215a2-8ad4-4f4c-ff1a-8e47d634bfb7",
    "papermill": {
     "duration": 0.051358,
     "end_time": "2022-08-30T02:46:06.288876",
     "exception": false,
     "start_time": "2022-08-30T02:46:06.237518",
     "status": "completed"
    },
    "tags": []
   },
   "outputs": [
    {
     "name": "stdout",
     "output_type": "stream",
     "text": [
      "              X_ray_image_name label_group  COVID-19  Normal  Other_penemonia\n",
      "5221   kjr-21-e25-g001-l-a.jpg    COVID-19         1       0                0\n",
      "5222   kjr-21-e24-g003-l-a.jpg    COVID-19         1       0                0\n",
      "5223   kjr-21-e24-g002-l-a.jpg    COVID-19         1       0                0\n",
      "5224   kjr-21-e24-g001-l-a.jpg    COVID-19         1       0                0\n",
      "5225  jkms-35-e79-g001-l-c.jpg    COVID-19         1       0                0\n"
     ]
    }
   ],
   "source": [
    "final_df=OneHotEncoding(final_train_df)"
   ]
  },
  {
   "cell_type": "code",
   "execution_count": 46,
   "id": "27680382",
   "metadata": {
    "execution": {
     "iopub.execute_input": "2022-08-30T02:46:06.381411Z",
     "iopub.status.busy": "2022-08-30T02:46:06.381055Z",
     "iopub.status.idle": "2022-08-30T02:46:06.390006Z",
     "shell.execute_reply": "2022-08-30T02:46:06.388951Z"
    },
    "id": "mAg8fjdILynj",
    "outputId": "38580cb4-9d74-42a9-a7fa-7f2f05811b5e",
    "papermill": {
     "duration": 0.045762,
     "end_time": "2022-08-30T02:46:06.392161",
     "exception": false,
     "start_time": "2022-08-30T02:46:06.346399",
     "status": "completed"
    },
    "tags": []
   },
   "outputs": [
    {
     "data": {
      "text/plain": [
       "array([[0, 1, 0],\n",
       "       [0, 1, 0],\n",
       "       [0, 1, 0],\n",
       "       ...,\n",
       "       [1, 0, 0],\n",
       "       [1, 0, 0],\n",
       "       [1, 0, 0]])"
      ]
     },
     "execution_count": 46,
     "metadata": {},
     "output_type": "execute_result"
    }
   ],
   "source": [
    "y_df=final_df[['COVID-19','Normal','Other_penemonia']]\n",
    "y=y_df.values\n",
    "y=y.astype(int)\n",
    "y"
   ]
  },
  {
   "cell_type": "code",
   "execution_count": 47,
   "id": "a8e11e1f",
   "metadata": {
    "execution": {
     "iopub.execute_input": "2022-08-30T02:46:06.441416Z",
     "iopub.status.busy": "2022-08-30T02:46:06.440522Z",
     "iopub.status.idle": "2022-08-30T02:46:06.730010Z",
     "shell.execute_reply": "2022-08-30T02:46:06.728846Z"
    },
    "id": "wAddgPmQLysk",
    "papermill": {
     "duration": 0.316328,
     "end_time": "2022-08-30T02:46:06.732188",
     "exception": false,
     "start_time": "2022-08-30T02:46:06.415860",
     "status": "completed"
    },
    "tags": []
   },
   "outputs": [
    {
     "data": {
      "text/plain": [
       "<matplotlib.image.AxesImage at 0x7fd034526550>"
      ]
     },
     "execution_count": 47,
     "metadata": {},
     "output_type": "execute_result"
    },
    {
     "data": {
      "image/png": "[encoded data removed]",
      "text/plain": [
       "<Figure size 432x288 with 1 Axes>"
      ]
     },
     "metadata": {
      "needs_background": "light"
     },
     "output_type": "display_data"
    }
   ],
   "source": [
    "img=load_img('../input/coronahack-chest-xraydataset/Coronahack-Chest-XRay-Dataset/Coronahack-Chest-XRay-Dataset/train/01E392EE-69F9-4E33-BFCE-E5C968654078.jpeg',target_size=(224,224,3))\n",
    "plt.imshow(img)"
   ]
  },
  {
   "cell_type": "code",
   "execution_count": 48,
   "id": "f180abc9",
   "metadata": {
    "execution": {
     "iopub.execute_input": "2022-08-30T02:46:06.783286Z",
     "iopub.status.busy": "2022-08-30T02:46:06.782944Z",
     "iopub.status.idle": "2022-08-30T02:46:06.789851Z",
     "shell.execute_reply": "2022-08-30T02:46:06.788941Z"
    },
    "id": "a8mdA7jGLywN",
    "papermill": {
     "duration": 0.03497,
     "end_time": "2022-08-30T02:46:06.791824",
     "exception": false,
     "start_time": "2022-08-30T02:46:06.756854",
     "status": "completed"
    },
    "tags": []
   },
   "outputs": [
    {
     "data": {
      "text/plain": [
       "(224, 224, 3)"
      ]
     },
     "execution_count": 48,
     "metadata": {},
     "output_type": "execute_result"
    }
   ],
   "source": [
    "np.array(img).shape"
   ]
  },
  {
   "cell_type": "code",
   "execution_count": 49,
   "id": "8b239a7d",
   "metadata": {
    "execution": {
     "iopub.execute_input": "2022-08-30T02:46:06.843355Z",
     "iopub.status.busy": "2022-08-30T02:46:06.842641Z",
     "iopub.status.idle": "2022-08-30T02:46:06.853281Z",
     "shell.execute_reply": "2022-08-30T02:46:06.852338Z"
    },
    "papermill": {
     "duration": 0.039248,
     "end_time": "2022-08-30T02:46:06.855434",
     "exception": false,
     "start_time": "2022-08-30T02:46:06.816186",
     "status": "completed"
    },
    "tags": []
   },
   "outputs": [
    {
     "data": {
      "text/html": [
       "<div>\n",
       "<style scoped>\n",
       "    .dataframe tbody tr th:only-of-type {\n",
       "        vertical-align: middle;\n",
       "    }\n",
       "\n",
       "    .dataframe tbody tr th {\n",
       "        vertical-align: top;\n",
       "    }\n",
       "\n",
       "    .dataframe thead th {\n",
       "        text-align: right;\n",
       "    }\n",
       "</style>\n",
       "<table border=\"1\" class=\"dataframe\">\n",
       "  <thead>\n",
       "    <tr style=\"text-align: right;\">\n",
       "      <th></th>\n",
       "      <th>X_ray_image_name</th>\n",
       "      <th>label_group</th>\n",
       "      <th>COVID-19</th>\n",
       "      <th>Normal</th>\n",
       "      <th>Other_penemonia</th>\n",
       "    </tr>\n",
       "  </thead>\n",
       "  <tbody>\n",
       "    <tr>\n",
       "      <th>0</th>\n",
       "      <td>IM-0128-0001.jpeg</td>\n",
       "      <td>Normal</td>\n",
       "      <td>0</td>\n",
       "      <td>1</td>\n",
       "      <td>0</td>\n",
       "    </tr>\n",
       "    <tr>\n",
       "      <th>1</th>\n",
       "      <td>IM-0127-0001.jpeg</td>\n",
       "      <td>Normal</td>\n",
       "      <td>0</td>\n",
       "      <td>1</td>\n",
       "      <td>0</td>\n",
       "    </tr>\n",
       "    <tr>\n",
       "      <th>2</th>\n",
       "      <td>IM-0125-0001.jpeg</td>\n",
       "      <td>Normal</td>\n",
       "      <td>0</td>\n",
       "      <td>1</td>\n",
       "      <td>0</td>\n",
       "    </tr>\n",
       "    <tr>\n",
       "      <th>3</th>\n",
       "      <td>IM-0122-0001.jpeg</td>\n",
       "      <td>Normal</td>\n",
       "      <td>0</td>\n",
       "      <td>1</td>\n",
       "      <td>0</td>\n",
       "    </tr>\n",
       "    <tr>\n",
       "      <th>4</th>\n",
       "      <td>IM-0119-0001.jpeg</td>\n",
       "      <td>Normal</td>\n",
       "      <td>0</td>\n",
       "      <td>1</td>\n",
       "      <td>0</td>\n",
       "    </tr>\n",
       "  </tbody>\n",
       "</table>\n",
       "</div>"
      ],
      "text/plain": [
       "    X_ray_image_name label_group  COVID-19  Normal  Other_penemonia\n",
       "0  IM-0128-0001.jpeg      Normal         0       1                0\n",
       "1  IM-0127-0001.jpeg      Normal         0       1                0\n",
       "2  IM-0125-0001.jpeg      Normal         0       1                0\n",
       "3  IM-0122-0001.jpeg      Normal         0       1                0\n",
       "4  IM-0119-0001.jpeg      Normal         0       1                0"
      ]
     },
     "execution_count": 49,
     "metadata": {},
     "output_type": "execute_result"
    }
   ],
   "source": [
    "final_df.head()"
   ]
  },
  {
   "cell_type": "code",
   "execution_count": 50,
   "id": "69990bb4",
   "metadata": {
    "execution": {
     "iopub.execute_input": "2022-08-30T02:46:06.906747Z",
     "iopub.status.busy": "2022-08-30T02:46:06.906119Z",
     "iopub.status.idle": "2022-08-30T02:46:06.913135Z",
     "shell.execute_reply": "2022-08-30T02:46:06.912174Z"
    },
    "papermill": {
     "duration": 0.035085,
     "end_time": "2022-08-30T02:46:06.915084",
     "exception": false,
     "start_time": "2022-08-30T02:46:06.879999",
     "status": "completed"
    },
    "tags": []
   },
   "outputs": [
    {
     "data": {
      "text/plain": [
       "array(['IM-0128-0001.jpeg', 'IM-0127-0001.jpeg', 'IM-0125-0001.jpeg',\n",
       "       'IM-0122-0001.jpeg', 'IM-0119-0001.jpeg', 'IM-0117-0001.jpeg',\n",
       "       'IM-0115-0001.jpeg', 'IM-0189-0001.jpeg', 'IM-0187-0001.jpeg',\n",
       "       'IM-0185-0001.jpeg'], dtype=object)"
      ]
     },
     "execution_count": 50,
     "metadata": {},
     "output_type": "execute_result"
    }
   ],
   "source": [
    "X_ray_image_names=final_df['X_ray_image_name'].values\n",
    "X_ray_image_names[:10]"
   ]
  },
  {
   "cell_type": "code",
   "execution_count": 51,
   "id": "5bbe15bf",
   "metadata": {
    "execution": {
     "iopub.execute_input": "2022-08-30T02:46:06.966348Z",
     "iopub.status.busy": "2022-08-30T02:46:06.965458Z",
     "iopub.status.idle": "2022-08-30T02:46:06.973929Z",
     "shell.execute_reply": "2022-08-30T02:46:06.972948Z"
    },
    "papermill": {
     "duration": 0.036371,
     "end_time": "2022-08-30T02:46:06.975998",
     "exception": false,
     "start_time": "2022-08-30T02:46:06.939627",
     "status": "completed"
    },
    "tags": []
   },
   "outputs": [
    {
     "data": {
      "text/plain": [
       "Int64Index([5221, 5222, 5223, 5224, 5225, 5226, 5227, 5228, 5229, 5230, 5237,\n",
       "            5238, 5239, 5240, 5242, 5243, 5244, 5245, 5246, 5247, 5248, 5249,\n",
       "            5250, 5251, 5252, 5253, 5254, 5255, 5256, 5257, 5258, 5259, 5260,\n",
       "            5261, 5262, 5263, 5264, 5265, 5266, 5267, 5268, 5269, 5270, 5271,\n",
       "            5272, 5273, 5274, 5275, 5276, 5277, 5278, 5279, 5280, 5281, 5282,\n",
       "            5283, 5284, 5285],\n",
       "           dtype='int64')"
      ]
     },
     "execution_count": 51,
     "metadata": {},
     "output_type": "execute_result"
    }
   ],
   "source": [
    "final_df[final_df['label_group']=='COVID-19'].index"
   ]
  },
  {
   "cell_type": "code",
   "execution_count": 52,
   "id": "5020ecb7",
   "metadata": {
    "execution": {
     "iopub.execute_input": "2022-08-30T02:46:07.028789Z",
     "iopub.status.busy": "2022-08-30T02:46:07.027739Z",
     "iopub.status.idle": "2022-08-30T02:46:07.041777Z",
     "shell.execute_reply": "2022-08-30T02:46:07.040604Z"
    },
    "papermill": {
     "duration": 0.042839,
     "end_time": "2022-08-30T02:46:07.044128",
     "exception": false,
     "start_time": "2022-08-30T02:46:07.001289",
     "status": "completed"
    },
    "tags": []
   },
   "outputs": [
    {
     "data": {
      "text/html": [
       "<div>\n",
       "<style scoped>\n",
       "    .dataframe tbody tr th:only-of-type {\n",
       "        vertical-align: middle;\n",
       "    }\n",
       "\n",
       "    .dataframe tbody tr th {\n",
       "        vertical-align: top;\n",
       "    }\n",
       "\n",
       "    .dataframe thead th {\n",
       "        text-align: right;\n",
       "    }\n",
       "</style>\n",
       "<table border=\"1\" class=\"dataframe\">\n",
       "  <thead>\n",
       "    <tr style=\"text-align: right;\">\n",
       "      <th></th>\n",
       "      <th>X_ray_image_name</th>\n",
       "      <th>label_group</th>\n",
       "      <th>COVID-19</th>\n",
       "      <th>Normal</th>\n",
       "      <th>Other_penemonia</th>\n",
       "    </tr>\n",
       "  </thead>\n",
       "  <tbody>\n",
       "    <tr>\n",
       "      <th>5221</th>\n",
       "      <td>kjr-21-e25-g001-l-a.jpg</td>\n",
       "      <td>COVID-19</td>\n",
       "      <td>1</td>\n",
       "      <td>0</td>\n",
       "      <td>0</td>\n",
       "    </tr>\n",
       "    <tr>\n",
       "      <th>5222</th>\n",
       "      <td>kjr-21-e24-g003-l-a.jpg</td>\n",
       "      <td>COVID-19</td>\n",
       "      <td>1</td>\n",
       "      <td>0</td>\n",
       "      <td>0</td>\n",
       "    </tr>\n",
       "    <tr>\n",
       "      <th>5223</th>\n",
       "      <td>kjr-21-e24-g002-l-a.jpg</td>\n",
       "      <td>COVID-19</td>\n",
       "      <td>1</td>\n",
       "      <td>0</td>\n",
       "      <td>0</td>\n",
       "    </tr>\n",
       "    <tr>\n",
       "      <th>5224</th>\n",
       "      <td>kjr-21-e24-g001-l-a.jpg</td>\n",
       "      <td>COVID-19</td>\n",
       "      <td>1</td>\n",
       "      <td>0</td>\n",
       "      <td>0</td>\n",
       "    </tr>\n",
       "    <tr>\n",
       "      <th>5225</th>\n",
       "      <td>jkms-35-e79-g001-l-c.jpg</td>\n",
       "      <td>COVID-19</td>\n",
       "      <td>1</td>\n",
       "      <td>0</td>\n",
       "      <td>0</td>\n",
       "    </tr>\n",
       "  </tbody>\n",
       "</table>\n",
       "</div>"
      ],
      "text/plain": [
       "              X_ray_image_name label_group  COVID-19  Normal  Other_penemonia\n",
       "5221   kjr-21-e25-g001-l-a.jpg    COVID-19         1       0                0\n",
       "5222   kjr-21-e24-g003-l-a.jpg    COVID-19         1       0                0\n",
       "5223   kjr-21-e24-g002-l-a.jpg    COVID-19         1       0                0\n",
       "5224   kjr-21-e24-g001-l-a.jpg    COVID-19         1       0                0\n",
       "5225  jkms-35-e79-g001-l-c.jpg    COVID-19         1       0                0"
      ]
     },
     "execution_count": 52,
     "metadata": {},
     "output_type": "execute_result"
    }
   ],
   "source": [
    "covid_df=final_df[final_df['label_group']=='COVID-19'].copy()\n",
    "covid_df.head()"
   ]
  },
  {
   "cell_type": "code",
   "execution_count": 53,
   "id": "b636f7ea",
   "metadata": {
    "execution": {
     "iopub.execute_input": "2022-08-30T02:46:07.097352Z",
     "iopub.status.busy": "2022-08-30T02:46:07.097015Z",
     "iopub.status.idle": "2022-08-30T02:46:07.106164Z",
     "shell.execute_reply": "2022-08-30T02:46:07.105186Z"
    },
    "papermill": {
     "duration": 0.03722,
     "end_time": "2022-08-30T02:46:07.108225",
     "exception": false,
     "start_time": "2022-08-30T02:46:07.071005",
     "status": "completed"
    },
    "tags": []
   },
   "outputs": [
    {
     "data": {
      "text/plain": [
       "Int64Index([ 0,  1,  2,  3,  4,  5,  6,  7,  8,  9, 10, 11, 12, 13, 14, 15, 16,\n",
       "            17, 18, 19, 20, 21, 22, 23, 24, 25, 26, 27, 28, 29, 30, 31, 32, 33,\n",
       "            34, 35, 36, 37, 38, 39, 40, 41, 42, 43, 44, 45, 46, 47, 48, 49, 50,\n",
       "            51, 52, 53, 54, 55, 56, 57, 58, 59, 60, 61, 62, 63, 64, 65, 66, 67,\n",
       "            68, 69, 70, 71, 72, 73, 74, 75, 76, 77, 78, 79, 80, 81, 82, 83, 84,\n",
       "            85, 86, 87, 88, 89, 90, 91, 92, 93, 94, 95, 96, 97, 98, 99],\n",
       "           dtype='int64')"
      ]
     },
     "execution_count": 53,
     "metadata": {},
     "output_type": "execute_result"
    }
   ],
   "source": [
    "final_df[final_df['label_group']=='Normal'].index[:100]"
   ]
  },
  {
   "cell_type": "code",
   "execution_count": 54,
   "id": "a2488240",
   "metadata": {
    "execution": {
     "iopub.execute_input": "2022-08-30T02:46:07.160669Z",
     "iopub.status.busy": "2022-08-30T02:46:07.159610Z",
     "iopub.status.idle": "2022-08-30T02:46:07.172012Z",
     "shell.execute_reply": "2022-08-30T02:46:07.171008Z"
    },
    "papermill": {
     "duration": 0.04067,
     "end_time": "2022-08-30T02:46:07.173980",
     "exception": false,
     "start_time": "2022-08-30T02:46:07.133310",
     "status": "completed"
    },
    "tags": []
   },
   "outputs": [
    {
     "data": {
      "text/html": [
       "<div>\n",
       "<style scoped>\n",
       "    .dataframe tbody tr th:only-of-type {\n",
       "        vertical-align: middle;\n",
       "    }\n",
       "\n",
       "    .dataframe tbody tr th {\n",
       "        vertical-align: top;\n",
       "    }\n",
       "\n",
       "    .dataframe thead th {\n",
       "        text-align: right;\n",
       "    }\n",
       "</style>\n",
       "<table border=\"1\" class=\"dataframe\">\n",
       "  <thead>\n",
       "    <tr style=\"text-align: right;\">\n",
       "      <th></th>\n",
       "      <th>X_ray_image_name</th>\n",
       "      <th>label_group</th>\n",
       "      <th>COVID-19</th>\n",
       "      <th>Normal</th>\n",
       "      <th>Other_penemonia</th>\n",
       "    </tr>\n",
       "  </thead>\n",
       "  <tbody>\n",
       "    <tr>\n",
       "      <th>0</th>\n",
       "      <td>IM-0128-0001.jpeg</td>\n",
       "      <td>Normal</td>\n",
       "      <td>0</td>\n",
       "      <td>1</td>\n",
       "      <td>0</td>\n",
       "    </tr>\n",
       "    <tr>\n",
       "      <th>1</th>\n",
       "      <td>IM-0127-0001.jpeg</td>\n",
       "      <td>Normal</td>\n",
       "      <td>0</td>\n",
       "      <td>1</td>\n",
       "      <td>0</td>\n",
       "    </tr>\n",
       "    <tr>\n",
       "      <th>2</th>\n",
       "      <td>IM-0125-0001.jpeg</td>\n",
       "      <td>Normal</td>\n",
       "      <td>0</td>\n",
       "      <td>1</td>\n",
       "      <td>0</td>\n",
       "    </tr>\n",
       "    <tr>\n",
       "      <th>3</th>\n",
       "      <td>IM-0122-0001.jpeg</td>\n",
       "      <td>Normal</td>\n",
       "      <td>0</td>\n",
       "      <td>1</td>\n",
       "      <td>0</td>\n",
       "    </tr>\n",
       "    <tr>\n",
       "      <th>4</th>\n",
       "      <td>IM-0119-0001.jpeg</td>\n",
       "      <td>Normal</td>\n",
       "      <td>0</td>\n",
       "      <td>1</td>\n",
       "      <td>0</td>\n",
       "    </tr>\n",
       "  </tbody>\n",
       "</table>\n",
       "</div>"
      ],
      "text/plain": [
       "    X_ray_image_name label_group  COVID-19  Normal  Other_penemonia\n",
       "0  IM-0128-0001.jpeg      Normal         0       1                0\n",
       "1  IM-0127-0001.jpeg      Normal         0       1                0\n",
       "2  IM-0125-0001.jpeg      Normal         0       1                0\n",
       "3  IM-0122-0001.jpeg      Normal         0       1                0\n",
       "4  IM-0119-0001.jpeg      Normal         0       1                0"
      ]
     },
     "execution_count": 54,
     "metadata": {},
     "output_type": "execute_result"
    }
   ],
   "source": [
    "normal_df=final_df[final_df['label_group']=='Normal'][:50].copy()\n",
    "normal_df.head()"
   ]
  },
  {
   "cell_type": "code",
   "execution_count": 55,
   "id": "479133f1",
   "metadata": {
    "execution": {
     "iopub.execute_input": "2022-08-30T02:46:07.226640Z",
     "iopub.status.busy": "2022-08-30T02:46:07.226307Z",
     "iopub.status.idle": "2022-08-30T02:46:07.235485Z",
     "shell.execute_reply": "2022-08-30T02:46:07.234438Z"
    },
    "papermill": {
     "duration": 0.03781,
     "end_time": "2022-08-30T02:46:07.237731",
     "exception": false,
     "start_time": "2022-08-30T02:46:07.199921",
     "status": "completed"
    },
    "tags": []
   },
   "outputs": [
    {
     "data": {
      "text/plain": [
       "Int64Index([5216, 5217, 5218, 5219, 5220, 5231, 5232, 5233, 5234, 5235, 5236], dtype='int64')"
      ]
     },
     "execution_count": 55,
     "metadata": {},
     "output_type": "execute_result"
    }
   ],
   "source": [
    "final_df[final_df['label_group']=='Other_penemonia'].index"
   ]
  },
  {
   "cell_type": "code",
   "execution_count": 56,
   "id": "f041413d",
   "metadata": {
    "execution": {
     "iopub.execute_input": "2022-08-30T02:46:07.289863Z",
     "iopub.status.busy": "2022-08-30T02:46:07.289529Z",
     "iopub.status.idle": "2022-08-30T02:46:07.301757Z",
     "shell.execute_reply": "2022-08-30T02:46:07.300780Z"
    },
    "papermill": {
     "duration": 0.041041,
     "end_time": "2022-08-30T02:46:07.303733",
     "exception": false,
     "start_time": "2022-08-30T02:46:07.262692",
     "status": "completed"
    },
    "tags": []
   },
   "outputs": [
    {
     "data": {
      "text/html": [
       "<div>\n",
       "<style scoped>\n",
       "    .dataframe tbody tr th:only-of-type {\n",
       "        vertical-align: middle;\n",
       "    }\n",
       "\n",
       "    .dataframe tbody tr th {\n",
       "        vertical-align: top;\n",
       "    }\n",
       "\n",
       "    .dataframe thead th {\n",
       "        text-align: right;\n",
       "    }\n",
       "</style>\n",
       "<table border=\"1\" class=\"dataframe\">\n",
       "  <thead>\n",
       "    <tr style=\"text-align: right;\">\n",
       "      <th></th>\n",
       "      <th>X_ray_image_name</th>\n",
       "      <th>label_group</th>\n",
       "      <th>COVID-19</th>\n",
       "      <th>Normal</th>\n",
       "      <th>Other_penemonia</th>\n",
       "    </tr>\n",
       "  </thead>\n",
       "  <tbody>\n",
       "    <tr>\n",
       "      <th>5216</th>\n",
       "      <td>streptococcus-pneumoniae-pneumonia-temporal-ev...</td>\n",
       "      <td>Other_penemonia</td>\n",
       "      <td>0</td>\n",
       "      <td>0</td>\n",
       "      <td>1</td>\n",
       "    </tr>\n",
       "    <tr>\n",
       "      <th>5217</th>\n",
       "      <td>streptococcus-pneumoniae-pneumonia-temporal-ev...</td>\n",
       "      <td>Other_penemonia</td>\n",
       "      <td>0</td>\n",
       "      <td>0</td>\n",
       "      <td>1</td>\n",
       "    </tr>\n",
       "    <tr>\n",
       "      <th>5218</th>\n",
       "      <td>streptococcus-pneumoniae-pneumonia-temporal-ev...</td>\n",
       "      <td>Other_penemonia</td>\n",
       "      <td>0</td>\n",
       "      <td>0</td>\n",
       "      <td>1</td>\n",
       "    </tr>\n",
       "    <tr>\n",
       "      <th>5219</th>\n",
       "      <td>streptococcus-pneumoniae-pneumonia-temporal-ev...</td>\n",
       "      <td>Other_penemonia</td>\n",
       "      <td>0</td>\n",
       "      <td>0</td>\n",
       "      <td>1</td>\n",
       "    </tr>\n",
       "    <tr>\n",
       "      <th>5220</th>\n",
       "      <td>streptococcus-pneumoniae-pneumonia-1.jpg</td>\n",
       "      <td>Other_penemonia</td>\n",
       "      <td>0</td>\n",
       "      <td>0</td>\n",
       "      <td>1</td>\n",
       "    </tr>\n",
       "  </tbody>\n",
       "</table>\n",
       "</div>"
      ],
      "text/plain": [
       "                                       X_ray_image_name      label_group  \\\n",
       "5216  streptococcus-pneumoniae-pneumonia-temporal-ev...  Other_penemonia   \n",
       "5217  streptococcus-pneumoniae-pneumonia-temporal-ev...  Other_penemonia   \n",
       "5218  streptococcus-pneumoniae-pneumonia-temporal-ev...  Other_penemonia   \n",
       "5219  streptococcus-pneumoniae-pneumonia-temporal-ev...  Other_penemonia   \n",
       "5220           streptococcus-pneumoniae-pneumonia-1.jpg  Other_penemonia   \n",
       "\n",
       "      COVID-19  Normal  Other_penemonia  \n",
       "5216         0       0                1  \n",
       "5217         0       0                1  \n",
       "5218         0       0                1  \n",
       "5219         0       0                1  \n",
       "5220         0       0                1  "
      ]
     },
     "execution_count": 56,
     "metadata": {},
     "output_type": "execute_result"
    }
   ],
   "source": [
    "other_df=final_df[final_df['label_group']=='Other_penemonia'].copy()\n",
    "other_df.head()"
   ]
  },
  {
   "cell_type": "code",
   "execution_count": 57,
   "id": "276400f2",
   "metadata": {
    "execution": {
     "iopub.execute_input": "2022-08-30T02:46:07.356959Z",
     "iopub.status.busy": "2022-08-30T02:46:07.356557Z",
     "iopub.status.idle": "2022-08-30T02:46:07.369225Z",
     "shell.execute_reply": "2022-08-30T02:46:07.368169Z"
    },
    "papermill": {
     "duration": 0.042118,
     "end_time": "2022-08-30T02:46:07.371282",
     "exception": false,
     "start_time": "2022-08-30T02:46:07.329164",
     "status": "completed"
    },
    "tags": []
   },
   "outputs": [
    {
     "data": {
      "text/html": [
       "<div>\n",
       "<style scoped>\n",
       "    .dataframe tbody tr th:only-of-type {\n",
       "        vertical-align: middle;\n",
       "    }\n",
       "\n",
       "    .dataframe tbody tr th {\n",
       "        vertical-align: top;\n",
       "    }\n",
       "\n",
       "    .dataframe thead th {\n",
       "        text-align: right;\n",
       "    }\n",
       "</style>\n",
       "<table border=\"1\" class=\"dataframe\">\n",
       "  <thead>\n",
       "    <tr style=\"text-align: right;\">\n",
       "      <th></th>\n",
       "      <th>X_ray_image_name</th>\n",
       "      <th>label_group</th>\n",
       "      <th>COVID-19</th>\n",
       "      <th>Normal</th>\n",
       "      <th>Other_penemonia</th>\n",
       "    </tr>\n",
       "  </thead>\n",
       "  <tbody>\n",
       "    <tr>\n",
       "      <th>5221</th>\n",
       "      <td>kjr-21-e25-g001-l-a.jpg</td>\n",
       "      <td>COVID-19</td>\n",
       "      <td>1</td>\n",
       "      <td>0</td>\n",
       "      <td>0</td>\n",
       "    </tr>\n",
       "    <tr>\n",
       "      <th>5222</th>\n",
       "      <td>kjr-21-e24-g003-l-a.jpg</td>\n",
       "      <td>COVID-19</td>\n",
       "      <td>1</td>\n",
       "      <td>0</td>\n",
       "      <td>0</td>\n",
       "    </tr>\n",
       "    <tr>\n",
       "      <th>5223</th>\n",
       "      <td>kjr-21-e24-g002-l-a.jpg</td>\n",
       "      <td>COVID-19</td>\n",
       "      <td>1</td>\n",
       "      <td>0</td>\n",
       "      <td>0</td>\n",
       "    </tr>\n",
       "    <tr>\n",
       "      <th>5224</th>\n",
       "      <td>kjr-21-e24-g001-l-a.jpg</td>\n",
       "      <td>COVID-19</td>\n",
       "      <td>1</td>\n",
       "      <td>0</td>\n",
       "      <td>0</td>\n",
       "    </tr>\n",
       "    <tr>\n",
       "      <th>5225</th>\n",
       "      <td>jkms-35-e79-g001-l-c.jpg</td>\n",
       "      <td>COVID-19</td>\n",
       "      <td>1</td>\n",
       "      <td>0</td>\n",
       "      <td>0</td>\n",
       "    </tr>\n",
       "  </tbody>\n",
       "</table>\n",
       "</div>"
      ],
      "text/plain": [
       "              X_ray_image_name label_group  COVID-19  Normal  Other_penemonia\n",
       "5221   kjr-21-e25-g001-l-a.jpg    COVID-19         1       0                0\n",
       "5222   kjr-21-e24-g003-l-a.jpg    COVID-19         1       0                0\n",
       "5223   kjr-21-e24-g002-l-a.jpg    COVID-19         1       0                0\n",
       "5224   kjr-21-e24-g001-l-a.jpg    COVID-19         1       0                0\n",
       "5225  jkms-35-e79-g001-l-c.jpg    COVID-19         1       0                0"
      ]
     },
     "execution_count": 57,
     "metadata": {},
     "output_type": "execute_result"
    }
   ],
   "source": [
    "mini_df=pd.concat([covid_df,normal_df,other_df],axis=0)\n",
    "mini_df.head()"
   ]
  },
  {
   "cell_type": "code",
   "execution_count": 58,
   "id": "24bb34a9",
   "metadata": {
    "execution": {
     "iopub.execute_input": "2022-08-30T02:46:07.425536Z",
     "iopub.status.busy": "2022-08-30T02:46:07.424639Z",
     "iopub.status.idle": "2022-08-30T02:46:07.523810Z",
     "shell.execute_reply": "2022-08-30T02:46:07.522443Z"
    },
    "papermill": {
     "duration": 0.130506,
     "end_time": "2022-08-30T02:46:07.527566",
     "exception": false,
     "start_time": "2022-08-30T02:46:07.397060",
     "status": "completed"
    },
    "tags": []
   },
   "outputs": [
    {
     "data": {
      "text/plain": [
       "([<matplotlib.patches.Wedge at 0x7fd034459410>,\n",
       "  <matplotlib.patches.Wedge at 0x7fd034466990>,\n",
       "  <matplotlib.patches.Wedge at 0x7fd034471110>],\n",
       " [Text(0.04354851167455959, 1.0991376288395056, 'COVID-19'),\n",
       "  Text(-0.35644650771729275, -1.0406468599559344, 'Normal'),\n",
       "  Text(1.0539425864759335, -0.3149682911221697, 'Other_penemonia')],\n",
       " [Text(0.02375373364066886, 0.5995296157306393, '48.7%'),\n",
       "  Text(-0.19442536784579603, -0.5676255599759642, '42.0%'),\n",
       "  Text(0.5748777744414182, -0.171800886066638, '9.2%')])"
      ]
     },
     "execution_count": 58,
     "metadata": {},
     "output_type": "execute_result"
    },
    {
     "data": {
      "image/png": "[encoded data removed]",
      "text/plain": [
       "<Figure size 432x288 with 1 Axes>"
      ]
     },
     "metadata": {},
     "output_type": "display_data"
    }
   ],
   "source": [
    "plt.pie(x=mini_df['label_group'].value_counts(),labels=mini_df['label_group'].unique(),autopct='%1.1f%%')"
   ]
  },
  {
   "cell_type": "code",
   "execution_count": 59,
   "id": "8eae3905",
   "metadata": {
    "execution": {
     "iopub.execute_input": "2022-08-30T02:46:07.639496Z",
     "iopub.status.busy": "2022-08-30T02:46:07.639114Z",
     "iopub.status.idle": "2022-08-30T02:46:07.646597Z",
     "shell.execute_reply": "2022-08-30T02:46:07.645571Z"
    },
    "papermill": {
     "duration": 0.045579,
     "end_time": "2022-08-30T02:46:07.648853",
     "exception": false,
     "start_time": "2022-08-30T02:46:07.603274",
     "status": "completed"
    },
    "tags": []
   },
   "outputs": [
    {
     "data": {
      "text/plain": [
       "array(['COVID-19', 'Normal', 'Other_penemonia'], dtype=object)"
      ]
     },
     "execution_count": 59,
     "metadata": {},
     "output_type": "execute_result"
    }
   ],
   "source": [
    "mini_df['label_group'].unique()"
   ]
  },
  {
   "cell_type": "code",
   "execution_count": 60,
   "id": "eabebdd1",
   "metadata": {
    "execution": {
     "iopub.execute_input": "2022-08-30T02:46:07.702379Z",
     "iopub.status.busy": "2022-08-30T02:46:07.701536Z",
     "iopub.status.idle": "2022-08-30T02:46:07.706173Z",
     "shell.execute_reply": "2022-08-30T02:46:07.705217Z"
    },
    "papermill": {
     "duration": 0.033784,
     "end_time": "2022-08-30T02:46:07.708286",
     "exception": false,
     "start_time": "2022-08-30T02:46:07.674502",
     "status": "completed"
    },
    "tags": []
   },
   "outputs": [],
   "source": [
    "X_ray_image_names=mini_df['X_ray_image_name'].values"
   ]
  },
  {
   "cell_type": "code",
   "execution_count": 61,
   "id": "bf7e790a",
   "metadata": {
    "execution": {
     "iopub.execute_input": "2022-08-30T02:46:07.763172Z",
     "iopub.status.busy": "2022-08-30T02:46:07.762252Z",
     "iopub.status.idle": "2022-08-30T02:46:14.109888Z",
     "shell.execute_reply": "2022-08-30T02:46:14.108827Z"
    },
    "papermill": {
     "duration": 6.377388,
     "end_time": "2022-08-30T02:46:14.112085",
     "exception": false,
     "start_time": "2022-08-30T02:46:07.734697",
     "status": "completed"
    },
    "tags": []
   },
   "outputs": [
    {
     "data": {
      "text/plain": [
       "[array([[[13., 13., 13.],\n",
       "         [15., 15., 15.],\n",
       "         [14., 14., 14.],\n",
       "         ...,\n",
       "         [18., 18., 18.],\n",
       "         [18., 18., 18.],\n",
       "         [14., 14., 14.]],\n",
       " \n",
       "        [[ 0.,  0.,  0.],\n",
       "         [ 2.,  2.,  2.],\n",
       "         [ 0.,  0.,  0.],\n",
       "         ...,\n",
       "         [ 5.,  5.,  5.],\n",
       "         [ 5.,  5.,  5.],\n",
       "         [ 1.,  1.,  1.]],\n",
       " \n",
       "        [[ 0.,  0.,  0.],\n",
       "         [ 3.,  3.,  3.],\n",
       "         [ 3.,  3.,  3.],\n",
       "         ...,\n",
       "         [ 6.,  6.,  6.],\n",
       "         [ 5.,  5.,  5.],\n",
       "         [ 1.,  1.,  1.]],\n",
       " \n",
       "        ...,\n",
       " \n",
       "        [[ 0.,  0.,  0.],\n",
       "         [ 3.,  3.,  3.],\n",
       "         [ 3.,  3.,  3.],\n",
       "         ...,\n",
       "         [37., 37., 37.],\n",
       "         [31., 31., 31.],\n",
       "         [ 3.,  3.,  3.]],\n",
       " \n",
       "        [[ 0.,  0.,  0.],\n",
       "         [ 4.,  4.,  4.],\n",
       "         [ 3.,  3.,  3.],\n",
       "         ...,\n",
       "         [37., 37., 37.],\n",
       "         [30., 30., 30.],\n",
       "         [ 2.,  2.,  2.]],\n",
       " \n",
       "        [[ 0.,  0.,  0.],\n",
       "         [ 0.,  0.,  0.],\n",
       "         [ 0.,  0.,  0.],\n",
       "         ...,\n",
       "         [12., 12., 12.],\n",
       "         [ 0.,  0.,  0.],\n",
       "         [ 1.,  1.,  1.]]], dtype=float32),\n",
       " array([[[ 13.,  13.,  13.],\n",
       "         [  0.,   0.,   0.],\n",
       "         [  0.,   0.,   0.],\n",
       "         ...,\n",
       "         [  0.,   0.,   0.],\n",
       "         [  0.,   0.,   0.],\n",
       "         [  0.,   0.,   0.]],\n",
       " \n",
       "        [[ 27.,  27.,  27.],\n",
       "         [ 14.,  14.,  14.],\n",
       "         [ 14.,  14.,  14.],\n",
       "         ...,\n",
       "         [ 15.,  15.,  15.],\n",
       "         [ 15.,  15.,  15.],\n",
       "         [  1.,   1.,   1.]],\n",
       " \n",
       "        [[ 28.,  28.,  28.],\n",
       "         [ 16.,  16.,  16.],\n",
       "         [ 14.,  14.,  14.],\n",
       "         ...,\n",
       "         [ 13.,  13.,  13.],\n",
       "         [ 13.,  13.,  13.],\n",
       "         [  0.,   0.,   0.]],\n",
       " \n",
       "        ...,\n",
       " \n",
       "        [[128., 128., 128.],\n",
       "         [133., 133., 133.],\n",
       "         [157., 157., 157.],\n",
       "         ...,\n",
       "         [162., 162., 162.],\n",
       "         [147., 147., 147.],\n",
       "         [127., 127., 127.]],\n",
       " \n",
       "        [[129., 129., 129.],\n",
       "         [131., 131., 131.],\n",
       "         [158., 158., 158.],\n",
       "         ...,\n",
       "         [157., 157., 157.],\n",
       "         [147., 147., 147.],\n",
       "         [124., 124., 124.]],\n",
       " \n",
       "        [[110., 110., 110.],\n",
       "         [118., 118., 118.],\n",
       "         [143., 143., 143.],\n",
       "         ...,\n",
       "         [145., 145., 145.],\n",
       "         [135., 135., 135.],\n",
       "         [110., 110., 110.]]], dtype=float32)]"
      ]
     },
     "execution_count": 61,
     "metadata": {},
     "output_type": "execute_result"
    }
   ],
   "source": [
    "images=[]\n",
    "dir_path='../input/coronahack-chest-xraydataset/Coronahack-Chest-XRay-Dataset/Coronahack-Chest-XRay-Dataset/train'\n",
    "for im_name in X_ray_image_names:\n",
    "    im_path=os.path.join(dir_path,im_name)\n",
    "    img=load_img(im_path,target_size=(224,224))\n",
    "    img=img_to_array(img)\n",
    "    images.append(img)\n",
    "images[:2]"
   ]
  },
  {
   "cell_type": "code",
   "execution_count": 62,
   "id": "72b6a1fd",
   "metadata": {
    "execution": {
     "iopub.execute_input": "2022-08-30T02:46:14.166670Z",
     "iopub.status.busy": "2022-08-30T02:46:14.166331Z",
     "iopub.status.idle": "2022-08-30T02:46:14.193052Z",
     "shell.execute_reply": "2022-08-30T02:46:14.192089Z"
    },
    "papermill": {
     "duration": 0.056669,
     "end_time": "2022-08-30T02:46:14.195491",
     "exception": false,
     "start_time": "2022-08-30T02:46:14.138822",
     "status": "completed"
    },
    "tags": []
   },
   "outputs": [],
   "source": [
    "images=np.array(images)"
   ]
  },
  {
   "cell_type": "code",
   "execution_count": 63,
   "id": "95a0f34f",
   "metadata": {
    "execution": {
     "iopub.execute_input": "2022-08-30T02:46:14.251979Z",
     "iopub.status.busy": "2022-08-30T02:46:14.250823Z",
     "iopub.status.idle": "2022-08-30T02:46:14.278392Z",
     "shell.execute_reply": "2022-08-30T02:46:14.277369Z"
    },
    "papermill": {
     "duration": 0.058473,
     "end_time": "2022-08-30T02:46:14.281090",
     "exception": false,
     "start_time": "2022-08-30T02:46:14.222617",
     "status": "completed"
    },
    "tags": []
   },
   "outputs": [],
   "source": [
    "images=images / 255"
   ]
  },
  {
   "cell_type": "code",
   "execution_count": 64,
   "id": "c188f73a",
   "metadata": {
    "execution": {
     "iopub.execute_input": "2022-08-30T02:46:14.336776Z",
     "iopub.status.busy": "2022-08-30T02:46:14.336418Z",
     "iopub.status.idle": "2022-08-30T02:46:14.342566Z",
     "shell.execute_reply": "2022-08-30T02:46:14.341625Z"
    },
    "papermill": {
     "duration": 0.035993,
     "end_time": "2022-08-30T02:46:14.344726",
     "exception": false,
     "start_time": "2022-08-30T02:46:14.308733",
     "status": "completed"
    },
    "tags": []
   },
   "outputs": [
    {
     "data": {
      "text/plain": [
       "(119, 224, 224, 3)"
      ]
     },
     "execution_count": 64,
     "metadata": {},
     "output_type": "execute_result"
    }
   ],
   "source": [
    "images.shape"
   ]
  },
  {
   "cell_type": "code",
   "execution_count": 65,
   "id": "ef952a33",
   "metadata": {
    "execution": {
     "iopub.execute_input": "2022-08-30T02:46:14.399316Z",
     "iopub.status.busy": "2022-08-30T02:46:14.398974Z",
     "iopub.status.idle": "2022-08-30T02:46:14.404846Z",
     "shell.execute_reply": "2022-08-30T02:46:14.403958Z"
    },
    "papermill": {
     "duration": 0.035145,
     "end_time": "2022-08-30T02:46:14.406751",
     "exception": false,
     "start_time": "2022-08-30T02:46:14.371606",
     "status": "completed"
    },
    "tags": []
   },
   "outputs": [
    {
     "data": {
      "text/plain": [
       "(5286, 3)"
      ]
     },
     "execution_count": 65,
     "metadata": {},
     "output_type": "execute_result"
    }
   ],
   "source": [
    "y.shape"
   ]
  },
  {
   "cell_type": "code",
   "execution_count": 66,
   "id": "6754ed10",
   "metadata": {
    "execution": {
     "iopub.execute_input": "2022-08-30T02:46:14.460678Z",
     "iopub.status.busy": "2022-08-30T02:46:14.460079Z",
     "iopub.status.idle": "2022-08-30T02:46:14.468045Z",
     "shell.execute_reply": "2022-08-30T02:46:14.467100Z"
    },
    "papermill": {
     "duration": 0.037197,
     "end_time": "2022-08-30T02:46:14.470112",
     "exception": false,
     "start_time": "2022-08-30T02:46:14.432915",
     "status": "completed"
    },
    "tags": []
   },
   "outputs": [
    {
     "data": {
      "text/plain": [
       "array([[1, 0, 0],\n",
       "       [1, 0, 0],\n",
       "       [1, 0, 0],\n",
       "       [1, 0, 0],\n",
       "       [1, 0, 0],\n",
       "       [1, 0, 0],\n",
       "       [1, 0, 0],\n",
       "       [1, 0, 0],\n",
       "       [1, 0, 0],\n",
       "       [1, 0, 0]])"
      ]
     },
     "execution_count": 66,
     "metadata": {},
     "output_type": "execute_result"
    }
   ],
   "source": [
    "mini_y_df=mini_df[['COVID-19','Normal','Other_penemonia']]\n",
    "mini_y=mini_y_df.values\n",
    "mini_y=mini_y.astype(int)\n",
    "mini_y[:10]"
   ]
  },
  {
   "cell_type": "code",
   "execution_count": 67,
   "id": "09f821f4",
   "metadata": {
    "execution": {
     "iopub.execute_input": "2022-08-30T02:46:14.524858Z",
     "iopub.status.busy": "2022-08-30T02:46:14.524516Z",
     "iopub.status.idle": "2022-08-30T02:46:17.631935Z",
     "shell.execute_reply": "2022-08-30T02:46:17.630942Z"
    },
    "papermill": {
     "duration": 3.138027,
     "end_time": "2022-08-30T02:46:17.634832",
     "exception": false,
     "start_time": "2022-08-30T02:46:14.496805",
     "status": "completed"
    },
    "tags": []
   },
   "outputs": [
    {
     "name": "stderr",
     "output_type": "stream",
     "text": [
      "2022-08-30 02:46:14.628637: I tensorflow/stream_executor/cuda/cuda_gpu_executor.cc:937] successful NUMA node read from SysFS had negative value (-1), but there must be at least one NUMA node, so returning NUMA node zero\n",
      "2022-08-30 02:46:14.780339: I tensorflow/stream_executor/cuda/cuda_gpu_executor.cc:937] successful NUMA node read from SysFS had negative value (-1), but there must be at least one NUMA node, so returning NUMA node zero\n",
      "2022-08-30 02:46:14.781255: I tensorflow/stream_executor/cuda/cuda_gpu_executor.cc:937] successful NUMA node read from SysFS had negative value (-1), but there must be at least one NUMA node, so returning NUMA node zero\n",
      "2022-08-30 02:46:14.783170: I tensorflow/core/platform/cpu_feature_guard.cc:142] This TensorFlow binary is optimized with oneAPI Deep Neural Network Library (oneDNN) to use the following CPU instructions in performance-critical operations:  AVX2 AVX512F FMA\n",
      "To enable them in other operations, rebuild TensorFlow with the appropriate compiler flags.\n",
      "2022-08-30 02:46:14.783504: I tensorflow/stream_executor/cuda/cuda_gpu_executor.cc:937] successful NUMA node read from SysFS had negative value (-1), but there must be at least one NUMA node, so returning NUMA node zero\n",
      "2022-08-30 02:46:14.784268: I tensorflow/stream_executor/cuda/cuda_gpu_executor.cc:937] successful NUMA node read from SysFS had negative value (-1), but there must be at least one NUMA node, so returning NUMA node zero\n",
      "2022-08-30 02:46:14.784974: I tensorflow/stream_executor/cuda/cuda_gpu_executor.cc:937] successful NUMA node read from SysFS had negative value (-1), but there must be at least one NUMA node, so returning NUMA node zero\n",
      "2022-08-30 02:46:17.169128: I tensorflow/stream_executor/cuda/cuda_gpu_executor.cc:937] successful NUMA node read from SysFS had negative value (-1), but there must be at least one NUMA node, so returning NUMA node zero\n",
      "2022-08-30 02:46:17.170043: I tensorflow/stream_executor/cuda/cuda_gpu_executor.cc:937] successful NUMA node read from SysFS had negative value (-1), but there must be at least one NUMA node, so returning NUMA node zero\n",
      "2022-08-30 02:46:17.170726: I tensorflow/stream_executor/cuda/cuda_gpu_executor.cc:937] successful NUMA node read from SysFS had negative value (-1), but there must be at least one NUMA node, so returning NUMA node zero\n",
      "2022-08-30 02:46:17.171337: I tensorflow/core/common_runtime/gpu/gpu_device.cc:1510] Created device /job:localhost/replica:0/task:0/device:GPU:0 with 15401 MB memory:  -> device: 0, name: Tesla P100-PCIE-16GB, pci bus id: 0000:00:04.0, compute capability: 6.0\n"
     ]
    }
   ],
   "source": [
    "cnn=Sequential([\n",
    "    Conv2D(32,activation='relu',kernel_size=(3,3),padding='same',input_shape=(224,224,3)),\n",
    "    MaxPooling2D(pool_size=(2, 2),strides=(1, 1), padding='valid'),\n",
    "    Conv2D(64,activation='relu',kernel_size=(3,3),padding='same'),\n",
    "    MaxPooling2D(pool_size=(2, 2),strides=(1, 1), padding='valid'),\n",
    "    Conv2D(128,activation='relu',kernel_size=(3,3),padding='same'),\n",
    "    MaxPooling2D(pool_size=(2, 2),strides=(1, 1), padding='valid'),\n",
    "    Conv2D(64,activation='relu',kernel_size=(3,3),padding='same'),\n",
    "    MaxPooling2D(pool_size=(2, 2),strides=(1, 1), padding='valid'),\n",
    "    Flatten(),\n",
    "    Dense(3,activation='softmax')\n",
    "])"
   ]
  },
  {
   "cell_type": "code",
   "execution_count": 68,
   "id": "b082d071",
   "metadata": {
    "execution": {
     "iopub.execute_input": "2022-08-30T02:46:17.691009Z",
     "iopub.status.busy": "2022-08-30T02:46:17.690605Z",
     "iopub.status.idle": "2022-08-30T02:46:17.704045Z",
     "shell.execute_reply": "2022-08-30T02:46:17.703143Z"
    },
    "papermill": {
     "duration": 0.04361,
     "end_time": "2022-08-30T02:46:17.706205",
     "exception": false,
     "start_time": "2022-08-30T02:46:17.662595",
     "status": "completed"
    },
    "tags": []
   },
   "outputs": [],
   "source": [
    "cnn.compile(optimizer='adam',loss='categorical_crossentropy',metrics=['accuracy'])"
   ]
  },
  {
   "cell_type": "code",
   "execution_count": 69,
   "id": "c0fe576a",
   "metadata": {
    "execution": {
     "iopub.execute_input": "2022-08-30T02:46:17.763353Z",
     "iopub.status.busy": "2022-08-30T02:46:17.762250Z",
     "iopub.status.idle": "2022-08-30T02:46:38.975802Z",
     "shell.execute_reply": "2022-08-30T02:46:38.974841Z"
    },
    "papermill": {
     "duration": 21.24502,
     "end_time": "2022-08-30T02:46:38.977987",
     "exception": false,
     "start_time": "2022-08-30T02:46:17.732967",
     "status": "completed"
    },
    "tags": []
   },
   "outputs": [
    {
     "name": "stderr",
     "output_type": "stream",
     "text": [
      "2022-08-30 02:46:17.974590: I tensorflow/compiler/mlir/mlir_graph_optimization_pass.cc:185] None of the MLIR Optimization Passes are enabled (registered 2)\n"
     ]
    },
    {
     "name": "stdout",
     "output_type": "stream",
     "text": [
      "Epoch 1/10\n"
     ]
    },
    {
     "name": "stderr",
     "output_type": "stream",
     "text": [
      "2022-08-30 02:46:19.427128: I tensorflow/stream_executor/cuda/cuda_dnn.cc:369] Loaded cuDNN version 8005\n"
     ]
    },
    {
     "name": "stdout",
     "output_type": "stream",
     "text": [
      "12/12 - 10s - loss: 8.4661 - accuracy: 0.5210\n",
      "Epoch 2/10\n",
      "12/12 - 1s - loss: 0.5100 - accuracy: 0.8571\n",
      "Epoch 3/10\n",
      "12/12 - 1s - loss: 0.2891 - accuracy: 0.9244\n",
      "Epoch 4/10\n",
      "12/12 - 1s - loss: 0.1102 - accuracy: 0.9580\n",
      "Epoch 5/10\n",
      "12/12 - 1s - loss: 0.0637 - accuracy: 0.9748\n",
      "Epoch 6/10\n",
      "12/12 - 1s - loss: 0.1293 - accuracy: 0.9412\n",
      "Epoch 7/10\n",
      "12/12 - 1s - loss: 0.1014 - accuracy: 0.9580\n",
      "Epoch 8/10\n",
      "12/12 - 1s - loss: 0.1537 - accuracy: 0.9580\n",
      "Epoch 9/10\n",
      "12/12 - 1s - loss: 0.0697 - accuracy: 0.9664\n",
      "Epoch 10/10\n",
      "12/12 - 1s - loss: 0.1414 - accuracy: 0.9748\n"
     ]
    },
    {
     "data": {
      "text/plain": [
       "<keras.callbacks.History at 0x7fd0343a8c10>"
      ]
     },
     "execution_count": 69,
     "metadata": {},
     "output_type": "execute_result"
    }
   ],
   "source": [
    "cnn.fit(images,mini_y,verbose=2,epochs=10,batch_size=10)"
   ]
  },
  {
   "cell_type": "code",
   "execution_count": 70,
   "id": "33228f42",
   "metadata": {
    "execution": {
     "iopub.execute_input": "2022-08-30T02:46:39.036694Z",
     "iopub.status.busy": "2022-08-30T02:46:39.036358Z",
     "iopub.status.idle": "2022-08-30T02:46:44.584695Z",
     "shell.execute_reply": "2022-08-30T02:46:44.583667Z"
    },
    "papermill": {
     "duration": 5.580646,
     "end_time": "2022-08-30T02:46:44.587757",
     "exception": false,
     "start_time": "2022-08-30T02:46:39.007111",
     "status": "completed"
    },
    "tags": []
   },
   "outputs": [],
   "source": [
    "y_pred=cnn.predict(images)"
   ]
  },
  {
   "cell_type": "code",
   "execution_count": 71,
   "id": "ef11652a",
   "metadata": {
    "execution": {
     "iopub.execute_input": "2022-08-30T02:46:44.649470Z",
     "iopub.status.busy": "2022-08-30T02:46:44.648335Z",
     "iopub.status.idle": "2022-08-30T02:46:44.655684Z",
     "shell.execute_reply": "2022-08-30T02:46:44.654724Z"
    },
    "papermill": {
     "duration": 0.04012,
     "end_time": "2022-08-30T02:46:44.657746",
     "exception": false,
     "start_time": "2022-08-30T02:46:44.617626",
     "status": "completed"
    },
    "tags": []
   },
   "outputs": [
    {
     "data": {
      "text/plain": [
       "array([[1, 0, 0],\n",
       "       [1, 0, 0],\n",
       "       [1, 0, 0],\n",
       "       [1, 0, 0],\n",
       "       [0, 1, 0],\n",
       "       [1, 0, 0],\n",
       "       [1, 0, 0],\n",
       "       [1, 0, 0],\n",
       "       [1, 0, 0],\n",
       "       [1, 0, 0],\n",
       "       [1, 0, 0],\n",
       "       [1, 0, 0],\n",
       "       [1, 0, 0],\n",
       "       [1, 0, 0],\n",
       "       [1, 0, 0],\n",
       "       [1, 0, 0],\n",
       "       [1, 0, 0],\n",
       "       [1, 0, 0],\n",
       "       [1, 0, 0],\n",
       "       [1, 0, 0],\n",
       "       [1, 0, 0],\n",
       "       [1, 0, 0],\n",
       "       [1, 0, 0]])"
      ]
     },
     "execution_count": 71,
     "metadata": {},
     "output_type": "execute_result"
    }
   ],
   "source": [
    "y[5237:5260]"
   ]
  },
  {
   "cell_type": "code",
   "execution_count": 72,
   "id": "2ee67737",
   "metadata": {
    "execution": {
     "iopub.execute_input": "2022-08-30T02:46:44.716629Z",
     "iopub.status.busy": "2022-08-30T02:46:44.715719Z",
     "iopub.status.idle": "2022-08-30T02:46:44.722672Z",
     "shell.execute_reply": "2022-08-30T02:46:44.721614Z"
    },
    "papermill": {
     "duration": 0.038326,
     "end_time": "2022-08-30T02:46:44.724767",
     "exception": false,
     "start_time": "2022-08-30T02:46:44.686441",
     "status": "completed"
    },
    "tags": []
   },
   "outputs": [
    {
     "data": {
      "text/plain": [
       "array([], shape=(0, 3), dtype=float32)"
      ]
     },
     "execution_count": 72,
     "metadata": {},
     "output_type": "execute_result"
    }
   ],
   "source": [
    "y_pred[5237:5260]"
   ]
  },
  {
   "cell_type": "code",
   "execution_count": null,
   "id": "5daabbb8",
   "metadata": {
    "papermill": {
     "duration": 0.027448,
     "end_time": "2022-08-30T02:46:44.781008",
     "exception": false,
     "start_time": "2022-08-30T02:46:44.753560",
     "status": "completed"
    },
    "tags": []
   },
   "outputs": [],
   "source": []
  },
  {
   "cell_type": "code",
   "execution_count": null,
   "id": "fb3aff6a",
   "metadata": {
    "papermill": {
     "duration": 0.027928,
     "end_time": "2022-08-30T02:46:44.836725",
     "exception": false,
     "start_time": "2022-08-30T02:46:44.808797",
     "status": "completed"
    },
    "tags": []
   },
   "outputs": [],
   "source": []
  },
  {
   "cell_type": "code",
   "execution_count": null,
   "id": "0f7e00d7",
   "metadata": {
    "papermill": {
     "duration": 0.027872,
     "end_time": "2022-08-30T02:46:44.893396",
     "exception": false,
     "start_time": "2022-08-30T02:46:44.865524",
     "status": "completed"
    },
    "tags": []
   },
   "outputs": [],
   "source": []
  }
 ],
 "metadata": {
  "kernelspec": {
   "display_name": "Python 3",
   "language": "python",
   "name": "python3"
  },
  "language_info": {
   "codemirror_mode": {
    "name": "ipython",
    "version": 3
   },
   "file_extension": ".py",
   "mimetype": "text/x-python",
   "name": "python",
   "nbconvert_exporter": "python",
   "pygments_lexer": "ipython3",
   "version": "3.7.12"
  },
  "papermill": {
   "default_parameters": {},
   "duration": 64.347654,
   "end_time": "2022-08-30T02:46:48.480038",
   "environment_variables": {},
   "exception": null,
   "input_path": "__notebook__.ipynb",
   "output_path": "__notebook__.ipynb",
   "parameters": {},
   "start_time": "2022-08-30T02:45:44.132384",
   "version": "2.3.4"
  }
 },
 "nbformat": 4,
 "nbformat_minor": 5
}
