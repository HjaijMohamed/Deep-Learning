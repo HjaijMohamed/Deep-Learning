{
 "cells": [
  {
   "cell_type": "code",
   "execution_count": 2,
   "id": "aa211f4c",
   "metadata": {},
   "outputs": [],
   "source": [
    "from keras.datasets import mnist\n",
    "import numpy as np\n",
    "import matplotlib.pyplot as plt"
   ]
  },
  {
   "cell_type": "code",
   "execution_count": 33,
   "id": "463492b6",
   "metadata": {},
   "outputs": [],
   "source": [
    "(x_train,y_train),(x_test,y_test)=mnist.load_data()"
   ]
  },
  {
   "cell_type": "code",
   "execution_count": 63,
   "id": "ee8bd06d",
   "metadata": {},
   "outputs": [
    {
     "name": "stdout",
     "output_type": "stream",
     "text": [
      "(60000, 28, 28) (60000,) (10000, 28, 28) (10000,)\n"
     ]
    }
   ],
   "source": [
    "print(x_train.shape,y_train.shape,x_test.shape,y_test.shape)"
   ]
  },
  {
   "cell_type": "code",
   "execution_count": 64,
   "id": "34c08273",
   "metadata": {},
   "outputs": [
    {
     "data": {
      "text/plain": [
       "<matplotlib.image.AxesImage at 0x181338b9d30>"
      ]
     },
     "execution_count": 64,
     "metadata": {},
     "output_type": "execute_result"
    },
    {
     "data": {
      "image/png": "[encoded data removed]",
      "text/plain": [
       "<Figure size 432x288 with 1 Axes>"
      ]
     },
     "metadata": {
      "needs_background": "light"
     },
     "output_type": "display_data"
    }
   ],
   "source": [
    "plt.imshow(x_train[0])"
   ]
  },
  {
   "cell_type": "code",
   "execution_count": 18,
   "id": "bac182fb",
   "metadata": {},
   "outputs": [],
   "source": [
    "from keras.layers import Dense,Conv2D,Flatten,MaxPooling2D\n",
    "from tensorflow.keras.optimizers import Adam\n",
    "from keras.models import Sequential"
   ]
  },
  {
   "cell_type": "code",
   "execution_count": 40,
   "id": "6e38005a",
   "metadata": {},
   "outputs": [],
   "source": [
    "model=Sequential([\n",
    "    Conv2D(32,(3,3),input_shape=(28,28,1),activation='relu'),\n",
    "    MaxPooling2D((2,2)),\n",
    "    Conv2D(64,(3,3),activation='relu'),\n",
    "    Flatten(),\n",
    "    Dense(256,activation='relu'),\n",
    "    Dense(10,activation='sigmoid')\n",
    "])"
   ]
  },
  {
   "cell_type": "code",
   "execution_count": 41,
   "id": "0920bf2d",
   "metadata": {},
   "outputs": [],
   "source": [
    "model.compile(optimizer='adam',loss='sparse_categorical_crossentropy',metrics=['accuracy'])"
   ]
  },
  {
   "cell_type": "code",
   "execution_count": 34,
   "id": "bccf3303",
   "metadata": {},
   "outputs": [],
   "source": [
    "scaled_x_train=x_train / 255\n",
    "scaled_x_test=x_test / 255"
   ]
  },
  {
   "cell_type": "code",
   "execution_count": 35,
   "id": "654ccd02",
   "metadata": {},
   "outputs": [],
   "source": [
    "scaled_x_train=np.array(scaled_x_train)\n",
    "scaled_x_test=np.array(scaled_x_test)"
   ]
  },
  {
   "cell_type": "code",
   "execution_count": 42,
   "id": "e386be3b",
   "metadata": {},
   "outputs": [
    {
     "name": "stdout",
     "output_type": "stream",
     "text": [
      "Epoch 1/5\n",
      "1875/1875 [==============================] - 71s 37ms/step - loss: 0.1023 - accuracy: 0.9687\n",
      "Epoch 2/5\n",
      "1875/1875 [==============================] - 75s 40ms/step - loss: 0.0359 - accuracy: 0.9884\n",
      "Epoch 3/5\n",
      "1875/1875 [==============================] - 73s 39ms/step - loss: 0.0212 - accuracy: 0.9931\n",
      "Epoch 4/5\n",
      "1875/1875 [==============================] - 69s 37ms/step - loss: 0.0155 - accuracy: 0.9952\n",
      "Epoch 5/5\n",
      "1875/1875 [==============================] - 73s 39ms/step - loss: 0.0100 - accuracy: 0.9967\n"
     ]
    },
    {
     "data": {
      "text/plain": [
       "<keras.callbacks.History at 0x18131c0f2e0>"
      ]
     },
     "execution_count": 42,
     "metadata": {},
     "output_type": "execute_result"
    }
   ],
   "source": [
    "model.fit(scaled_x_train,y_train,epochs=5)"
   ]
  },
  {
   "cell_type": "code",
   "execution_count": 43,
   "id": "e5b61f96",
   "metadata": {},
   "outputs": [],
   "source": [
    "y_predict=model.predict(scaled_x_test)"
   ]
  },
  {
   "cell_type": "code",
   "execution_count": 47,
   "id": "2d2f0c0c",
   "metadata": {},
   "outputs": [
    {
     "data": {
      "text/plain": [
       "(10000, 10)"
      ]
     },
     "execution_count": 47,
     "metadata": {},
     "output_type": "execute_result"
    }
   ],
   "source": [
    "y_predict.shape"
   ]
  },
  {
   "cell_type": "code",
   "execution_count": 56,
   "id": "7d6a3c3f",
   "metadata": {},
   "outputs": [],
   "source": [
    "y_predict_max=np.argmax(y_predict,axis=1)"
   ]
  },
  {
   "cell_type": "code",
   "execution_count": 57,
   "id": "eef1f9a0",
   "metadata": {},
   "outputs": [
    {
     "data": {
      "text/plain": [
       "array([7, 2, 1, ..., 4, 5, 6], dtype=int64)"
      ]
     },
     "execution_count": 57,
     "metadata": {},
     "output_type": "execute_result"
    }
   ],
   "source": [
    "y_predict_max"
   ]
  },
  {
   "cell_type": "code",
   "execution_count": 44,
   "id": "4a119137",
   "metadata": {},
   "outputs": [],
   "source": [
    "from tensorflow.math import confusion_matrix"
   ]
  },
  {
   "cell_type": "code",
   "execution_count": 58,
   "id": "cdbc1576",
   "metadata": {},
   "outputs": [],
   "source": [
    "cm=confusion_matrix(y_test,y_predict_max)"
   ]
  },
  {
   "cell_type": "code",
   "execution_count": 59,
   "id": "9850cf19",
   "metadata": {},
   "outputs": [],
   "source": [
    "import seaborn as sns"
   ]
  },
  {
   "cell_type": "code",
   "execution_count": 62,
   "id": "0079c828",
   "metadata": {},
   "outputs": [
    {
     "data": {
      "text/plain": [
       "<AxesSubplot:>"
      ]
     },
     "execution_count": 62,
     "metadata": {},
     "output_type": "execute_result"
    },
    {
     "data": {
      "image/png": "[encoded data removed]",
      "text/plain": [
       "<Figure size 432x288 with 2 Axes>"
      ]
     },
     "metadata": {
      "needs_background": "light"
     },
     "output_type": "display_data"
    }
   ],
   "source": [
    "sns.heatmap(cm,annot=True,fmt='d')"
   ]
  },
  {
   "cell_type": "code",
   "execution_count": null,
   "id": "aad54696",
   "metadata": {},
   "outputs": [],
   "source": []
  }
 ],
 "metadata": {
  "kernelspec": {
   "display_name": "Python 3 (ipykernel)",
   "language": "python",
   "name": "python3"
  },
  "language_info": {
   "codemirror_mode": {
    "name": "ipython",
    "version": 3
   },
   "file_extension": ".py",
   "mimetype": "text/x-python",
   "name": "python",
   "nbconvert_exporter": "python",
   "pygments_lexer": "ipython3",
   "version": "3.9.7"
  }
 },
 "nbformat": 4,
 "nbformat_minor": 5
}
